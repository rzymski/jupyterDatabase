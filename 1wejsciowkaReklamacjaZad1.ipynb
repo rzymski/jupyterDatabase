{
 "cells": [
  {
   "cell_type": "markdown",
   "metadata": {},
   "source": [
    "# Jupyter database visual studio code"
   ]
  },
  {
   "cell_type": "code",
   "metadata": {
    "ExecuteTime": {
     "end_time": "2024-04-25T06:35:37.388179Z",
     "start_time": "2024-04-25T06:35:36.639236Z"
    }
   },
   "source": [
    "import pandas as pd"
   ],
   "outputs": [],
   "execution_count": 1
  },
  {
   "cell_type": "code",
   "source": [
    "species = [\"Cat\", \"Dog\", \"Rabbit\", \"Cow\"]"
   ],
   "metadata": {
    "collapsed": false,
    "ExecuteTime": {
     "end_time": "2024-04-25T05:59:20.332664Z",
     "start_time": "2024-04-25T05:59:20.284730Z"
    }
   },
   "outputs": [],
   "execution_count": 2
  },
  {
   "cell_type": "code",
   "source": [
    "pd.Series(species)"
   ],
   "metadata": {
    "collapsed": false,
    "ExecuteTime": {
     "end_time": "2024-04-25T05:59:20.358186Z",
     "start_time": "2024-04-25T05:59:20.338671Z"
    }
   },
   "outputs": [
    {
     "data": {
      "text/plain": [
       "0       Cat\n",
       "1       Dog\n",
       "2    Rabbit\n",
       "3       Cow\n",
       "dtype: object"
      ]
     },
     "execution_count": 3,
     "metadata": {},
     "output_type": "execute_result"
    }
   ],
   "execution_count": 3
  },
  {
   "cell_type": "code",
   "source": [
    "animals = pd.DataFrame({\"animal\": species})\n",
    "animals"
   ],
   "metadata": {
    "collapsed": false,
    "ExecuteTime": {
     "end_time": "2024-04-25T05:59:20.383001Z",
     "start_time": "2024-04-25T05:59:20.361199Z"
    }
   },
   "outputs": [
    {
     "data": {
      "text/plain": [
       "   animal\n",
       "0     Cat\n",
       "1     Dog\n",
       "2  Rabbit\n",
       "3     Cow"
      ],
      "text/html": [
       "<div>\n",
       "<style scoped>\n",
       "    .dataframe tbody tr th:only-of-type {\n",
       "        vertical-align: middle;\n",
       "    }\n",
       "\n",
       "    .dataframe tbody tr th {\n",
       "        vertical-align: top;\n",
       "    }\n",
       "\n",
       "    .dataframe thead th {\n",
       "        text-align: right;\n",
       "    }\n",
       "</style>\n",
       "<table border=\"1\" class=\"dataframe\">\n",
       "  <thead>\n",
       "    <tr style=\"text-align: right;\">\n",
       "      <th></th>\n",
       "      <th>animal</th>\n",
       "    </tr>\n",
       "  </thead>\n",
       "  <tbody>\n",
       "    <tr>\n",
       "      <th>0</th>\n",
       "      <td>Cat</td>\n",
       "    </tr>\n",
       "    <tr>\n",
       "      <th>1</th>\n",
       "      <td>Dog</td>\n",
       "    </tr>\n",
       "    <tr>\n",
       "      <th>2</th>\n",
       "      <td>Rabbit</td>\n",
       "    </tr>\n",
       "    <tr>\n",
       "      <th>3</th>\n",
       "      <td>Cow</td>\n",
       "    </tr>\n",
       "  </tbody>\n",
       "</table>\n",
       "</div>"
      ]
     },
     "execution_count": 4,
     "metadata": {},
     "output_type": "execute_result"
    }
   ],
   "execution_count": 4
  },
  {
   "cell_type": "code",
   "source": [
    "animals[\"age\"] = [2, 3, 4, 5]\n",
    "animals"
   ],
   "metadata": {
    "collapsed": false,
    "ExecuteTime": {
     "end_time": "2024-04-25T05:59:25.695492Z",
     "start_time": "2024-04-25T05:59:25.687224Z"
    }
   },
   "outputs": [
    {
     "data": {
      "text/plain": [
       "   animal  age\n",
       "0     Cat    2\n",
       "1     Dog    3\n",
       "2  Rabbit    4\n",
       "3     Cow    5"
      ],
      "text/html": [
       "<div>\n",
       "<style scoped>\n",
       "    .dataframe tbody tr th:only-of-type {\n",
       "        vertical-align: middle;\n",
       "    }\n",
       "\n",
       "    .dataframe tbody tr th {\n",
       "        vertical-align: top;\n",
       "    }\n",
       "\n",
       "    .dataframe thead th {\n",
       "        text-align: right;\n",
       "    }\n",
       "</style>\n",
       "<table border=\"1\" class=\"dataframe\">\n",
       "  <thead>\n",
       "    <tr style=\"text-align: right;\">\n",
       "      <th></th>\n",
       "      <th>animal</th>\n",
       "      <th>age</th>\n",
       "    </tr>\n",
       "  </thead>\n",
       "  <tbody>\n",
       "    <tr>\n",
       "      <th>0</th>\n",
       "      <td>Cat</td>\n",
       "      <td>2</td>\n",
       "    </tr>\n",
       "    <tr>\n",
       "      <th>1</th>\n",
       "      <td>Dog</td>\n",
       "      <td>3</td>\n",
       "    </tr>\n",
       "    <tr>\n",
       "      <th>2</th>\n",
       "      <td>Rabbit</td>\n",
       "      <td>4</td>\n",
       "    </tr>\n",
       "    <tr>\n",
       "      <th>3</th>\n",
       "      <td>Cow</td>\n",
       "      <td>5</td>\n",
       "    </tr>\n",
       "  </tbody>\n",
       "</table>\n",
       "</div>"
      ]
     },
     "execution_count": 5,
     "metadata": {},
     "output_type": "execute_result"
    }
   ],
   "execution_count": 5
  },
  {
   "cell_type": "code",
   "source": [
    "pd.DataFrame([\n",
    "    {\"name\": \"Apoloniusz\", \"age\": 47},\n",
    "    {\"name\": \"Konstantyna\", \"age\": 45}\n",
    "])"
   ],
   "metadata": {
    "collapsed": false,
    "ExecuteTime": {
     "end_time": "2024-04-25T05:59:26.851798Z",
     "start_time": "2024-04-25T05:59:26.843531Z"
    }
   },
   "outputs": [
    {
     "data": {
      "text/plain": [
       "          name  age\n",
       "0   Apoloniusz   47\n",
       "1  Konstantyna   45"
      ],
      "text/html": [
       "<div>\n",
       "<style scoped>\n",
       "    .dataframe tbody tr th:only-of-type {\n",
       "        vertical-align: middle;\n",
       "    }\n",
       "\n",
       "    .dataframe tbody tr th {\n",
       "        vertical-align: top;\n",
       "    }\n",
       "\n",
       "    .dataframe thead th {\n",
       "        text-align: right;\n",
       "    }\n",
       "</style>\n",
       "<table border=\"1\" class=\"dataframe\">\n",
       "  <thead>\n",
       "    <tr style=\"text-align: right;\">\n",
       "      <th></th>\n",
       "      <th>name</th>\n",
       "      <th>age</th>\n",
       "    </tr>\n",
       "  </thead>\n",
       "  <tbody>\n",
       "    <tr>\n",
       "      <th>0</th>\n",
       "      <td>Apoloniusz</td>\n",
       "      <td>47</td>\n",
       "    </tr>\n",
       "    <tr>\n",
       "      <th>1</th>\n",
       "      <td>Konstantyna</td>\n",
       "      <td>45</td>\n",
       "    </tr>\n",
       "  </tbody>\n",
       "</table>\n",
       "</div>"
      ]
     },
     "execution_count": 6,
     "metadata": {},
     "output_type": "execute_result"
    }
   ],
   "execution_count": 6
  },
  {
   "cell_type": "code",
   "source": [
    "persons = pd.DataFrame([\n",
    "    {\"name\": \"Apoloniusz\", \"age\": 27},\n",
    "    {\"name\": \"Konstantyna\", \"age\": 25}\n",
    "], index=[\"A\", \"B\"])\n",
    "persons"
   ],
   "metadata": {
    "collapsed": false,
    "ExecuteTime": {
     "end_time": "2024-04-25T05:59:37.172292Z",
     "start_time": "2024-04-25T05:59:37.161795Z"
    }
   },
   "outputs": [
    {
     "data": {
      "text/plain": [
       "          name  age\n",
       "A   Apoloniusz   27\n",
       "B  Konstantyna   25"
      ],
      "text/html": [
       "<div>\n",
       "<style scoped>\n",
       "    .dataframe tbody tr th:only-of-type {\n",
       "        vertical-align: middle;\n",
       "    }\n",
       "\n",
       "    .dataframe tbody tr th {\n",
       "        vertical-align: top;\n",
       "    }\n",
       "\n",
       "    .dataframe thead th {\n",
       "        text-align: right;\n",
       "    }\n",
       "</style>\n",
       "<table border=\"1\" class=\"dataframe\">\n",
       "  <thead>\n",
       "    <tr style=\"text-align: right;\">\n",
       "      <th></th>\n",
       "      <th>name</th>\n",
       "      <th>age</th>\n",
       "    </tr>\n",
       "  </thead>\n",
       "  <tbody>\n",
       "    <tr>\n",
       "      <th>A</th>\n",
       "      <td>Apoloniusz</td>\n",
       "      <td>27</td>\n",
       "    </tr>\n",
       "    <tr>\n",
       "      <th>B</th>\n",
       "      <td>Konstantyna</td>\n",
       "      <td>25</td>\n",
       "    </tr>\n",
       "  </tbody>\n",
       "</table>\n",
       "</div>"
      ]
     },
     "execution_count": 7,
     "metadata": {},
     "output_type": "execute_result"
    }
   ],
   "execution_count": 7
  },
  {
   "cell_type": "code",
   "source": [
    "df = pd.read_csv(\"Titanic.csv\")\n",
    "df"
   ],
   "metadata": {
    "collapsed": false,
    "ExecuteTime": {
     "end_time": "2024-04-25T06:35:39.505012Z",
     "start_time": "2024-04-25T06:35:39.444377Z"
    }
   },
   "outputs": [
    {
     "data": {
      "text/plain": [
       "                                               Name PClass    Age     Sex  \\\n",
       "0                      Allen, Miss Elisabeth Walton    1st  29.00  female   \n",
       "1                       Allison, Miss Helen Loraine    1st   2.00  female   \n",
       "2               Allison, Mr Hudson Joshua Creighton    1st  30.00    male   \n",
       "3     Allison, Mrs Hudson JC (Bessie Waldo Daniels)    1st  25.00  female   \n",
       "4                     Allison, Master Hudson Trevor    1st   0.92    male   \n",
       "...                                             ...    ...    ...     ...   \n",
       "1308                             Zakarian, Mr Artun    3rd  27.00    male   \n",
       "1309                         Zakarian, Mr Maprieder    3rd  26.00    male   \n",
       "1310                               Zenni, Mr Philip    3rd  22.00    male   \n",
       "1311                               Lievens, Mr Rene    3rd  24.00    male   \n",
       "1312                                 Zimmerman, Leo    3rd  29.00    male   \n",
       "\n",
       "      Survived  \n",
       "0            1  \n",
       "1            0  \n",
       "2            0  \n",
       "3            0  \n",
       "4            1  \n",
       "...        ...  \n",
       "1308         0  \n",
       "1309         0  \n",
       "1310         0  \n",
       "1311         0  \n",
       "1312         0  \n",
       "\n",
       "[1313 rows x 5 columns]"
      ],
      "text/html": [
       "<div>\n",
       "<style scoped>\n",
       "    .dataframe tbody tr th:only-of-type {\n",
       "        vertical-align: middle;\n",
       "    }\n",
       "\n",
       "    .dataframe tbody tr th {\n",
       "        vertical-align: top;\n",
       "    }\n",
       "\n",
       "    .dataframe thead th {\n",
       "        text-align: right;\n",
       "    }\n",
       "</style>\n",
       "<table border=\"1\" class=\"dataframe\">\n",
       "  <thead>\n",
       "    <tr style=\"text-align: right;\">\n",
       "      <th></th>\n",
       "      <th>Name</th>\n",
       "      <th>PClass</th>\n",
       "      <th>Age</th>\n",
       "      <th>Sex</th>\n",
       "      <th>Survived</th>\n",
       "    </tr>\n",
       "  </thead>\n",
       "  <tbody>\n",
       "    <tr>\n",
       "      <th>0</th>\n",
       "      <td>Allen, Miss Elisabeth Walton</td>\n",
       "      <td>1st</td>\n",
       "      <td>29.00</td>\n",
       "      <td>female</td>\n",
       "      <td>1</td>\n",
       "    </tr>\n",
       "    <tr>\n",
       "      <th>1</th>\n",
       "      <td>Allison, Miss Helen Loraine</td>\n",
       "      <td>1st</td>\n",
       "      <td>2.00</td>\n",
       "      <td>female</td>\n",
       "      <td>0</td>\n",
       "    </tr>\n",
       "    <tr>\n",
       "      <th>2</th>\n",
       "      <td>Allison, Mr Hudson Joshua Creighton</td>\n",
       "      <td>1st</td>\n",
       "      <td>30.00</td>\n",
       "      <td>male</td>\n",
       "      <td>0</td>\n",
       "    </tr>\n",
       "    <tr>\n",
       "      <th>3</th>\n",
       "      <td>Allison, Mrs Hudson JC (Bessie Waldo Daniels)</td>\n",
       "      <td>1st</td>\n",
       "      <td>25.00</td>\n",
       "      <td>female</td>\n",
       "      <td>0</td>\n",
       "    </tr>\n",
       "    <tr>\n",
       "      <th>4</th>\n",
       "      <td>Allison, Master Hudson Trevor</td>\n",
       "      <td>1st</td>\n",
       "      <td>0.92</td>\n",
       "      <td>male</td>\n",
       "      <td>1</td>\n",
       "    </tr>\n",
       "    <tr>\n",
       "      <th>...</th>\n",
       "      <td>...</td>\n",
       "      <td>...</td>\n",
       "      <td>...</td>\n",
       "      <td>...</td>\n",
       "      <td>...</td>\n",
       "    </tr>\n",
       "    <tr>\n",
       "      <th>1308</th>\n",
       "      <td>Zakarian, Mr Artun</td>\n",
       "      <td>3rd</td>\n",
       "      <td>27.00</td>\n",
       "      <td>male</td>\n",
       "      <td>0</td>\n",
       "    </tr>\n",
       "    <tr>\n",
       "      <th>1309</th>\n",
       "      <td>Zakarian, Mr Maprieder</td>\n",
       "      <td>3rd</td>\n",
       "      <td>26.00</td>\n",
       "      <td>male</td>\n",
       "      <td>0</td>\n",
       "    </tr>\n",
       "    <tr>\n",
       "      <th>1310</th>\n",
       "      <td>Zenni, Mr Philip</td>\n",
       "      <td>3rd</td>\n",
       "      <td>22.00</td>\n",
       "      <td>male</td>\n",
       "      <td>0</td>\n",
       "    </tr>\n",
       "    <tr>\n",
       "      <th>1311</th>\n",
       "      <td>Lievens, Mr Rene</td>\n",
       "      <td>3rd</td>\n",
       "      <td>24.00</td>\n",
       "      <td>male</td>\n",
       "      <td>0</td>\n",
       "    </tr>\n",
       "    <tr>\n",
       "      <th>1312</th>\n",
       "      <td>Zimmerman, Leo</td>\n",
       "      <td>3rd</td>\n",
       "      <td>29.00</td>\n",
       "      <td>male</td>\n",
       "      <td>0</td>\n",
       "    </tr>\n",
       "  </tbody>\n",
       "</table>\n",
       "<p>1313 rows × 5 columns</p>\n",
       "</div>"
      ]
     },
     "execution_count": 2,
     "metadata": {},
     "output_type": "execute_result"
    }
   ],
   "execution_count": 2
  },
  {
   "cell_type": "code",
   "execution_count": 9,
   "outputs": [
    {
     "data": {
      "text/plain": "                                            Name PClass    Age     Sex  \\\n0                   Allen, Miss Elisabeth Walton    1st  29.00  female   \n1                    Allison, Miss Helen Loraine    1st   2.00  female   \n2            Allison, Mr Hudson Joshua Creighton    1st  30.00    male   \n3  Allison, Mrs Hudson JC (Bessie Waldo Daniels)    1st  25.00  female   \n4                  Allison, Master Hudson Trevor    1st   0.92    male   \n5                             Anderson, Mr Harry    1st  47.00    male   \n6               Andrews, Miss Kornelia Theodosia    1st  63.00  female   \n7                         Andrews, Mr Thomas, jr    1st  39.00    male   \n8   Appleton, Mrs Edward Dale (Charlotte Lamson)    1st  58.00  female   \n9                         Artagaveytia, Mr Ramon    1st  71.00    male   \n\n   Survived  \n0         1  \n1         0  \n2         0  \n3         0  \n4         1  \n5         1  \n6         1  \n7         0  \n8         1  \n9         0  ",
      "text/html": "<div>\n<style scoped>\n    .dataframe tbody tr th:only-of-type {\n        vertical-align: middle;\n    }\n\n    .dataframe tbody tr th {\n        vertical-align: top;\n    }\n\n    .dataframe thead th {\n        text-align: right;\n    }\n</style>\n<table border=\"1\" class=\"dataframe\">\n  <thead>\n    <tr style=\"text-align: right;\">\n      <th></th>\n      <th>Name</th>\n      <th>PClass</th>\n      <th>Age</th>\n      <th>Sex</th>\n      <th>Survived</th>\n    </tr>\n  </thead>\n  <tbody>\n    <tr>\n      <th>0</th>\n      <td>Allen, Miss Elisabeth Walton</td>\n      <td>1st</td>\n      <td>29.00</td>\n      <td>female</td>\n      <td>1</td>\n    </tr>\n    <tr>\n      <th>1</th>\n      <td>Allison, Miss Helen Loraine</td>\n      <td>1st</td>\n      <td>2.00</td>\n      <td>female</td>\n      <td>0</td>\n    </tr>\n    <tr>\n      <th>2</th>\n      <td>Allison, Mr Hudson Joshua Creighton</td>\n      <td>1st</td>\n      <td>30.00</td>\n      <td>male</td>\n      <td>0</td>\n    </tr>\n    <tr>\n      <th>3</th>\n      <td>Allison, Mrs Hudson JC (Bessie Waldo Daniels)</td>\n      <td>1st</td>\n      <td>25.00</td>\n      <td>female</td>\n      <td>0</td>\n    </tr>\n    <tr>\n      <th>4</th>\n      <td>Allison, Master Hudson Trevor</td>\n      <td>1st</td>\n      <td>0.92</td>\n      <td>male</td>\n      <td>1</td>\n    </tr>\n    <tr>\n      <th>5</th>\n      <td>Anderson, Mr Harry</td>\n      <td>1st</td>\n      <td>47.00</td>\n      <td>male</td>\n      <td>1</td>\n    </tr>\n    <tr>\n      <th>6</th>\n      <td>Andrews, Miss Kornelia Theodosia</td>\n      <td>1st</td>\n      <td>63.00</td>\n      <td>female</td>\n      <td>1</td>\n    </tr>\n    <tr>\n      <th>7</th>\n      <td>Andrews, Mr Thomas, jr</td>\n      <td>1st</td>\n      <td>39.00</td>\n      <td>male</td>\n      <td>0</td>\n    </tr>\n    <tr>\n      <th>8</th>\n      <td>Appleton, Mrs Edward Dale (Charlotte Lamson)</td>\n      <td>1st</td>\n      <td>58.00</td>\n      <td>female</td>\n      <td>1</td>\n    </tr>\n    <tr>\n      <th>9</th>\n      <td>Artagaveytia, Mr Ramon</td>\n      <td>1st</td>\n      <td>71.00</td>\n      <td>male</td>\n      <td>0</td>\n    </tr>\n  </tbody>\n</table>\n</div>"
     },
     "execution_count": 9,
     "metadata": {},
     "output_type": "execute_result"
    }
   ],
   "source": [
    "df.head(10)"
   ],
   "metadata": {
    "collapsed": false,
    "ExecuteTime": {
     "end_time": "2024-04-25T04:06:40.111043300Z",
     "start_time": "2024-04-25T04:06:40.107511400Z"
    }
   }
  },
  {
   "cell_type": "code",
   "execution_count": 10,
   "outputs": [
    {
     "data": {
      "text/plain": "                        Name PClass   Age     Sex  Survived\n1303      Yasbeck, Mr Antoni    3rd  27.0    male         0\n1304     Yasbeck, Mrs Antoni    3rd  15.0  female         1\n1305      Youssef, Mr Gerios    3rd   NaN    male         0\n1306     Zabour, Miss Hileni    3rd   NaN  female         0\n1307     Zabour, Miss Tamini    3rd   NaN  female         0\n1308      Zakarian, Mr Artun    3rd  27.0    male         0\n1309  Zakarian, Mr Maprieder    3rd  26.0    male         0\n1310        Zenni, Mr Philip    3rd  22.0    male         0\n1311        Lievens, Mr Rene    3rd  24.0    male         0\n1312          Zimmerman, Leo    3rd  29.0    male         0",
      "text/html": "<div>\n<style scoped>\n    .dataframe tbody tr th:only-of-type {\n        vertical-align: middle;\n    }\n\n    .dataframe tbody tr th {\n        vertical-align: top;\n    }\n\n    .dataframe thead th {\n        text-align: right;\n    }\n</style>\n<table border=\"1\" class=\"dataframe\">\n  <thead>\n    <tr style=\"text-align: right;\">\n      <th></th>\n      <th>Name</th>\n      <th>PClass</th>\n      <th>Age</th>\n      <th>Sex</th>\n      <th>Survived</th>\n    </tr>\n  </thead>\n  <tbody>\n    <tr>\n      <th>1303</th>\n      <td>Yasbeck, Mr Antoni</td>\n      <td>3rd</td>\n      <td>27.0</td>\n      <td>male</td>\n      <td>0</td>\n    </tr>\n    <tr>\n      <th>1304</th>\n      <td>Yasbeck, Mrs Antoni</td>\n      <td>3rd</td>\n      <td>15.0</td>\n      <td>female</td>\n      <td>1</td>\n    </tr>\n    <tr>\n      <th>1305</th>\n      <td>Youssef, Mr Gerios</td>\n      <td>3rd</td>\n      <td>NaN</td>\n      <td>male</td>\n      <td>0</td>\n    </tr>\n    <tr>\n      <th>1306</th>\n      <td>Zabour, Miss Hileni</td>\n      <td>3rd</td>\n      <td>NaN</td>\n      <td>female</td>\n      <td>0</td>\n    </tr>\n    <tr>\n      <th>1307</th>\n      <td>Zabour, Miss Tamini</td>\n      <td>3rd</td>\n      <td>NaN</td>\n      <td>female</td>\n      <td>0</td>\n    </tr>\n    <tr>\n      <th>1308</th>\n      <td>Zakarian, Mr Artun</td>\n      <td>3rd</td>\n      <td>27.0</td>\n      <td>male</td>\n      <td>0</td>\n    </tr>\n    <tr>\n      <th>1309</th>\n      <td>Zakarian, Mr Maprieder</td>\n      <td>3rd</td>\n      <td>26.0</td>\n      <td>male</td>\n      <td>0</td>\n    </tr>\n    <tr>\n      <th>1310</th>\n      <td>Zenni, Mr Philip</td>\n      <td>3rd</td>\n      <td>22.0</td>\n      <td>male</td>\n      <td>0</td>\n    </tr>\n    <tr>\n      <th>1311</th>\n      <td>Lievens, Mr Rene</td>\n      <td>3rd</td>\n      <td>24.0</td>\n      <td>male</td>\n      <td>0</td>\n    </tr>\n    <tr>\n      <th>1312</th>\n      <td>Zimmerman, Leo</td>\n      <td>3rd</td>\n      <td>29.0</td>\n      <td>male</td>\n      <td>0</td>\n    </tr>\n  </tbody>\n</table>\n</div>"
     },
     "execution_count": 10,
     "metadata": {},
     "output_type": "execute_result"
    }
   ],
   "source": [
    "df.tail(10)"
   ],
   "metadata": {
    "collapsed": false,
    "ExecuteTime": {
     "end_time": "2024-04-25T04:06:48.872664600Z",
     "start_time": "2024-04-25T04:06:48.869557600Z"
    }
   }
  },
  {
   "cell_type": "code",
   "execution_count": 11,
   "outputs": [
    {
     "data": {
      "text/plain": "                               Name PClass   Age     Sex  Survived\n417             Giles, Mr Frederick    2nd  21.0    male         0\n781            Drazonovic, Mr Josef    3rd   NaN    male         0\n25      Blackwell, Mr Stephen Weart    1st  45.0    male         0\n204   Porter, Mr Walter Chamberlain    1st  46.0    male         0\n1054           Nosworthy, Richard C    3rd   NaN    male         0\n902               Jonkoff, Mr Lazor    3rd   NaN    male         0\n576              Ware, Mr William J    2nd  23.0    male         0\n1055         jib, Miss Adele Kiamie    3rd   NaN  female         1\n834                Guest, Mr Robert    3rd   NaN    male         0\n803               Foley, Mr William    3rd   NaN    male         0",
      "text/html": "<div>\n<style scoped>\n    .dataframe tbody tr th:only-of-type {\n        vertical-align: middle;\n    }\n\n    .dataframe tbody tr th {\n        vertical-align: top;\n    }\n\n    .dataframe thead th {\n        text-align: right;\n    }\n</style>\n<table border=\"1\" class=\"dataframe\">\n  <thead>\n    <tr style=\"text-align: right;\">\n      <th></th>\n      <th>Name</th>\n      <th>PClass</th>\n      <th>Age</th>\n      <th>Sex</th>\n      <th>Survived</th>\n    </tr>\n  </thead>\n  <tbody>\n    <tr>\n      <th>417</th>\n      <td>Giles, Mr Frederick</td>\n      <td>2nd</td>\n      <td>21.0</td>\n      <td>male</td>\n      <td>0</td>\n    </tr>\n    <tr>\n      <th>781</th>\n      <td>Drazonovic, Mr Josef</td>\n      <td>3rd</td>\n      <td>NaN</td>\n      <td>male</td>\n      <td>0</td>\n    </tr>\n    <tr>\n      <th>25</th>\n      <td>Blackwell, Mr Stephen Weart</td>\n      <td>1st</td>\n      <td>45.0</td>\n      <td>male</td>\n      <td>0</td>\n    </tr>\n    <tr>\n      <th>204</th>\n      <td>Porter, Mr Walter Chamberlain</td>\n      <td>1st</td>\n      <td>46.0</td>\n      <td>male</td>\n      <td>0</td>\n    </tr>\n    <tr>\n      <th>1054</th>\n      <td>Nosworthy, Richard C</td>\n      <td>3rd</td>\n      <td>NaN</td>\n      <td>male</td>\n      <td>0</td>\n    </tr>\n    <tr>\n      <th>902</th>\n      <td>Jonkoff, Mr Lazor</td>\n      <td>3rd</td>\n      <td>NaN</td>\n      <td>male</td>\n      <td>0</td>\n    </tr>\n    <tr>\n      <th>576</th>\n      <td>Ware, Mr William J</td>\n      <td>2nd</td>\n      <td>23.0</td>\n      <td>male</td>\n      <td>0</td>\n    </tr>\n    <tr>\n      <th>1055</th>\n      <td>jib, Miss Adele Kiamie</td>\n      <td>3rd</td>\n      <td>NaN</td>\n      <td>female</td>\n      <td>1</td>\n    </tr>\n    <tr>\n      <th>834</th>\n      <td>Guest, Mr Robert</td>\n      <td>3rd</td>\n      <td>NaN</td>\n      <td>male</td>\n      <td>0</td>\n    </tr>\n    <tr>\n      <th>803</th>\n      <td>Foley, Mr William</td>\n      <td>3rd</td>\n      <td>NaN</td>\n      <td>male</td>\n      <td>0</td>\n    </tr>\n  </tbody>\n</table>\n</div>"
     },
     "execution_count": 11,
     "metadata": {},
     "output_type": "execute_result"
    }
   ],
   "source": [
    "df.sample(10)"
   ],
   "metadata": {
    "collapsed": false,
    "ExecuteTime": {
     "end_time": "2024-04-25T04:06:54.583004700Z",
     "start_time": "2024-04-25T04:06:54.580733200Z"
    }
   }
  },
  {
   "cell_type": "code",
   "execution_count": 13,
   "outputs": [
    {
     "data": {
      "text/plain": "(1313, 5)"
     },
     "execution_count": 13,
     "metadata": {},
     "output_type": "execute_result"
    }
   ],
   "source": [
    "df.shape"
   ],
   "metadata": {
    "collapsed": false,
    "ExecuteTime": {
     "end_time": "2024-04-25T04:07:17.069592700Z",
     "start_time": "2024-04-25T04:07:17.065074300Z"
    }
   }
  },
  {
   "cell_type": "code",
   "execution_count": 14,
   "outputs": [
    {
     "name": "stdout",
     "output_type": "stream",
     "text": [
      "<class 'pandas.core.frame.DataFrame'>\n",
      "RangeIndex: 1313 entries, 0 to 1312\n",
      "Data columns (total 5 columns):\n",
      " #   Column    Non-Null Count  Dtype  \n",
      "---  ------    --------------  -----  \n",
      " 0   Name      1313 non-null   object \n",
      " 1   PClass    1312 non-null   object \n",
      " 2   Age       756 non-null    float64\n",
      " 3   Sex       1313 non-null   object \n",
      " 4   Survived  1313 non-null   int64  \n",
      "dtypes: float64(1), int64(1), object(3)\n",
      "memory usage: 51.4+ KB\n"
     ]
    }
   ],
   "source": [
    "df.info()"
   ],
   "metadata": {
    "collapsed": false,
    "ExecuteTime": {
     "end_time": "2024-04-25T04:07:25.538141200Z",
     "start_time": "2024-04-25T04:07:25.534134700Z"
    }
   }
  },
  {
   "cell_type": "code",
   "execution_count": 15,
   "outputs": [
    {
     "data": {
      "text/plain": "              Age     Survived\ncount  756.000000  1313.000000\nmean    30.397989     0.342727\nstd     14.259049     0.474802\nmin      0.170000     0.000000\n25%     21.000000     0.000000\n50%     28.000000     0.000000\n75%     39.000000     1.000000\nmax     71.000000     1.000000",
      "text/html": "<div>\n<style scoped>\n    .dataframe tbody tr th:only-of-type {\n        vertical-align: middle;\n    }\n\n    .dataframe tbody tr th {\n        vertical-align: top;\n    }\n\n    .dataframe thead th {\n        text-align: right;\n    }\n</style>\n<table border=\"1\" class=\"dataframe\">\n  <thead>\n    <tr style=\"text-align: right;\">\n      <th></th>\n      <th>Age</th>\n      <th>Survived</th>\n    </tr>\n  </thead>\n  <tbody>\n    <tr>\n      <th>count</th>\n      <td>756.000000</td>\n      <td>1313.000000</td>\n    </tr>\n    <tr>\n      <th>mean</th>\n      <td>30.397989</td>\n      <td>0.342727</td>\n    </tr>\n    <tr>\n      <th>std</th>\n      <td>14.259049</td>\n      <td>0.474802</td>\n    </tr>\n    <tr>\n      <th>min</th>\n      <td>0.170000</td>\n      <td>0.000000</td>\n    </tr>\n    <tr>\n      <th>25%</th>\n      <td>21.000000</td>\n      <td>0.000000</td>\n    </tr>\n    <tr>\n      <th>50%</th>\n      <td>28.000000</td>\n      <td>0.000000</td>\n    </tr>\n    <tr>\n      <th>75%</th>\n      <td>39.000000</td>\n      <td>1.000000</td>\n    </tr>\n    <tr>\n      <th>max</th>\n      <td>71.000000</td>\n      <td>1.000000</td>\n    </tr>\n  </tbody>\n</table>\n</div>"
     },
     "execution_count": 15,
     "metadata": {},
     "output_type": "execute_result"
    }
   ],
   "source": [
    "df.describe()"
   ],
   "metadata": {
    "collapsed": false,
    "ExecuteTime": {
     "end_time": "2024-04-25T04:11:07.613403400Z",
     "start_time": "2024-04-25T04:11:07.605154900Z"
    }
   }
  },
  {
   "cell_type": "code",
   "execution_count": 19,
   "outputs": [
    {
     "data": {
      "text/plain": "(756, 22980.88, 30.397989417989418, 28.0)"
     },
     "execution_count": 19,
     "metadata": {},
     "output_type": "execute_result"
    }
   ],
   "source": [
    "column = df[\"Age\"]\n",
    "column.count(), column.sum(), column.mean(), column.quantile(0.5)"
   ],
   "metadata": {
    "collapsed": false,
    "ExecuteTime": {
     "end_time": "2024-04-25T04:14:36.959329700Z",
     "start_time": "2024-04-25T04:14:36.947666800Z"
    }
   }
  },
  {
   "cell_type": "code",
   "execution_count": 20,
   "outputs": [
    {
     "data": {
      "text/plain": "PClass\n3rd    711\n1st    322\n2nd    279\nName: count, dtype: int64"
     },
     "execution_count": 20,
     "metadata": {},
     "output_type": "execute_result"
    }
   ],
   "source": [
    "df[\"PClass\"].value_counts()"
   ],
   "metadata": {
    "collapsed": false,
    "ExecuteTime": {
     "end_time": "2024-04-25T04:15:46.591707200Z",
     "start_time": "2024-04-25T04:15:46.587699300Z"
    }
   }
  },
  {
   "cell_type": "code",
   "execution_count": 21,
   "outputs": [
    {
     "data": {
      "text/plain": "Age\n22.00    35\n30.00    31\n21.00    31\n18.00    30\n36.00    29\n         ..\n0.80      1\n67.00     1\n0.33      1\n0.17      1\n69.00     1\nName: count, Length: 75, dtype: int64"
     },
     "execution_count": 21,
     "metadata": {},
     "output_type": "execute_result"
    }
   ],
   "source": [
    "df[\"Age\"].value_counts()"
   ],
   "metadata": {
    "collapsed": false,
    "ExecuteTime": {
     "end_time": "2024-04-25T04:15:54.747585300Z",
     "start_time": "2024-04-25T04:15:54.724909900Z"
    }
   }
  },
  {
   "cell_type": "code",
   "execution_count": 28,
   "outputs": [
    {
     "data": {
      "text/plain": "Age\n69.00     1\n0.92      1\n7.00      1\n70.00     1\n0.17      1\n         ..\n36.00    29\n18.00    30\n21.00    31\n30.00    31\n22.00    35\nName: count, Length: 75, dtype: int64"
     },
     "execution_count": 28,
     "metadata": {},
     "output_type": "execute_result"
    }
   ],
   "source": [
    "df[\"\"].value_counts().sort_values()"
   ],
   "metadata": {
    "collapsed": false,
    "ExecuteTime": {
     "end_time": "2024-04-25T04:17:53.791551900Z",
     "start_time": "2024-04-25T04:17:53.784796400Z"
    }
   }
  },
  {
   "cell_type": "code",
   "execution_count": 29,
   "outputs": [],
   "source": [
    "bd = pd.read_csv(\"Titanic.csv\")"
   ],
   "metadata": {
    "collapsed": false,
    "ExecuteTime": {
     "end_time": "2024-04-25T04:18:24.475658600Z",
     "start_time": "2024-04-25T04:18:24.463620500Z"
    }
   }
  },
  {
   "cell_type": "code",
   "execution_count": 30,
   "outputs": [
    {
     "data": {
      "text/plain": "                                  Name PClass   Age     Sex  Survived\n272                     Weir, Col John    1st  60.0    male         0\n1031           Morley, Mr Henry Samuel    3rd   NaN    male         0\n475                 Lemore, Mrs Amelia    2nd  34.0  female         1\n1091             Olsson, Mr Nils Johan    3rd   NaN    male         0\n589   West, Mrs Edwy Arthur (Ada Mary)    2nd  33.0  female         1\n866            Hirvonen, Miss Hildur E    3rd   2.0  female         0\n796              Everett, Thomas James    3rd   NaN    male         0\n976                  Lulich, Mr Nicola    3rd   NaN    male         1\n183                  Mock, Mr Philip E    1st   NaN    male         1\n223               Saalfeld, Mr Adolphe    1st   NaN    male         1",
      "text/html": "<div>\n<style scoped>\n    .dataframe tbody tr th:only-of-type {\n        vertical-align: middle;\n    }\n\n    .dataframe tbody tr th {\n        vertical-align: top;\n    }\n\n    .dataframe thead th {\n        text-align: right;\n    }\n</style>\n<table border=\"1\" class=\"dataframe\">\n  <thead>\n    <tr style=\"text-align: right;\">\n      <th></th>\n      <th>Name</th>\n      <th>PClass</th>\n      <th>Age</th>\n      <th>Sex</th>\n      <th>Survived</th>\n    </tr>\n  </thead>\n  <tbody>\n    <tr>\n      <th>272</th>\n      <td>Weir, Col John</td>\n      <td>1st</td>\n      <td>60.0</td>\n      <td>male</td>\n      <td>0</td>\n    </tr>\n    <tr>\n      <th>1031</th>\n      <td>Morley, Mr Henry Samuel</td>\n      <td>3rd</td>\n      <td>NaN</td>\n      <td>male</td>\n      <td>0</td>\n    </tr>\n    <tr>\n      <th>475</th>\n      <td>Lemore, Mrs Amelia</td>\n      <td>2nd</td>\n      <td>34.0</td>\n      <td>female</td>\n      <td>1</td>\n    </tr>\n    <tr>\n      <th>1091</th>\n      <td>Olsson, Mr Nils Johan</td>\n      <td>3rd</td>\n      <td>NaN</td>\n      <td>male</td>\n      <td>0</td>\n    </tr>\n    <tr>\n      <th>589</th>\n      <td>West, Mrs Edwy Arthur (Ada Mary)</td>\n      <td>2nd</td>\n      <td>33.0</td>\n      <td>female</td>\n      <td>1</td>\n    </tr>\n    <tr>\n      <th>866</th>\n      <td>Hirvonen, Miss Hildur E</td>\n      <td>3rd</td>\n      <td>2.0</td>\n      <td>female</td>\n      <td>0</td>\n    </tr>\n    <tr>\n      <th>796</th>\n      <td>Everett, Thomas James</td>\n      <td>3rd</td>\n      <td>NaN</td>\n      <td>male</td>\n      <td>0</td>\n    </tr>\n    <tr>\n      <th>976</th>\n      <td>Lulich, Mr Nicola</td>\n      <td>3rd</td>\n      <td>NaN</td>\n      <td>male</td>\n      <td>1</td>\n    </tr>\n    <tr>\n      <th>183</th>\n      <td>Mock, Mr Philip E</td>\n      <td>1st</td>\n      <td>NaN</td>\n      <td>male</td>\n      <td>1</td>\n    </tr>\n    <tr>\n      <th>223</th>\n      <td>Saalfeld, Mr Adolphe</td>\n      <td>1st</td>\n      <td>NaN</td>\n      <td>male</td>\n      <td>1</td>\n    </tr>\n  </tbody>\n</table>\n</div>"
     },
     "execution_count": 30,
     "metadata": {},
     "output_type": "execute_result"
    }
   ],
   "source": [
    "bd.sample(10)"
   ],
   "metadata": {
    "collapsed": false,
    "ExecuteTime": {
     "end_time": "2024-04-25T04:18:33.753495Z",
     "start_time": "2024-04-25T04:18:33.749489200Z"
    }
   }
  },
  {
   "cell_type": "code",
   "execution_count": 31,
   "outputs": [
    {
     "data": {
      "text/plain": "(1313, 5)"
     },
     "execution_count": 31,
     "metadata": {},
     "output_type": "execute_result"
    }
   ],
   "source": [
    "bd.shape"
   ],
   "metadata": {
    "collapsed": false,
    "ExecuteTime": {
     "end_time": "2024-04-25T04:18:45.873816700Z",
     "start_time": "2024-04-25T04:18:45.869816200Z"
    }
   }
  },
  {
   "cell_type": "code",
   "execution_count": 33,
   "outputs": [
    {
     "data": {
      "text/plain": "                                               Name PClass    Age     Sex  \\\n0                      Allen, Miss Elisabeth Walton    1st  29.00  female   \n1                       Allison, Miss Helen Loraine    1st   2.00  female   \n2               Allison, Mr Hudson Joshua Creighton    1st  30.00    male   \n3     Allison, Mrs Hudson JC (Bessie Waldo Daniels)    1st  25.00  female   \n4                     Allison, Master Hudson Trevor    1st   0.92    male   \n...                                             ...    ...    ...     ...   \n1308                             Zakarian, Mr Artun    3rd  27.00    male   \n1309                         Zakarian, Mr Maprieder    3rd  26.00    male   \n1310                               Zenni, Mr Philip    3rd  22.00    male   \n1311                               Lievens, Mr Rene    3rd  24.00    male   \n1312                                 Zimmerman, Leo    3rd  29.00    male   \n\n      Survived  \n0            1  \n1            0  \n2            0  \n3            0  \n4            1  \n...        ...  \n1308         0  \n1309         0  \n1310         0  \n1311         0  \n1312         0  \n\n[1313 rows x 5 columns]",
      "text/html": "<div>\n<style scoped>\n    .dataframe tbody tr th:only-of-type {\n        vertical-align: middle;\n    }\n\n    .dataframe tbody tr th {\n        vertical-align: top;\n    }\n\n    .dataframe thead th {\n        text-align: right;\n    }\n</style>\n<table border=\"1\" class=\"dataframe\">\n  <thead>\n    <tr style=\"text-align: right;\">\n      <th></th>\n      <th>Name</th>\n      <th>PClass</th>\n      <th>Age</th>\n      <th>Sex</th>\n      <th>Survived</th>\n    </tr>\n  </thead>\n  <tbody>\n    <tr>\n      <th>0</th>\n      <td>Allen, Miss Elisabeth Walton</td>\n      <td>1st</td>\n      <td>29.00</td>\n      <td>female</td>\n      <td>1</td>\n    </tr>\n    <tr>\n      <th>1</th>\n      <td>Allison, Miss Helen Loraine</td>\n      <td>1st</td>\n      <td>2.00</td>\n      <td>female</td>\n      <td>0</td>\n    </tr>\n    <tr>\n      <th>2</th>\n      <td>Allison, Mr Hudson Joshua Creighton</td>\n      <td>1st</td>\n      <td>30.00</td>\n      <td>male</td>\n      <td>0</td>\n    </tr>\n    <tr>\n      <th>3</th>\n      <td>Allison, Mrs Hudson JC (Bessie Waldo Daniels)</td>\n      <td>1st</td>\n      <td>25.00</td>\n      <td>female</td>\n      <td>0</td>\n    </tr>\n    <tr>\n      <th>4</th>\n      <td>Allison, Master Hudson Trevor</td>\n      <td>1st</td>\n      <td>0.92</td>\n      <td>male</td>\n      <td>1</td>\n    </tr>\n    <tr>\n      <th>...</th>\n      <td>...</td>\n      <td>...</td>\n      <td>...</td>\n      <td>...</td>\n      <td>...</td>\n    </tr>\n    <tr>\n      <th>1308</th>\n      <td>Zakarian, Mr Artun</td>\n      <td>3rd</td>\n      <td>27.00</td>\n      <td>male</td>\n      <td>0</td>\n    </tr>\n    <tr>\n      <th>1309</th>\n      <td>Zakarian, Mr Maprieder</td>\n      <td>3rd</td>\n      <td>26.00</td>\n      <td>male</td>\n      <td>0</td>\n    </tr>\n    <tr>\n      <th>1310</th>\n      <td>Zenni, Mr Philip</td>\n      <td>3rd</td>\n      <td>22.00</td>\n      <td>male</td>\n      <td>0</td>\n    </tr>\n    <tr>\n      <th>1311</th>\n      <td>Lievens, Mr Rene</td>\n      <td>3rd</td>\n      <td>24.00</td>\n      <td>male</td>\n      <td>0</td>\n    </tr>\n    <tr>\n      <th>1312</th>\n      <td>Zimmerman, Leo</td>\n      <td>3rd</td>\n      <td>29.00</td>\n      <td>male</td>\n      <td>0</td>\n    </tr>\n  </tbody>\n</table>\n<p>1313 rows × 5 columns</p>\n</div>"
     },
     "execution_count": 33,
     "metadata": {},
     "output_type": "execute_result"
    }
   ],
   "source": [
    "pd.DataFrame(bd)"
   ],
   "metadata": {
    "collapsed": false,
    "ExecuteTime": {
     "end_time": "2024-04-25T04:19:35.431153Z",
     "start_time": "2024-04-25T04:19:35.423602400Z"
    }
   }
  },
  {
   "cell_type": "code",
   "execution_count": 32,
   "outputs": [
    {
     "name": "stdout",
     "output_type": "stream",
     "text": [
      "<class 'pandas.core.frame.DataFrame'>\n",
      "RangeIndex: 1313 entries, 0 to 1312\n",
      "Data columns (total 5 columns):\n",
      " #   Column    Non-Null Count  Dtype  \n",
      "---  ------    --------------  -----  \n",
      " 0   Name      1313 non-null   object \n",
      " 1   PClass    1312 non-null   object \n",
      " 2   Age       756 non-null    float64\n",
      " 3   Sex       1313 non-null   object \n",
      " 4   Survived  1313 non-null   int64  \n",
      "dtypes: float64(1), int64(1), object(3)\n",
      "memory usage: 51.4+ KB\n"
     ]
    }
   ],
   "source": [
    "bd.info()"
   ],
   "metadata": {
    "collapsed": false,
    "ExecuteTime": {
     "end_time": "2024-04-25T04:18:53.684814500Z",
     "start_time": "2024-04-25T04:18:53.677297900Z"
    }
   }
  },
  {
   "cell_type": "code",
   "execution_count": 37,
   "outputs": [
    {
     "data": {
      "text/plain": "                                               Name PClass    Age     Sex  \\\n0                      Allen, Miss Elisabeth Walton    1st  29.00  female   \n1                       Allison, Miss Helen Loraine    1st   2.00  female   \n2               Allison, Mr Hudson Joshua Creighton    1st  30.00    male   \n3     Allison, Mrs Hudson JC (Bessie Waldo Daniels)    1st  25.00  female   \n4                     Allison, Master Hudson Trevor    1st   0.92    male   \n...                                             ...    ...    ...     ...   \n1308                             Zakarian, Mr Artun    3rd  27.00    male   \n1309                         Zakarian, Mr Maprieder    3rd  26.00    male   \n1310                               Zenni, Mr Philip    3rd  22.00    male   \n1311                               Lievens, Mr Rene    3rd  24.00    male   \n1312                                 Zimmerman, Leo    3rd  29.00    male   \n\n      Survived  \n0            1  \n1            0  \n2            0  \n3            0  \n4            1  \n...        ...  \n1308         0  \n1309         0  \n1310         0  \n1311         0  \n1312         0  \n\n[1313 rows x 5 columns]",
      "text/html": "<div>\n<style scoped>\n    .dataframe tbody tr th:only-of-type {\n        vertical-align: middle;\n    }\n\n    .dataframe tbody tr th {\n        vertical-align: top;\n    }\n\n    .dataframe thead th {\n        text-align: right;\n    }\n</style>\n<table border=\"1\" class=\"dataframe\">\n  <thead>\n    <tr style=\"text-align: right;\">\n      <th></th>\n      <th>Name</th>\n      <th>PClass</th>\n      <th>Age</th>\n      <th>Sex</th>\n      <th>Survived</th>\n    </tr>\n  </thead>\n  <tbody>\n    <tr>\n      <th>0</th>\n      <td>Allen, Miss Elisabeth Walton</td>\n      <td>1st</td>\n      <td>29.00</td>\n      <td>female</td>\n      <td>1</td>\n    </tr>\n    <tr>\n      <th>1</th>\n      <td>Allison, Miss Helen Loraine</td>\n      <td>1st</td>\n      <td>2.00</td>\n      <td>female</td>\n      <td>0</td>\n    </tr>\n    <tr>\n      <th>2</th>\n      <td>Allison, Mr Hudson Joshua Creighton</td>\n      <td>1st</td>\n      <td>30.00</td>\n      <td>male</td>\n      <td>0</td>\n    </tr>\n    <tr>\n      <th>3</th>\n      <td>Allison, Mrs Hudson JC (Bessie Waldo Daniels)</td>\n      <td>1st</td>\n      <td>25.00</td>\n      <td>female</td>\n      <td>0</td>\n    </tr>\n    <tr>\n      <th>4</th>\n      <td>Allison, Master Hudson Trevor</td>\n      <td>1st</td>\n      <td>0.92</td>\n      <td>male</td>\n      <td>1</td>\n    </tr>\n    <tr>\n      <th>...</th>\n      <td>...</td>\n      <td>...</td>\n      <td>...</td>\n      <td>...</td>\n      <td>...</td>\n    </tr>\n    <tr>\n      <th>1308</th>\n      <td>Zakarian, Mr Artun</td>\n      <td>3rd</td>\n      <td>27.00</td>\n      <td>male</td>\n      <td>0</td>\n    </tr>\n    <tr>\n      <th>1309</th>\n      <td>Zakarian, Mr Maprieder</td>\n      <td>3rd</td>\n      <td>26.00</td>\n      <td>male</td>\n      <td>0</td>\n    </tr>\n    <tr>\n      <th>1310</th>\n      <td>Zenni, Mr Philip</td>\n      <td>3rd</td>\n      <td>22.00</td>\n      <td>male</td>\n      <td>0</td>\n    </tr>\n    <tr>\n      <th>1311</th>\n      <td>Lievens, Mr Rene</td>\n      <td>3rd</td>\n      <td>24.00</td>\n      <td>male</td>\n      <td>0</td>\n    </tr>\n    <tr>\n      <th>1312</th>\n      <td>Zimmerman, Leo</td>\n      <td>3rd</td>\n      <td>29.00</td>\n      <td>male</td>\n      <td>0</td>\n    </tr>\n  </tbody>\n</table>\n<p>1313 rows × 5 columns</p>\n</div>"
     },
     "execution_count": 37,
     "metadata": {},
     "output_type": "execute_result"
    }
   ],
   "source": [
    "bdm = bd.fillna(bd.median(numeric_only=True))\n",
    "bdm"
   ],
   "metadata": {
    "collapsed": false,
    "ExecuteTime": {
     "end_time": "2024-04-25T04:20:42.828615100Z",
     "start_time": "2024-04-25T04:20:42.802086100Z"
    }
   }
  },
  {
   "cell_type": "code",
   "execution_count": 42,
   "outputs": [
    {
     "data": {
      "text/plain": "                                                   Name PClass   Age     Sex  \\\n505                          Mitchell, Mr Henry Michael    2nd  71.0    male   \n119                            Goldschmidt, Mr George B    1st  71.0    male   \n9                                Artagaveytia, Mr Ramon    1st  71.0    male   \n72                       Crosby, Captain Edward Gifford    1st  70.0    male   \n73    Crosby, Mrs Edward Gifford (Catherine Elizabet...    1st  69.0  female   \n...                                                 ...    ...   ...     ...   \n1300                              Wiseman, Mr Phillippe    3rd   NaN    male   \n1302                                  Yalsevac, Mr Ivan    3rd   NaN    male   \n1305                                 Youssef, Mr Gerios    3rd   NaN    male   \n1306                                Zabour, Miss Hileni    3rd   NaN  female   \n1307                                Zabour, Miss Tamini    3rd   NaN  female   \n\n      Survived  \n505          0  \n119          0  \n9            0  \n72           0  \n73           1  \n...        ...  \n1300         0  \n1302         1  \n1305         0  \n1306         0  \n1307         0  \n\n[1313 rows x 5 columns]",
      "text/html": "<div>\n<style scoped>\n    .dataframe tbody tr th:only-of-type {\n        vertical-align: middle;\n    }\n\n    .dataframe tbody tr th {\n        vertical-align: top;\n    }\n\n    .dataframe thead th {\n        text-align: right;\n    }\n</style>\n<table border=\"1\" class=\"dataframe\">\n  <thead>\n    <tr style=\"text-align: right;\">\n      <th></th>\n      <th>Name</th>\n      <th>PClass</th>\n      <th>Age</th>\n      <th>Sex</th>\n      <th>Survived</th>\n    </tr>\n  </thead>\n  <tbody>\n    <tr>\n      <th>505</th>\n      <td>Mitchell, Mr Henry Michael</td>\n      <td>2nd</td>\n      <td>71.0</td>\n      <td>male</td>\n      <td>0</td>\n    </tr>\n    <tr>\n      <th>119</th>\n      <td>Goldschmidt, Mr George B</td>\n      <td>1st</td>\n      <td>71.0</td>\n      <td>male</td>\n      <td>0</td>\n    </tr>\n    <tr>\n      <th>9</th>\n      <td>Artagaveytia, Mr Ramon</td>\n      <td>1st</td>\n      <td>71.0</td>\n      <td>male</td>\n      <td>0</td>\n    </tr>\n    <tr>\n      <th>72</th>\n      <td>Crosby, Captain Edward Gifford</td>\n      <td>1st</td>\n      <td>70.0</td>\n      <td>male</td>\n      <td>0</td>\n    </tr>\n    <tr>\n      <th>73</th>\n      <td>Crosby, Mrs Edward Gifford (Catherine Elizabet...</td>\n      <td>1st</td>\n      <td>69.0</td>\n      <td>female</td>\n      <td>1</td>\n    </tr>\n    <tr>\n      <th>...</th>\n      <td>...</td>\n      <td>...</td>\n      <td>...</td>\n      <td>...</td>\n      <td>...</td>\n    </tr>\n    <tr>\n      <th>1300</th>\n      <td>Wiseman, Mr Phillippe</td>\n      <td>3rd</td>\n      <td>NaN</td>\n      <td>male</td>\n      <td>0</td>\n    </tr>\n    <tr>\n      <th>1302</th>\n      <td>Yalsevac, Mr Ivan</td>\n      <td>3rd</td>\n      <td>NaN</td>\n      <td>male</td>\n      <td>1</td>\n    </tr>\n    <tr>\n      <th>1305</th>\n      <td>Youssef, Mr Gerios</td>\n      <td>3rd</td>\n      <td>NaN</td>\n      <td>male</td>\n      <td>0</td>\n    </tr>\n    <tr>\n      <th>1306</th>\n      <td>Zabour, Miss Hileni</td>\n      <td>3rd</td>\n      <td>NaN</td>\n      <td>female</td>\n      <td>0</td>\n    </tr>\n    <tr>\n      <th>1307</th>\n      <td>Zabour, Miss Tamini</td>\n      <td>3rd</td>\n      <td>NaN</td>\n      <td>female</td>\n      <td>0</td>\n    </tr>\n  </tbody>\n</table>\n<p>1313 rows × 5 columns</p>\n</div>"
     },
     "execution_count": 42,
     "metadata": {},
     "output_type": "execute_result"
    }
   ],
   "source": [
    "bds = bd.sort_values(\"Age\", ascending=False)\n",
    "bds"
   ],
   "metadata": {
    "collapsed": false,
    "ExecuteTime": {
     "end_time": "2024-04-25T04:21:58.313873300Z",
     "start_time": "2024-04-25T04:21:58.306662400Z"
    }
   }
  },
  {
   "cell_type": "code",
   "execution_count": 48,
   "outputs": [
    {
     "data": {
      "text/plain": "                                         Name PClass    Age   Sex  Survived\n4               Allison, Master Hudson Trevor    1st   0.92  male         1\n18                 Beckwith, Mr Richard Leord    1st  37.00  male         1\n20                       Behr, Mr Karl Howell    1st  26.00  male         1\n22                     Bishop, Mr Dickinson H    1st  25.00  male         1\n24    Bjornstrm-Steffansson, Mr Mauritz Hakan    1st  28.00  male         1\n...                                       ...    ...    ...   ...       ...\n940                      Krekorian, Mr Neshan    3rd  25.00  male         1\n948                             Lang, Mr Fang    3rd  26.00  male         1\n968                   Lindqvist, Eino William    3rd  20.00  male         1\n1258              Tornquist, Mr William Henry    3rd  25.00  male         1\n1279                      Vartunian, Mr David    3rd  22.00  male         1\n\n[79 rows x 5 columns]",
      "text/html": "<div>\n<style scoped>\n    .dataframe tbody tr th:only-of-type {\n        vertical-align: middle;\n    }\n\n    .dataframe tbody tr th {\n        vertical-align: top;\n    }\n\n    .dataframe thead th {\n        text-align: right;\n    }\n</style>\n<table border=\"1\" class=\"dataframe\">\n  <thead>\n    <tr style=\"text-align: right;\">\n      <th></th>\n      <th>Name</th>\n      <th>PClass</th>\n      <th>Age</th>\n      <th>Sex</th>\n      <th>Survived</th>\n    </tr>\n  </thead>\n  <tbody>\n    <tr>\n      <th>4</th>\n      <td>Allison, Master Hudson Trevor</td>\n      <td>1st</td>\n      <td>0.92</td>\n      <td>male</td>\n      <td>1</td>\n    </tr>\n    <tr>\n      <th>18</th>\n      <td>Beckwith, Mr Richard Leord</td>\n      <td>1st</td>\n      <td>37.00</td>\n      <td>male</td>\n      <td>1</td>\n    </tr>\n    <tr>\n      <th>20</th>\n      <td>Behr, Mr Karl Howell</td>\n      <td>1st</td>\n      <td>26.00</td>\n      <td>male</td>\n      <td>1</td>\n    </tr>\n    <tr>\n      <th>22</th>\n      <td>Bishop, Mr Dickinson H</td>\n      <td>1st</td>\n      <td>25.00</td>\n      <td>male</td>\n      <td>1</td>\n    </tr>\n    <tr>\n      <th>24</th>\n      <td>Bjornstrm-Steffansson, Mr Mauritz Hakan</td>\n      <td>1st</td>\n      <td>28.00</td>\n      <td>male</td>\n      <td>1</td>\n    </tr>\n    <tr>\n      <th>...</th>\n      <td>...</td>\n      <td>...</td>\n      <td>...</td>\n      <td>...</td>\n      <td>...</td>\n    </tr>\n    <tr>\n      <th>940</th>\n      <td>Krekorian, Mr Neshan</td>\n      <td>3rd</td>\n      <td>25.00</td>\n      <td>male</td>\n      <td>1</td>\n    </tr>\n    <tr>\n      <th>948</th>\n      <td>Lang, Mr Fang</td>\n      <td>3rd</td>\n      <td>26.00</td>\n      <td>male</td>\n      <td>1</td>\n    </tr>\n    <tr>\n      <th>968</th>\n      <td>Lindqvist, Eino William</td>\n      <td>3rd</td>\n      <td>20.00</td>\n      <td>male</td>\n      <td>1</td>\n    </tr>\n    <tr>\n      <th>1258</th>\n      <td>Tornquist, Mr William Henry</td>\n      <td>3rd</td>\n      <td>25.00</td>\n      <td>male</td>\n      <td>1</td>\n    </tr>\n    <tr>\n      <th>1279</th>\n      <td>Vartunian, Mr David</td>\n      <td>3rd</td>\n      <td>22.00</td>\n      <td>male</td>\n      <td>1</td>\n    </tr>\n  </tbody>\n</table>\n<p>79 rows × 5 columns</p>\n</div>"
     },
     "execution_count": 48,
     "metadata": {},
     "output_type": "execute_result"
    }
   ],
   "source": [
    "bdp = bd[(bd[\"Sex\"] == \"male\") & (bd[\"Survived\"] == 1) & (bd[\"Age\"] <= 40)]\n",
    "bdp"
   ],
   "metadata": {
    "collapsed": false,
    "ExecuteTime": {
     "end_time": "2024-04-25T04:25:05.516278400Z",
     "start_time": "2024-04-25T04:25:05.508089Z"
    }
   }
  },
  {
   "cell_type": "code",
   "execution_count": 54,
   "outputs": [
    {
     "data": {
      "text/plain": "                                        Name PClass   Age   Sex  Survived\n751   Danbom, Master Gilbert Sigvard Emanuel    3rd  0.33  male         0\n544           Richards, Master George Sidney    2nd  0.80  male         1\n358             Caldwell, Master Alden Gates    2nd  0.83  male         1\n616                       Aks, Master Philip    3rd  0.83  male         1\n4              Allison, Master Hudson Trevor    1st  0.92  male         1\n...                                      ...    ...   ...   ...       ...\n1295                       Willey, Mr Edward    3rd   NaN  male         0\n1296                Williams, Mr Howard Hugh    3rd   NaN  male         0\n1300                   Wiseman, Mr Phillippe    3rd   NaN  male         0\n1302                       Yalsevac, Mr Ivan    3rd   NaN  male         1\n1305                      Youssef, Mr Gerios    3rd   NaN  male         0\n\n[851 rows x 5 columns]",
      "text/html": "<div>\n<style scoped>\n    .dataframe tbody tr th:only-of-type {\n        vertical-align: middle;\n    }\n\n    .dataframe tbody tr th {\n        vertical-align: top;\n    }\n\n    .dataframe thead th {\n        text-align: right;\n    }\n</style>\n<table border=\"1\" class=\"dataframe\">\n  <thead>\n    <tr style=\"text-align: right;\">\n      <th></th>\n      <th>Name</th>\n      <th>PClass</th>\n      <th>Age</th>\n      <th>Sex</th>\n      <th>Survived</th>\n    </tr>\n  </thead>\n  <tbody>\n    <tr>\n      <th>751</th>\n      <td>Danbom, Master Gilbert Sigvard Emanuel</td>\n      <td>3rd</td>\n      <td>0.33</td>\n      <td>male</td>\n      <td>0</td>\n    </tr>\n    <tr>\n      <th>544</th>\n      <td>Richards, Master George Sidney</td>\n      <td>2nd</td>\n      <td>0.80</td>\n      <td>male</td>\n      <td>1</td>\n    </tr>\n    <tr>\n      <th>358</th>\n      <td>Caldwell, Master Alden Gates</td>\n      <td>2nd</td>\n      <td>0.83</td>\n      <td>male</td>\n      <td>1</td>\n    </tr>\n    <tr>\n      <th>616</th>\n      <td>Aks, Master Philip</td>\n      <td>3rd</td>\n      <td>0.83</td>\n      <td>male</td>\n      <td>1</td>\n    </tr>\n    <tr>\n      <th>4</th>\n      <td>Allison, Master Hudson Trevor</td>\n      <td>1st</td>\n      <td>0.92</td>\n      <td>male</td>\n      <td>1</td>\n    </tr>\n    <tr>\n      <th>...</th>\n      <td>...</td>\n      <td>...</td>\n      <td>...</td>\n      <td>...</td>\n      <td>...</td>\n    </tr>\n    <tr>\n      <th>1295</th>\n      <td>Willey, Mr Edward</td>\n      <td>3rd</td>\n      <td>NaN</td>\n      <td>male</td>\n      <td>0</td>\n    </tr>\n    <tr>\n      <th>1296</th>\n      <td>Williams, Mr Howard Hugh</td>\n      <td>3rd</td>\n      <td>NaN</td>\n      <td>male</td>\n      <td>0</td>\n    </tr>\n    <tr>\n      <th>1300</th>\n      <td>Wiseman, Mr Phillippe</td>\n      <td>3rd</td>\n      <td>NaN</td>\n      <td>male</td>\n      <td>0</td>\n    </tr>\n    <tr>\n      <th>1302</th>\n      <td>Yalsevac, Mr Ivan</td>\n      <td>3rd</td>\n      <td>NaN</td>\n      <td>male</td>\n      <td>1</td>\n    </tr>\n    <tr>\n      <th>1305</th>\n      <td>Youssef, Mr Gerios</td>\n      <td>3rd</td>\n      <td>NaN</td>\n      <td>male</td>\n      <td>0</td>\n    </tr>\n  </tbody>\n</table>\n<p>851 rows × 5 columns</p>\n</div>"
     },
     "execution_count": 54,
     "metadata": {},
     "output_type": "execute_result"
    }
   ],
   "source": [
    "bdsm = bd[bd[\"Sex\"] == \"male\"].sort_values(\"Age\")\n",
    "bdsm"
   ],
   "metadata": {
    "collapsed": false,
    "ExecuteTime": {
     "end_time": "2024-04-25T04:27:37.857367700Z",
     "start_time": "2024-04-25T04:27:37.851177300Z"
    }
   }
  },
  {
   "cell_type": "code",
   "execution_count": 60,
   "outputs": [
    {
     "data": {
      "text/plain": "                                      Name PClass   Age     Sex  Survived\n763   Dean, Miss Elizabeth Gladys (Millve)    3rd  0.17  female         1\n478                   LaRoche, Miss Louise    2nd  1.00  female         1\n893            Johnson, Miss Eleanor Ileen    3rd  1.00  female         1\n936            Klasen, Miss Gertrud Emilia    3rd  1.50  female         0\n1188        Sandstrom, Miss Beatrice Irene    3rd  1.50  female         0\n...                                    ...    ...   ...     ...       ...\n1251            Thorneycroft, Mrs Percival    3rd   NaN  female         1\n1259            Touma (Thomas), Mrs Darwin    3rd   NaN  female         0\n1261             Touma (Thomas), Miss Hanh    3rd   NaN  female         0\n1306                   Zabour, Miss Hileni    3rd   NaN  female         0\n1307                   Zabour, Miss Tamini    3rd   NaN  female         0\n\n[462 rows x 5 columns]",
      "text/html": "<div>\n<style scoped>\n    .dataframe tbody tr th:only-of-type {\n        vertical-align: middle;\n    }\n\n    .dataframe tbody tr th {\n        vertical-align: top;\n    }\n\n    .dataframe thead th {\n        text-align: right;\n    }\n</style>\n<table border=\"1\" class=\"dataframe\">\n  <thead>\n    <tr style=\"text-align: right;\">\n      <th></th>\n      <th>Name</th>\n      <th>PClass</th>\n      <th>Age</th>\n      <th>Sex</th>\n      <th>Survived</th>\n    </tr>\n  </thead>\n  <tbody>\n    <tr>\n      <th>763</th>\n      <td>Dean, Miss Elizabeth Gladys (Millve)</td>\n      <td>3rd</td>\n      <td>0.17</td>\n      <td>female</td>\n      <td>1</td>\n    </tr>\n    <tr>\n      <th>478</th>\n      <td>LaRoche, Miss Louise</td>\n      <td>2nd</td>\n      <td>1.00</td>\n      <td>female</td>\n      <td>1</td>\n    </tr>\n    <tr>\n      <th>893</th>\n      <td>Johnson, Miss Eleanor Ileen</td>\n      <td>3rd</td>\n      <td>1.00</td>\n      <td>female</td>\n      <td>1</td>\n    </tr>\n    <tr>\n      <th>936</th>\n      <td>Klasen, Miss Gertrud Emilia</td>\n      <td>3rd</td>\n      <td>1.50</td>\n      <td>female</td>\n      <td>0</td>\n    </tr>\n    <tr>\n      <th>1188</th>\n      <td>Sandstrom, Miss Beatrice Irene</td>\n      <td>3rd</td>\n      <td>1.50</td>\n      <td>female</td>\n      <td>0</td>\n    </tr>\n    <tr>\n      <th>...</th>\n      <td>...</td>\n      <td>...</td>\n      <td>...</td>\n      <td>...</td>\n      <td>...</td>\n    </tr>\n    <tr>\n      <th>1251</th>\n      <td>Thorneycroft, Mrs Percival</td>\n      <td>3rd</td>\n      <td>NaN</td>\n      <td>female</td>\n      <td>1</td>\n    </tr>\n    <tr>\n      <th>1259</th>\n      <td>Touma (Thomas), Mrs Darwin</td>\n      <td>3rd</td>\n      <td>NaN</td>\n      <td>female</td>\n      <td>0</td>\n    </tr>\n    <tr>\n      <th>1261</th>\n      <td>Touma (Thomas), Miss Hanh</td>\n      <td>3rd</td>\n      <td>NaN</td>\n      <td>female</td>\n      <td>0</td>\n    </tr>\n    <tr>\n      <th>1306</th>\n      <td>Zabour, Miss Hileni</td>\n      <td>3rd</td>\n      <td>NaN</td>\n      <td>female</td>\n      <td>0</td>\n    </tr>\n    <tr>\n      <th>1307</th>\n      <td>Zabour, Miss Tamini</td>\n      <td>3rd</td>\n      <td>NaN</td>\n      <td>female</td>\n      <td>0</td>\n    </tr>\n  </tbody>\n</table>\n<p>462 rows × 5 columns</p>\n</div>"
     },
     "execution_count": 60,
     "metadata": {},
     "output_type": "execute_result"
    }
   ],
   "source": [
    "bdswm = bd[bd[\"Sex\"] == \"female\"].sort_values(\"Age\")\n",
    "bdswm"
   ],
   "metadata": {
    "collapsed": false,
    "ExecuteTime": {
     "end_time": "2024-04-25T04:28:50.735069900Z",
     "start_time": "2024-04-25T04:28:50.727547Z"
    }
   }
  },
  {
   "cell_type": "code",
   "execution_count": 62,
   "outputs": [
    {
     "data": {
      "text/plain": "                                Name PClass   Age   Sex  Survived\n119         Goldschmidt, Mr George B    1st  71.0  male         0\n505       Mitchell, Mr Henry Michael    2nd  71.0  male         0\n9             Artagaveytia, Mr Ramon    1st  71.0  male         0\n72    Crosby, Captain Edward Gifford    1st  70.0  male         0\n252                Straus, Mr Isidor    1st  67.0  male         0\n...                              ...    ...   ...   ...       ...\n1295               Willey, Mr Edward    3rd   NaN  male         0\n1296        Williams, Mr Howard Hugh    3rd   NaN  male         0\n1300           Wiseman, Mr Phillippe    3rd   NaN  male         0\n1302               Yalsevac, Mr Ivan    3rd   NaN  male         1\n1305              Youssef, Mr Gerios    3rd   NaN  male         0\n\n[851 rows x 5 columns]",
      "text/html": "<div>\n<style scoped>\n    .dataframe tbody tr th:only-of-type {\n        vertical-align: middle;\n    }\n\n    .dataframe tbody tr th {\n        vertical-align: top;\n    }\n\n    .dataframe thead th {\n        text-align: right;\n    }\n</style>\n<table border=\"1\" class=\"dataframe\">\n  <thead>\n    <tr style=\"text-align: right;\">\n      <th></th>\n      <th>Name</th>\n      <th>PClass</th>\n      <th>Age</th>\n      <th>Sex</th>\n      <th>Survived</th>\n    </tr>\n  </thead>\n  <tbody>\n    <tr>\n      <th>119</th>\n      <td>Goldschmidt, Mr George B</td>\n      <td>1st</td>\n      <td>71.0</td>\n      <td>male</td>\n      <td>0</td>\n    </tr>\n    <tr>\n      <th>505</th>\n      <td>Mitchell, Mr Henry Michael</td>\n      <td>2nd</td>\n      <td>71.0</td>\n      <td>male</td>\n      <td>0</td>\n    </tr>\n    <tr>\n      <th>9</th>\n      <td>Artagaveytia, Mr Ramon</td>\n      <td>1st</td>\n      <td>71.0</td>\n      <td>male</td>\n      <td>0</td>\n    </tr>\n    <tr>\n      <th>72</th>\n      <td>Crosby, Captain Edward Gifford</td>\n      <td>1st</td>\n      <td>70.0</td>\n      <td>male</td>\n      <td>0</td>\n    </tr>\n    <tr>\n      <th>252</th>\n      <td>Straus, Mr Isidor</td>\n      <td>1st</td>\n      <td>67.0</td>\n      <td>male</td>\n      <td>0</td>\n    </tr>\n    <tr>\n      <th>...</th>\n      <td>...</td>\n      <td>...</td>\n      <td>...</td>\n      <td>...</td>\n      <td>...</td>\n    </tr>\n    <tr>\n      <th>1295</th>\n      <td>Willey, Mr Edward</td>\n      <td>3rd</td>\n      <td>NaN</td>\n      <td>male</td>\n      <td>0</td>\n    </tr>\n    <tr>\n      <th>1296</th>\n      <td>Williams, Mr Howard Hugh</td>\n      <td>3rd</td>\n      <td>NaN</td>\n      <td>male</td>\n      <td>0</td>\n    </tr>\n    <tr>\n      <th>1300</th>\n      <td>Wiseman, Mr Phillippe</td>\n      <td>3rd</td>\n      <td>NaN</td>\n      <td>male</td>\n      <td>0</td>\n    </tr>\n    <tr>\n      <th>1302</th>\n      <td>Yalsevac, Mr Ivan</td>\n      <td>3rd</td>\n      <td>NaN</td>\n      <td>male</td>\n      <td>1</td>\n    </tr>\n    <tr>\n      <th>1305</th>\n      <td>Youssef, Mr Gerios</td>\n      <td>3rd</td>\n      <td>NaN</td>\n      <td>male</td>\n      <td>0</td>\n    </tr>\n  </tbody>\n</table>\n<p>851 rows × 5 columns</p>\n</div>"
     },
     "execution_count": 62,
     "metadata": {},
     "output_type": "execute_result"
    }
   ],
   "source": [
    "bdsdm = bd[bd[\"Sex\"] == \"male\"].sort_values(\"Age\", ascending=False)\n",
    "bdsdm"
   ],
   "metadata": {
    "collapsed": false,
    "ExecuteTime": {
     "end_time": "2024-04-25T04:29:54.455851700Z",
     "start_time": "2024-04-25T04:29:54.445332300Z"
    }
   }
  },
  {
   "cell_type": "code",
   "execution_count": 63,
   "outputs": [
    {
     "data": {
      "text/plain": "                                                   Name PClass   Age     Sex  \\\n73    Crosby, Mrs Edward Gifford (Catherine Elizabet...    1st  69.0  female   \n67    Compton, Mrs Alexander Taylor (Mary Eliza Inge...    1st  64.0  female   \n1264                                Turkula, Mrs Hedvig    3rd  63.0  female   \n6                      Andrews, Miss Kornelia Theodosia    1st  63.0  female   \n253                       Straus, Mrs Isidor (Ida Blun)    1st  63.0  female   \n...                                                 ...    ...   ...     ...   \n1251                         Thorneycroft, Mrs Percival    3rd   NaN  female   \n1259                         Touma (Thomas), Mrs Darwin    3rd   NaN  female   \n1261                          Touma (Thomas), Miss Hanh    3rd   NaN  female   \n1306                                Zabour, Miss Hileni    3rd   NaN  female   \n1307                                Zabour, Miss Tamini    3rd   NaN  female   \n\n      Survived  \n73           1  \n67           1  \n1264         1  \n6            1  \n253          0  \n...        ...  \n1251         1  \n1259         0  \n1261         0  \n1306         0  \n1307         0  \n\n[462 rows x 5 columns]",
      "text/html": "<div>\n<style scoped>\n    .dataframe tbody tr th:only-of-type {\n        vertical-align: middle;\n    }\n\n    .dataframe tbody tr th {\n        vertical-align: top;\n    }\n\n    .dataframe thead th {\n        text-align: right;\n    }\n</style>\n<table border=\"1\" class=\"dataframe\">\n  <thead>\n    <tr style=\"text-align: right;\">\n      <th></th>\n      <th>Name</th>\n      <th>PClass</th>\n      <th>Age</th>\n      <th>Sex</th>\n      <th>Survived</th>\n    </tr>\n  </thead>\n  <tbody>\n    <tr>\n      <th>73</th>\n      <td>Crosby, Mrs Edward Gifford (Catherine Elizabet...</td>\n      <td>1st</td>\n      <td>69.0</td>\n      <td>female</td>\n      <td>1</td>\n    </tr>\n    <tr>\n      <th>67</th>\n      <td>Compton, Mrs Alexander Taylor (Mary Eliza Inge...</td>\n      <td>1st</td>\n      <td>64.0</td>\n      <td>female</td>\n      <td>1</td>\n    </tr>\n    <tr>\n      <th>1264</th>\n      <td>Turkula, Mrs Hedvig</td>\n      <td>3rd</td>\n      <td>63.0</td>\n      <td>female</td>\n      <td>1</td>\n    </tr>\n    <tr>\n      <th>6</th>\n      <td>Andrews, Miss Kornelia Theodosia</td>\n      <td>1st</td>\n      <td>63.0</td>\n      <td>female</td>\n      <td>1</td>\n    </tr>\n    <tr>\n      <th>253</th>\n      <td>Straus, Mrs Isidor (Ida Blun)</td>\n      <td>1st</td>\n      <td>63.0</td>\n      <td>female</td>\n      <td>0</td>\n    </tr>\n    <tr>\n      <th>...</th>\n      <td>...</td>\n      <td>...</td>\n      <td>...</td>\n      <td>...</td>\n      <td>...</td>\n    </tr>\n    <tr>\n      <th>1251</th>\n      <td>Thorneycroft, Mrs Percival</td>\n      <td>3rd</td>\n      <td>NaN</td>\n      <td>female</td>\n      <td>1</td>\n    </tr>\n    <tr>\n      <th>1259</th>\n      <td>Touma (Thomas), Mrs Darwin</td>\n      <td>3rd</td>\n      <td>NaN</td>\n      <td>female</td>\n      <td>0</td>\n    </tr>\n    <tr>\n      <th>1261</th>\n      <td>Touma (Thomas), Miss Hanh</td>\n      <td>3rd</td>\n      <td>NaN</td>\n      <td>female</td>\n      <td>0</td>\n    </tr>\n    <tr>\n      <th>1306</th>\n      <td>Zabour, Miss Hileni</td>\n      <td>3rd</td>\n      <td>NaN</td>\n      <td>female</td>\n      <td>0</td>\n    </tr>\n    <tr>\n      <th>1307</th>\n      <td>Zabour, Miss Tamini</td>\n      <td>3rd</td>\n      <td>NaN</td>\n      <td>female</td>\n      <td>0</td>\n    </tr>\n  </tbody>\n</table>\n<p>462 rows × 5 columns</p>\n</div>"
     },
     "execution_count": 63,
     "metadata": {},
     "output_type": "execute_result"
    }
   ],
   "source": [
    "bdsdwm = bd[bd[\"Sex\"] == \"female\"].sort_values(\"Age\", ascending=False)\n",
    "bdsdwm"
   ],
   "metadata": {
    "collapsed": false,
    "ExecuteTime": {
     "end_time": "2024-04-25T04:30:44.132261500Z",
     "start_time": "2024-04-25T04:30:44.128241400Z"
    }
   }
  },
  {
   "cell_type": "code",
   "execution_count": 65,
   "outputs": [
    {
     "data": {
      "text/plain": "                                   Name PClass   Age     Sex  Survived\n0          Allen, Miss Elisabeth Walton    1st  29.0  female         1\n1           Allison, Miss Helen Loraine    1st   2.0  female         0\n6      Andrews, Miss Kornelia Theodosia    1st  63.0  female         1\n27               Bonnell, Miss Caroline    1st  30.0  female         1\n28              Bonnell, Miss Elizabeth    1st  58.0  female         1\n...                                 ...    ...   ...     ...       ...\n1269       Van der Planke, Miss Augusta    3rd  18.0  female         0\n1276           Van Impe, Miss Catharine    3rd  10.0  female         0\n1283  Vestrom, Miss Hulda Amanda Adolfi    3rd  14.0  female         0\n1306                Zabour, Miss Hileni    3rd   NaN  female         0\n1307                Zabour, Miss Tamini    3rd   NaN  female         0\n\n[236 rows x 5 columns]",
      "text/html": "<div>\n<style scoped>\n    .dataframe tbody tr th:only-of-type {\n        vertical-align: middle;\n    }\n\n    .dataframe tbody tr th {\n        vertical-align: top;\n    }\n\n    .dataframe thead th {\n        text-align: right;\n    }\n</style>\n<table border=\"1\" class=\"dataframe\">\n  <thead>\n    <tr style=\"text-align: right;\">\n      <th></th>\n      <th>Name</th>\n      <th>PClass</th>\n      <th>Age</th>\n      <th>Sex</th>\n      <th>Survived</th>\n    </tr>\n  </thead>\n  <tbody>\n    <tr>\n      <th>0</th>\n      <td>Allen, Miss Elisabeth Walton</td>\n      <td>1st</td>\n      <td>29.0</td>\n      <td>female</td>\n      <td>1</td>\n    </tr>\n    <tr>\n      <th>1</th>\n      <td>Allison, Miss Helen Loraine</td>\n      <td>1st</td>\n      <td>2.0</td>\n      <td>female</td>\n      <td>0</td>\n    </tr>\n    <tr>\n      <th>6</th>\n      <td>Andrews, Miss Kornelia Theodosia</td>\n      <td>1st</td>\n      <td>63.0</td>\n      <td>female</td>\n      <td>1</td>\n    </tr>\n    <tr>\n      <th>27</th>\n      <td>Bonnell, Miss Caroline</td>\n      <td>1st</td>\n      <td>30.0</td>\n      <td>female</td>\n      <td>1</td>\n    </tr>\n    <tr>\n      <th>28</th>\n      <td>Bonnell, Miss Elizabeth</td>\n      <td>1st</td>\n      <td>58.0</td>\n      <td>female</td>\n      <td>1</td>\n    </tr>\n    <tr>\n      <th>...</th>\n      <td>...</td>\n      <td>...</td>\n      <td>...</td>\n      <td>...</td>\n      <td>...</td>\n    </tr>\n    <tr>\n      <th>1269</th>\n      <td>Van der Planke, Miss Augusta</td>\n      <td>3rd</td>\n      <td>18.0</td>\n      <td>female</td>\n      <td>0</td>\n    </tr>\n    <tr>\n      <th>1276</th>\n      <td>Van Impe, Miss Catharine</td>\n      <td>3rd</td>\n      <td>10.0</td>\n      <td>female</td>\n      <td>0</td>\n    </tr>\n    <tr>\n      <th>1283</th>\n      <td>Vestrom, Miss Hulda Amanda Adolfi</td>\n      <td>3rd</td>\n      <td>14.0</td>\n      <td>female</td>\n      <td>0</td>\n    </tr>\n    <tr>\n      <th>1306</th>\n      <td>Zabour, Miss Hileni</td>\n      <td>3rd</td>\n      <td>NaN</td>\n      <td>female</td>\n      <td>0</td>\n    </tr>\n    <tr>\n      <th>1307</th>\n      <td>Zabour, Miss Tamini</td>\n      <td>3rd</td>\n      <td>NaN</td>\n      <td>female</td>\n      <td>0</td>\n    </tr>\n  </tbody>\n</table>\n<p>236 rows × 5 columns</p>\n</div>"
     },
     "execution_count": 65,
     "metadata": {},
     "output_type": "execute_result"
    }
   ],
   "source": [
    "bdmiss = bd[bd[\"Name\"].str.contains(\"Miss\", case=False)]\n",
    "bdmiss"
   ],
   "metadata": {
    "collapsed": false,
    "ExecuteTime": {
     "end_time": "2024-04-25T04:34:25.399691800Z",
     "start_time": "2024-04-25T04:34:25.392171900Z"
    }
   }
  },
  {
   "cell_type": "code",
   "execution_count": 71,
   "outputs": [
    {
     "data": {
      "text/plain": "                   Name PClass  Age     Sex  Survived\n59  Cherry, Miss Gladys    1st  NaN  female         1",
      "text/html": "<div>\n<style scoped>\n    .dataframe tbody tr th:only-of-type {\n        vertical-align: middle;\n    }\n\n    .dataframe tbody tr th {\n        vertical-align: top;\n    }\n\n    .dataframe thead th {\n        text-align: right;\n    }\n</style>\n<table border=\"1\" class=\"dataframe\">\n  <thead>\n    <tr style=\"text-align: right;\">\n      <th></th>\n      <th>Name</th>\n      <th>PClass</th>\n      <th>Age</th>\n      <th>Sex</th>\n      <th>Survived</th>\n    </tr>\n  </thead>\n  <tbody>\n    <tr>\n      <th>59</th>\n      <td>Cherry, Miss Gladys</td>\n      <td>1st</td>\n      <td>NaN</td>\n      <td>female</td>\n      <td>1</td>\n    </tr>\n  </tbody>\n</table>\n</div>"
     },
     "execution_count": 71,
     "metadata": {},
     "output_type": "execute_result"
    }
   ],
   "source": [
    "bdsc = bd[bd[\"Name\"].str.startswith(\"Cherry\")]\n",
    "bdsc"
   ],
   "metadata": {
    "collapsed": false,
    "ExecuteTime": {
     "end_time": "2024-04-25T04:36:39.589124Z",
     "start_time": "2024-04-25T04:36:39.582613300Z"
    }
   }
  },
  {
   "cell_type": "code",
   "execution_count": 72,
   "outputs": [
    {
     "data": {
      "text/plain": "                          Name PClass   Age     Sex  Survived\n69  Compton, Miss Sara Rebecca    1st  39.0  female         1",
      "text/html": "<div>\n<style scoped>\n    .dataframe tbody tr th:only-of-type {\n        vertical-align: middle;\n    }\n\n    .dataframe tbody tr th {\n        vertical-align: top;\n    }\n\n    .dataframe thead th {\n        text-align: right;\n    }\n</style>\n<table border=\"1\" class=\"dataframe\">\n  <thead>\n    <tr style=\"text-align: right;\">\n      <th></th>\n      <th>Name</th>\n      <th>PClass</th>\n      <th>Age</th>\n      <th>Sex</th>\n      <th>Survived</th>\n    </tr>\n  </thead>\n  <tbody>\n    <tr>\n      <th>69</th>\n      <td>Compton, Miss Sara Rebecca</td>\n      <td>1st</td>\n      <td>39.0</td>\n      <td>female</td>\n      <td>1</td>\n    </tr>\n  </tbody>\n</table>\n</div>"
     },
     "execution_count": 72,
     "metadata": {},
     "output_type": "execute_result"
    }
   ],
   "source": [
    "bdse = bd[bd[\"Name\"].str.endswith(\"Rebecca\")]\n",
    "bdse"
   ],
   "metadata": {
    "collapsed": false,
    "ExecuteTime": {
     "end_time": "2024-04-25T04:36:57.132067800Z",
     "start_time": "2024-04-25T04:36:57.103709900Z"
    }
   }
  },
  {
   "cell_type": "code",
   "source": [
    "db = pd.read_csv(\"Titanic.csv\")\n",
    "db"
   ],
   "metadata": {
    "collapsed": false,
    "ExecuteTime": {
     "end_time": "2024-04-25T06:36:06.736401Z",
     "start_time": "2024-04-25T06:36:06.717806Z"
    }
   },
   "outputs": [
    {
     "data": {
      "text/plain": [
       "                                               Name PClass    Age     Sex  \\\n",
       "0                      Allen, Miss Elisabeth Walton    1st  29.00  female   \n",
       "1                       Allison, Miss Helen Loraine    1st   2.00  female   \n",
       "2               Allison, Mr Hudson Joshua Creighton    1st  30.00    male   \n",
       "3     Allison, Mrs Hudson JC (Bessie Waldo Daniels)    1st  25.00  female   \n",
       "4                     Allison, Master Hudson Trevor    1st   0.92    male   \n",
       "...                                             ...    ...    ...     ...   \n",
       "1308                             Zakarian, Mr Artun    3rd  27.00    male   \n",
       "1309                         Zakarian, Mr Maprieder    3rd  26.00    male   \n",
       "1310                               Zenni, Mr Philip    3rd  22.00    male   \n",
       "1311                               Lievens, Mr Rene    3rd  24.00    male   \n",
       "1312                                 Zimmerman, Leo    3rd  29.00    male   \n",
       "\n",
       "      Survived  \n",
       "0            1  \n",
       "1            0  \n",
       "2            0  \n",
       "3            0  \n",
       "4            1  \n",
       "...        ...  \n",
       "1308         0  \n",
       "1309         0  \n",
       "1310         0  \n",
       "1311         0  \n",
       "1312         0  \n",
       "\n",
       "[1313 rows x 5 columns]"
      ],
      "text/html": [
       "<div>\n",
       "<style scoped>\n",
       "    .dataframe tbody tr th:only-of-type {\n",
       "        vertical-align: middle;\n",
       "    }\n",
       "\n",
       "    .dataframe tbody tr th {\n",
       "        vertical-align: top;\n",
       "    }\n",
       "\n",
       "    .dataframe thead th {\n",
       "        text-align: right;\n",
       "    }\n",
       "</style>\n",
       "<table border=\"1\" class=\"dataframe\">\n",
       "  <thead>\n",
       "    <tr style=\"text-align: right;\">\n",
       "      <th></th>\n",
       "      <th>Name</th>\n",
       "      <th>PClass</th>\n",
       "      <th>Age</th>\n",
       "      <th>Sex</th>\n",
       "      <th>Survived</th>\n",
       "    </tr>\n",
       "  </thead>\n",
       "  <tbody>\n",
       "    <tr>\n",
       "      <th>0</th>\n",
       "      <td>Allen, Miss Elisabeth Walton</td>\n",
       "      <td>1st</td>\n",
       "      <td>29.00</td>\n",
       "      <td>female</td>\n",
       "      <td>1</td>\n",
       "    </tr>\n",
       "    <tr>\n",
       "      <th>1</th>\n",
       "      <td>Allison, Miss Helen Loraine</td>\n",
       "      <td>1st</td>\n",
       "      <td>2.00</td>\n",
       "      <td>female</td>\n",
       "      <td>0</td>\n",
       "    </tr>\n",
       "    <tr>\n",
       "      <th>2</th>\n",
       "      <td>Allison, Mr Hudson Joshua Creighton</td>\n",
       "      <td>1st</td>\n",
       "      <td>30.00</td>\n",
       "      <td>male</td>\n",
       "      <td>0</td>\n",
       "    </tr>\n",
       "    <tr>\n",
       "      <th>3</th>\n",
       "      <td>Allison, Mrs Hudson JC (Bessie Waldo Daniels)</td>\n",
       "      <td>1st</td>\n",
       "      <td>25.00</td>\n",
       "      <td>female</td>\n",
       "      <td>0</td>\n",
       "    </tr>\n",
       "    <tr>\n",
       "      <th>4</th>\n",
       "      <td>Allison, Master Hudson Trevor</td>\n",
       "      <td>1st</td>\n",
       "      <td>0.92</td>\n",
       "      <td>male</td>\n",
       "      <td>1</td>\n",
       "    </tr>\n",
       "    <tr>\n",
       "      <th>...</th>\n",
       "      <td>...</td>\n",
       "      <td>...</td>\n",
       "      <td>...</td>\n",
       "      <td>...</td>\n",
       "      <td>...</td>\n",
       "    </tr>\n",
       "    <tr>\n",
       "      <th>1308</th>\n",
       "      <td>Zakarian, Mr Artun</td>\n",
       "      <td>3rd</td>\n",
       "      <td>27.00</td>\n",
       "      <td>male</td>\n",
       "      <td>0</td>\n",
       "    </tr>\n",
       "    <tr>\n",
       "      <th>1309</th>\n",
       "      <td>Zakarian, Mr Maprieder</td>\n",
       "      <td>3rd</td>\n",
       "      <td>26.00</td>\n",
       "      <td>male</td>\n",
       "      <td>0</td>\n",
       "    </tr>\n",
       "    <tr>\n",
       "      <th>1310</th>\n",
       "      <td>Zenni, Mr Philip</td>\n",
       "      <td>3rd</td>\n",
       "      <td>22.00</td>\n",
       "      <td>male</td>\n",
       "      <td>0</td>\n",
       "    </tr>\n",
       "    <tr>\n",
       "      <th>1311</th>\n",
       "      <td>Lievens, Mr Rene</td>\n",
       "      <td>3rd</td>\n",
       "      <td>24.00</td>\n",
       "      <td>male</td>\n",
       "      <td>0</td>\n",
       "    </tr>\n",
       "    <tr>\n",
       "      <th>1312</th>\n",
       "      <td>Zimmerman, Leo</td>\n",
       "      <td>3rd</td>\n",
       "      <td>29.00</td>\n",
       "      <td>male</td>\n",
       "      <td>0</td>\n",
       "    </tr>\n",
       "  </tbody>\n",
       "</table>\n",
       "<p>1313 rows × 5 columns</p>\n",
       "</div>"
      ]
     },
     "execution_count": 3,
     "metadata": {},
     "output_type": "execute_result"
    }
   ],
   "execution_count": 3
  },
  {
   "metadata": {
    "ExecuteTime": {
     "end_time": "2024-04-25T06:37:14.348385Z",
     "start_time": "2024-04-25T06:37:14.342834Z"
    }
   },
   "cell_type": "code",
   "source": "db.shape",
   "outputs": [
    {
     "data": {
      "text/plain": [
       "(1313, 5)"
      ]
     },
     "execution_count": 5,
     "metadata": {},
     "output_type": "execute_result"
    }
   ],
   "execution_count": 5
  },
  {
   "metadata": {
    "ExecuteTime": {
     "end_time": "2024-04-25T06:37:20.201392Z",
     "start_time": "2024-04-25T06:37:20.189571Z"
    }
   },
   "cell_type": "code",
   "source": "db.info()",
   "outputs": [
    {
     "name": "stdout",
     "output_type": "stream",
     "text": [
      "<class 'pandas.core.frame.DataFrame'>\n",
      "RangeIndex: 1313 entries, 0 to 1312\n",
      "Data columns (total 5 columns):\n",
      " #   Column    Non-Null Count  Dtype  \n",
      "---  ------    --------------  -----  \n",
      " 0   Name      1313 non-null   object \n",
      " 1   PClass    1312 non-null   object \n",
      " 2   Age       756 non-null    float64\n",
      " 3   Sex       1313 non-null   object \n",
      " 4   Survived  1313 non-null   int64  \n",
      "dtypes: float64(1), int64(1), object(3)\n",
      "memory usage: 51.4+ KB\n"
     ]
    }
   ],
   "execution_count": 6
  },
  {
   "metadata": {
    "ExecuteTime": {
     "end_time": "2024-04-25T06:39:16.620834Z",
     "start_time": "2024-04-25T06:39:16.607867Z"
    }
   },
   "cell_type": "code",
   "source": "db.sample(10)",
   "outputs": [
    {
     "data": {
      "text/plain": [
       "                                                 Name PClass   Age     Sex  \\\n",
       "852                                    Hart, Mr Henry    3rd   NaN    male   \n",
       "994                                 Markim, Mr Johann    3rd   NaN    male   \n",
       "667                                 Barry, Miss Julia    3rd  27.0  female   \n",
       "256                                  Taussig, Mr Emil    1st  52.0    male   \n",
       "789                                 Ekstrom, Mr Johan    3rd  45.0    male   \n",
       "1183                         Salonen, Mr Johan Werner    3rd   NaN    male   \n",
       "1304                              Yasbeck, Mrs Antoni    3rd  15.0  female   \n",
       "909                   Kalvig, Mr Johannes K Halverson    3rd  21.0    male   \n",
       "337   Becker, Mrs Allen Oliver (Nellie E Baumgardner)    2nd  36.0  female   \n",
       "860                            Hellstrom, Hilda Maria    3rd  22.0  female   \n",
       "\n",
       "      Survived  \n",
       "852          0  \n",
       "994          0  \n",
       "667          0  \n",
       "256          0  \n",
       "789          0  \n",
       "1183         0  \n",
       "1304         1  \n",
       "909          0  \n",
       "337          1  \n",
       "860          1  "
      ],
      "text/html": [
       "<div>\n",
       "<style scoped>\n",
       "    .dataframe tbody tr th:only-of-type {\n",
       "        vertical-align: middle;\n",
       "    }\n",
       "\n",
       "    .dataframe tbody tr th {\n",
       "        vertical-align: top;\n",
       "    }\n",
       "\n",
       "    .dataframe thead th {\n",
       "        text-align: right;\n",
       "    }\n",
       "</style>\n",
       "<table border=\"1\" class=\"dataframe\">\n",
       "  <thead>\n",
       "    <tr style=\"text-align: right;\">\n",
       "      <th></th>\n",
       "      <th>Name</th>\n",
       "      <th>PClass</th>\n",
       "      <th>Age</th>\n",
       "      <th>Sex</th>\n",
       "      <th>Survived</th>\n",
       "    </tr>\n",
       "  </thead>\n",
       "  <tbody>\n",
       "    <tr>\n",
       "      <th>852</th>\n",
       "      <td>Hart, Mr Henry</td>\n",
       "      <td>3rd</td>\n",
       "      <td>NaN</td>\n",
       "      <td>male</td>\n",
       "      <td>0</td>\n",
       "    </tr>\n",
       "    <tr>\n",
       "      <th>994</th>\n",
       "      <td>Markim, Mr Johann</td>\n",
       "      <td>3rd</td>\n",
       "      <td>NaN</td>\n",
       "      <td>male</td>\n",
       "      <td>0</td>\n",
       "    </tr>\n",
       "    <tr>\n",
       "      <th>667</th>\n",
       "      <td>Barry, Miss Julia</td>\n",
       "      <td>3rd</td>\n",
       "      <td>27.0</td>\n",
       "      <td>female</td>\n",
       "      <td>0</td>\n",
       "    </tr>\n",
       "    <tr>\n",
       "      <th>256</th>\n",
       "      <td>Taussig, Mr Emil</td>\n",
       "      <td>1st</td>\n",
       "      <td>52.0</td>\n",
       "      <td>male</td>\n",
       "      <td>0</td>\n",
       "    </tr>\n",
       "    <tr>\n",
       "      <th>789</th>\n",
       "      <td>Ekstrom, Mr Johan</td>\n",
       "      <td>3rd</td>\n",
       "      <td>45.0</td>\n",
       "      <td>male</td>\n",
       "      <td>0</td>\n",
       "    </tr>\n",
       "    <tr>\n",
       "      <th>1183</th>\n",
       "      <td>Salonen, Mr Johan Werner</td>\n",
       "      <td>3rd</td>\n",
       "      <td>NaN</td>\n",
       "      <td>male</td>\n",
       "      <td>0</td>\n",
       "    </tr>\n",
       "    <tr>\n",
       "      <th>1304</th>\n",
       "      <td>Yasbeck, Mrs Antoni</td>\n",
       "      <td>3rd</td>\n",
       "      <td>15.0</td>\n",
       "      <td>female</td>\n",
       "      <td>1</td>\n",
       "    </tr>\n",
       "    <tr>\n",
       "      <th>909</th>\n",
       "      <td>Kalvig, Mr Johannes K Halverson</td>\n",
       "      <td>3rd</td>\n",
       "      <td>21.0</td>\n",
       "      <td>male</td>\n",
       "      <td>0</td>\n",
       "    </tr>\n",
       "    <tr>\n",
       "      <th>337</th>\n",
       "      <td>Becker, Mrs Allen Oliver (Nellie E Baumgardner)</td>\n",
       "      <td>2nd</td>\n",
       "      <td>36.0</td>\n",
       "      <td>female</td>\n",
       "      <td>1</td>\n",
       "    </tr>\n",
       "    <tr>\n",
       "      <th>860</th>\n",
       "      <td>Hellstrom, Hilda Maria</td>\n",
       "      <td>3rd</td>\n",
       "      <td>22.0</td>\n",
       "      <td>female</td>\n",
       "      <td>1</td>\n",
       "    </tr>\n",
       "  </tbody>\n",
       "</table>\n",
       "</div>"
      ]
     },
     "execution_count": 7,
     "metadata": {},
     "output_type": "execute_result"
    }
   ],
   "execution_count": 7
  },
  {
   "metadata": {
    "ExecuteTime": {
     "end_time": "2024-04-25T06:46:23.536791Z",
     "start_time": "2024-04-25T06:46:23.530185Z"
    }
   },
   "cell_type": "code",
   "source": "db[\"Age\"].median()",
   "outputs": [
    {
     "data": {
      "text/plain": [
       "28.0"
      ]
     },
     "execution_count": 10,
     "metadata": {},
     "output_type": "execute_result"
    }
   ],
   "execution_count": 10
  },
  {
   "metadata": {},
   "cell_type": "markdown",
   "source": "# zad 1"
  },
  {
   "metadata": {
    "ExecuteTime": {
     "end_time": "2024-04-25T07:21:32.589399Z",
     "start_time": "2024-04-25T07:21:32.576497Z"
    }
   },
   "cell_type": "code",
   "source": [
    "zad1 = db[~db[\"PClass\"].isna()].sort_values(\"Name\", ascending=False)\n",
    "zad1"
   ],
   "outputs": [
    {
     "data": {
      "text/plain": [
       "                              Name PClass   Age     Sex  Survived\n",
       "513              vratil, Mr Michel    2nd  32.0    male         0\n",
       "514        vratil, Master Michel M    2nd   3.0    male         1\n",
       "512    vratil, Master Edmond Roger    2nd   2.0    male         1\n",
       "1060             ughton, Miss Hanh    3rd   NaN  female         0\n",
       "186             tsch, Mr Charles H    1st  36.0    male         0\n",
       "...                            ...    ...   ...     ...       ...\n",
       "606        Abelseth, Miss An Karen    3rd  16.0  female         1\n",
       "605     Abbott, Mrs Stanton (Rosa)    3rd  35.0  female         1\n",
       "604     Abbott, Mr Rossmore Edward    3rd  16.0    male         0\n",
       "603   Abbott, Master Eugene Joseph    3rd  13.0    male         0\n",
       "602             Abbing, Mr Anthony    3rd  42.0    male         0\n",
       "\n",
       "[1312 rows x 5 columns]"
      ],
      "text/html": [
       "<div>\n",
       "<style scoped>\n",
       "    .dataframe tbody tr th:only-of-type {\n",
       "        vertical-align: middle;\n",
       "    }\n",
       "\n",
       "    .dataframe tbody tr th {\n",
       "        vertical-align: top;\n",
       "    }\n",
       "\n",
       "    .dataframe thead th {\n",
       "        text-align: right;\n",
       "    }\n",
       "</style>\n",
       "<table border=\"1\" class=\"dataframe\">\n",
       "  <thead>\n",
       "    <tr style=\"text-align: right;\">\n",
       "      <th></th>\n",
       "      <th>Name</th>\n",
       "      <th>PClass</th>\n",
       "      <th>Age</th>\n",
       "      <th>Sex</th>\n",
       "      <th>Survived</th>\n",
       "    </tr>\n",
       "  </thead>\n",
       "  <tbody>\n",
       "    <tr>\n",
       "      <th>513</th>\n",
       "      <td>vratil, Mr Michel</td>\n",
       "      <td>2nd</td>\n",
       "      <td>32.0</td>\n",
       "      <td>male</td>\n",
       "      <td>0</td>\n",
       "    </tr>\n",
       "    <tr>\n",
       "      <th>514</th>\n",
       "      <td>vratil, Master Michel M</td>\n",
       "      <td>2nd</td>\n",
       "      <td>3.0</td>\n",
       "      <td>male</td>\n",
       "      <td>1</td>\n",
       "    </tr>\n",
       "    <tr>\n",
       "      <th>512</th>\n",
       "      <td>vratil, Master Edmond Roger</td>\n",
       "      <td>2nd</td>\n",
       "      <td>2.0</td>\n",
       "      <td>male</td>\n",
       "      <td>1</td>\n",
       "    </tr>\n",
       "    <tr>\n",
       "      <th>1060</th>\n",
       "      <td>ughton, Miss Hanh</td>\n",
       "      <td>3rd</td>\n",
       "      <td>NaN</td>\n",
       "      <td>female</td>\n",
       "      <td>0</td>\n",
       "    </tr>\n",
       "    <tr>\n",
       "      <th>186</th>\n",
       "      <td>tsch, Mr Charles H</td>\n",
       "      <td>1st</td>\n",
       "      <td>36.0</td>\n",
       "      <td>male</td>\n",
       "      <td>0</td>\n",
       "    </tr>\n",
       "    <tr>\n",
       "      <th>...</th>\n",
       "      <td>...</td>\n",
       "      <td>...</td>\n",
       "      <td>...</td>\n",
       "      <td>...</td>\n",
       "      <td>...</td>\n",
       "    </tr>\n",
       "    <tr>\n",
       "      <th>606</th>\n",
       "      <td>Abelseth, Miss An Karen</td>\n",
       "      <td>3rd</td>\n",
       "      <td>16.0</td>\n",
       "      <td>female</td>\n",
       "      <td>1</td>\n",
       "    </tr>\n",
       "    <tr>\n",
       "      <th>605</th>\n",
       "      <td>Abbott, Mrs Stanton (Rosa)</td>\n",
       "      <td>3rd</td>\n",
       "      <td>35.0</td>\n",
       "      <td>female</td>\n",
       "      <td>1</td>\n",
       "    </tr>\n",
       "    <tr>\n",
       "      <th>604</th>\n",
       "      <td>Abbott, Mr Rossmore Edward</td>\n",
       "      <td>3rd</td>\n",
       "      <td>16.0</td>\n",
       "      <td>male</td>\n",
       "      <td>0</td>\n",
       "    </tr>\n",
       "    <tr>\n",
       "      <th>603</th>\n",
       "      <td>Abbott, Master Eugene Joseph</td>\n",
       "      <td>3rd</td>\n",
       "      <td>13.0</td>\n",
       "      <td>male</td>\n",
       "      <td>0</td>\n",
       "    </tr>\n",
       "    <tr>\n",
       "      <th>602</th>\n",
       "      <td>Abbing, Mr Anthony</td>\n",
       "      <td>3rd</td>\n",
       "      <td>42.0</td>\n",
       "      <td>male</td>\n",
       "      <td>0</td>\n",
       "    </tr>\n",
       "  </tbody>\n",
       "</table>\n",
       "<p>1312 rows × 5 columns</p>\n",
       "</div>"
      ]
     },
     "execution_count": 52,
     "metadata": {},
     "output_type": "execute_result"
    }
   ],
   "execution_count": 52
  },
  {
   "metadata": {},
   "cell_type": "markdown",
   "source": "# zad 2"
  },
  {
   "metadata": {
    "ExecuteTime": {
     "end_time": "2024-04-25T07:11:16.499811Z",
     "start_time": "2024-04-25T07:11:16.492642Z"
    }
   },
   "cell_type": "code",
   "source": [
    "zad2 = db[db[\"PClass\"] == \"2nd\"][\"Age\"].median()\n",
    "zad2"
   ],
   "outputs": [
    {
     "data": {
      "text/plain": [
       "28.0"
      ]
     },
     "execution_count": 51,
     "metadata": {},
     "output_type": "execute_result"
    }
   ],
   "execution_count": 51
  },
  {
   "metadata": {},
   "cell_type": "markdown",
   "source": "# zad 3"
  },
  {
   "metadata": {
    "ExecuteTime": {
     "end_time": "2024-04-25T06:56:45.876616Z",
     "start_time": "2024-04-25T06:56:45.861858Z"
    }
   },
   "cell_type": "code",
   "source": [
    "zad3 = db[~db[\"Age\"].isna()].sort_values([\"Age\", \"Name\"], ascending=[False, True])\n",
    "zad3"
   ],
   "outputs": [
    {
     "data": {
      "text/plain": [
       "                                                  Name PClass    Age     Sex  \\\n",
       "9                               Artagaveytia, Mr Ramon    1st  71.00    male   \n",
       "119                           Goldschmidt, Mr George B    1st  71.00    male   \n",
       "505                         Mitchell, Mr Henry Michael    2nd  71.00    male   \n",
       "72                      Crosby, Captain Edward Gifford    1st  70.00    male   \n",
       "73   Crosby, Mrs Edward Gifford (Catherine Elizabet...    1st  69.00  female   \n",
       "..                                                 ...    ...    ...     ...   \n",
       "616                                 Aks, Master Philip    3rd   0.83    male   \n",
       "358                       Caldwell, Master Alden Gates    2nd   0.83    male   \n",
       "544                     Richards, Master George Sidney    2nd   0.80    male   \n",
       "751             Danbom, Master Gilbert Sigvard Emanuel    3rd   0.33    male   \n",
       "763               Dean, Miss Elizabeth Gladys (Millve)    3rd   0.17  female   \n",
       "\n",
       "     Survived  \n",
       "9           0  \n",
       "119         0  \n",
       "505         0  \n",
       "72          0  \n",
       "73          1  \n",
       "..        ...  \n",
       "616         1  \n",
       "358         1  \n",
       "544         1  \n",
       "751         0  \n",
       "763         1  \n",
       "\n",
       "[756 rows x 5 columns]"
      ],
      "text/html": [
       "<div>\n",
       "<style scoped>\n",
       "    .dataframe tbody tr th:only-of-type {\n",
       "        vertical-align: middle;\n",
       "    }\n",
       "\n",
       "    .dataframe tbody tr th {\n",
       "        vertical-align: top;\n",
       "    }\n",
       "\n",
       "    .dataframe thead th {\n",
       "        text-align: right;\n",
       "    }\n",
       "</style>\n",
       "<table border=\"1\" class=\"dataframe\">\n",
       "  <thead>\n",
       "    <tr style=\"text-align: right;\">\n",
       "      <th></th>\n",
       "      <th>Name</th>\n",
       "      <th>PClass</th>\n",
       "      <th>Age</th>\n",
       "      <th>Sex</th>\n",
       "      <th>Survived</th>\n",
       "    </tr>\n",
       "  </thead>\n",
       "  <tbody>\n",
       "    <tr>\n",
       "      <th>9</th>\n",
       "      <td>Artagaveytia, Mr Ramon</td>\n",
       "      <td>1st</td>\n",
       "      <td>71.00</td>\n",
       "      <td>male</td>\n",
       "      <td>0</td>\n",
       "    </tr>\n",
       "    <tr>\n",
       "      <th>119</th>\n",
       "      <td>Goldschmidt, Mr George B</td>\n",
       "      <td>1st</td>\n",
       "      <td>71.00</td>\n",
       "      <td>male</td>\n",
       "      <td>0</td>\n",
       "    </tr>\n",
       "    <tr>\n",
       "      <th>505</th>\n",
       "      <td>Mitchell, Mr Henry Michael</td>\n",
       "      <td>2nd</td>\n",
       "      <td>71.00</td>\n",
       "      <td>male</td>\n",
       "      <td>0</td>\n",
       "    </tr>\n",
       "    <tr>\n",
       "      <th>72</th>\n",
       "      <td>Crosby, Captain Edward Gifford</td>\n",
       "      <td>1st</td>\n",
       "      <td>70.00</td>\n",
       "      <td>male</td>\n",
       "      <td>0</td>\n",
       "    </tr>\n",
       "    <tr>\n",
       "      <th>73</th>\n",
       "      <td>Crosby, Mrs Edward Gifford (Catherine Elizabet...</td>\n",
       "      <td>1st</td>\n",
       "      <td>69.00</td>\n",
       "      <td>female</td>\n",
       "      <td>1</td>\n",
       "    </tr>\n",
       "    <tr>\n",
       "      <th>...</th>\n",
       "      <td>...</td>\n",
       "      <td>...</td>\n",
       "      <td>...</td>\n",
       "      <td>...</td>\n",
       "      <td>...</td>\n",
       "    </tr>\n",
       "    <tr>\n",
       "      <th>616</th>\n",
       "      <td>Aks, Master Philip</td>\n",
       "      <td>3rd</td>\n",
       "      <td>0.83</td>\n",
       "      <td>male</td>\n",
       "      <td>1</td>\n",
       "    </tr>\n",
       "    <tr>\n",
       "      <th>358</th>\n",
       "      <td>Caldwell, Master Alden Gates</td>\n",
       "      <td>2nd</td>\n",
       "      <td>0.83</td>\n",
       "      <td>male</td>\n",
       "      <td>1</td>\n",
       "    </tr>\n",
       "    <tr>\n",
       "      <th>544</th>\n",
       "      <td>Richards, Master George Sidney</td>\n",
       "      <td>2nd</td>\n",
       "      <td>0.80</td>\n",
       "      <td>male</td>\n",
       "      <td>1</td>\n",
       "    </tr>\n",
       "    <tr>\n",
       "      <th>751</th>\n",
       "      <td>Danbom, Master Gilbert Sigvard Emanuel</td>\n",
       "      <td>3rd</td>\n",
       "      <td>0.33</td>\n",
       "      <td>male</td>\n",
       "      <td>0</td>\n",
       "    </tr>\n",
       "    <tr>\n",
       "      <th>763</th>\n",
       "      <td>Dean, Miss Elizabeth Gladys (Millve)</td>\n",
       "      <td>3rd</td>\n",
       "      <td>0.17</td>\n",
       "      <td>female</td>\n",
       "      <td>1</td>\n",
       "    </tr>\n",
       "  </tbody>\n",
       "</table>\n",
       "<p>756 rows × 5 columns</p>\n",
       "</div>"
      ]
     },
     "execution_count": 35,
     "metadata": {},
     "output_type": "execute_result"
    }
   ],
   "execution_count": 35
  },
  {
   "metadata": {},
   "cell_type": "markdown",
   "source": "# zad 4"
  },
  {
   "metadata": {
    "ExecuteTime": {
     "end_time": "2024-04-25T06:59:07.110474Z",
     "start_time": "2024-04-25T06:59:07.096134Z"
    }
   },
   "cell_type": "code",
   "source": [
    "zad4 = db[(db[\"Sex\"] == \"male\")].sort_values([\"Age\"], ascending=[False])\n",
    "zad4"
   ],
   "outputs": [
    {
     "data": {
      "text/plain": [
       "                                Name PClass   Age   Sex  Survived\n",
       "119         Goldschmidt, Mr George B    1st  71.0  male         0\n",
       "505       Mitchell, Mr Henry Michael    2nd  71.0  male         0\n",
       "9             Artagaveytia, Mr Ramon    1st  71.0  male         0\n",
       "72    Crosby, Captain Edward Gifford    1st  70.0  male         0\n",
       "252                Straus, Mr Isidor    1st  67.0  male         0\n",
       "...                              ...    ...   ...   ...       ...\n",
       "1295               Willey, Mr Edward    3rd   NaN  male         0\n",
       "1296        Williams, Mr Howard Hugh    3rd   NaN  male         0\n",
       "1300           Wiseman, Mr Phillippe    3rd   NaN  male         0\n",
       "1302               Yalsevac, Mr Ivan    3rd   NaN  male         1\n",
       "1305              Youssef, Mr Gerios    3rd   NaN  male         0\n",
       "\n",
       "[851 rows x 5 columns]"
      ],
      "text/html": [
       "<div>\n",
       "<style scoped>\n",
       "    .dataframe tbody tr th:only-of-type {\n",
       "        vertical-align: middle;\n",
       "    }\n",
       "\n",
       "    .dataframe tbody tr th {\n",
       "        vertical-align: top;\n",
       "    }\n",
       "\n",
       "    .dataframe thead th {\n",
       "        text-align: right;\n",
       "    }\n",
       "</style>\n",
       "<table border=\"1\" class=\"dataframe\">\n",
       "  <thead>\n",
       "    <tr style=\"text-align: right;\">\n",
       "      <th></th>\n",
       "      <th>Name</th>\n",
       "      <th>PClass</th>\n",
       "      <th>Age</th>\n",
       "      <th>Sex</th>\n",
       "      <th>Survived</th>\n",
       "    </tr>\n",
       "  </thead>\n",
       "  <tbody>\n",
       "    <tr>\n",
       "      <th>119</th>\n",
       "      <td>Goldschmidt, Mr George B</td>\n",
       "      <td>1st</td>\n",
       "      <td>71.0</td>\n",
       "      <td>male</td>\n",
       "      <td>0</td>\n",
       "    </tr>\n",
       "    <tr>\n",
       "      <th>505</th>\n",
       "      <td>Mitchell, Mr Henry Michael</td>\n",
       "      <td>2nd</td>\n",
       "      <td>71.0</td>\n",
       "      <td>male</td>\n",
       "      <td>0</td>\n",
       "    </tr>\n",
       "    <tr>\n",
       "      <th>9</th>\n",
       "      <td>Artagaveytia, Mr Ramon</td>\n",
       "      <td>1st</td>\n",
       "      <td>71.0</td>\n",
       "      <td>male</td>\n",
       "      <td>0</td>\n",
       "    </tr>\n",
       "    <tr>\n",
       "      <th>72</th>\n",
       "      <td>Crosby, Captain Edward Gifford</td>\n",
       "      <td>1st</td>\n",
       "      <td>70.0</td>\n",
       "      <td>male</td>\n",
       "      <td>0</td>\n",
       "    </tr>\n",
       "    <tr>\n",
       "      <th>252</th>\n",
       "      <td>Straus, Mr Isidor</td>\n",
       "      <td>1st</td>\n",
       "      <td>67.0</td>\n",
       "      <td>male</td>\n",
       "      <td>0</td>\n",
       "    </tr>\n",
       "    <tr>\n",
       "      <th>...</th>\n",
       "      <td>...</td>\n",
       "      <td>...</td>\n",
       "      <td>...</td>\n",
       "      <td>...</td>\n",
       "      <td>...</td>\n",
       "    </tr>\n",
       "    <tr>\n",
       "      <th>1295</th>\n",
       "      <td>Willey, Mr Edward</td>\n",
       "      <td>3rd</td>\n",
       "      <td>NaN</td>\n",
       "      <td>male</td>\n",
       "      <td>0</td>\n",
       "    </tr>\n",
       "    <tr>\n",
       "      <th>1296</th>\n",
       "      <td>Williams, Mr Howard Hugh</td>\n",
       "      <td>3rd</td>\n",
       "      <td>NaN</td>\n",
       "      <td>male</td>\n",
       "      <td>0</td>\n",
       "    </tr>\n",
       "    <tr>\n",
       "      <th>1300</th>\n",
       "      <td>Wiseman, Mr Phillippe</td>\n",
       "      <td>3rd</td>\n",
       "      <td>NaN</td>\n",
       "      <td>male</td>\n",
       "      <td>0</td>\n",
       "    </tr>\n",
       "    <tr>\n",
       "      <th>1302</th>\n",
       "      <td>Yalsevac, Mr Ivan</td>\n",
       "      <td>3rd</td>\n",
       "      <td>NaN</td>\n",
       "      <td>male</td>\n",
       "      <td>1</td>\n",
       "    </tr>\n",
       "    <tr>\n",
       "      <th>1305</th>\n",
       "      <td>Youssef, Mr Gerios</td>\n",
       "      <td>3rd</td>\n",
       "      <td>NaN</td>\n",
       "      <td>male</td>\n",
       "      <td>0</td>\n",
       "    </tr>\n",
       "  </tbody>\n",
       "</table>\n",
       "<p>851 rows × 5 columns</p>\n",
       "</div>"
      ]
     },
     "execution_count": 39,
     "metadata": {},
     "output_type": "execute_result"
    }
   ],
   "execution_count": 39
  },
  {
   "metadata": {},
   "cell_type": "code",
   "outputs": [],
   "execution_count": null,
   "source": ""
  }
 ],
 "metadata": {
  "kernelspec": {
   "display_name": "Python 3",
   "language": "python",
   "name": "python3"
  },
  "language_info": {
   "codemirror_mode": {
    "name": "ipython",
    "version": 3
   },
   "file_extension": ".py",
   "mimetype": "text/x-python",
   "name": "python",
   "nbconvert_exporter": "python",
   "pygments_lexer": "ipython3",
   "version": "3.11.1"
  }
 },
 "nbformat": 4,
 "nbformat_minor": 2
}
