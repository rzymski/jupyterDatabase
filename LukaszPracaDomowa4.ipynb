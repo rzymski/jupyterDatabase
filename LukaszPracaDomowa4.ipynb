{
 "cells": [
  {
   "cell_type": "code",
   "execution_count": 26,
   "id": "1953337e-a21b-447b-98c6-fd63f1c84607",
   "metadata": {
    "ExecuteTime": {
     "end_time": "2024-05-06T16:30:03.327809500Z",
     "start_time": "2024-05-06T16:30:03.291372300Z"
    }
   },
   "outputs": [],
   "source": [
    "import pandas as pd\n",
    "%matplotlib inline"
   ]
  },
  {
   "cell_type": "markdown",
   "id": "a6569c90-93cd-47ff-a541-1ca1c163c9a9",
   "metadata": {},
   "source": [
    "# Wczytanie tabeli"
   ]
  },
  {
   "cell_type": "code",
   "execution_count": 27,
   "id": "2c234aa2-f799-47c3-85a9-12abdb043389",
   "metadata": {
    "ExecuteTime": {
     "end_time": "2024-05-06T16:30:03.329478200Z",
     "start_time": "2024-05-06T16:30:03.295389600Z"
    }
   },
   "outputs": [],
   "source": [
    "branch_customers_df = pd.read_csv(\"BranchCustomers.csv\")\n",
    "new_customers_df = pd.read_csv(\"NewCustomers.csv\")"
   ]
  },
  {
   "cell_type": "markdown",
   "id": "7bde0e1a-a820-401f-9794-c706279f0efa",
   "metadata": {},
   "source": [
    "# Skrócenie kodów pocztowych do 5 cyfr"
   ]
  },
  {
   "cell_type": "code",
   "execution_count": 28,
   "id": "243c6dae-e128-472c-a5fb-a8be06ad9beb",
   "metadata": {
    "ExecuteTime": {
     "end_time": "2024-05-06T16:30:03.329478200Z",
     "start_time": "2024-05-06T16:30:03.300920400Z"
    }
   },
   "outputs": [],
   "source": [
    "branch_customers_df[\"cuszip\"] = branch_customers_df[\"cuszip\"].str[:5]\n",
    "\n",
    "new_customers_df[\"zip\"] = new_customers_df[\"zip\"].astype(str)\n",
    "new_customers_df[\"zip\"] = new_customers_df[\"zip\"].str[:5]"
   ]
  },
  {
   "cell_type": "markdown",
   "id": "ecb2a061-da34-4a23-99fc-0837a2105fa4",
   "metadata": {},
   "source": [
    "# Zamiana stanu na dwie duże litery"
   ]
  },
  {
   "cell_type": "code",
   "execution_count": 29,
   "id": "e2c5bb18-a7a5-4b7d-9a65-b6a54df2e94d",
   "metadata": {
    "ExecuteTime": {
     "end_time": "2024-05-06T16:30:03.340534300Z",
     "start_time": "2024-05-06T16:30:03.304765100Z"
    }
   },
   "outputs": [],
   "source": [
    "branch_customers_df[\"cusstate\"] = branch_customers_df[\"cusstate\"].str.upper()\n",
    "new_customers_df[\"state\"] = new_customers_df[\"state\"].str.upper()"
   ]
  },
  {
   "cell_type": "markdown",
   "id": "5c476472-ef88-4676-9ccc-5c3931792f3b",
   "metadata": {},
   "source": [
    "# Zamiana \"Pgh\" na \"Pittsburgh\""
   ]
  },
  {
   "cell_type": "code",
   "execution_count": 30,
   "id": "fe8c6404-3ad7-479a-abca-3d1740167bae",
   "metadata": {
    "ExecuteTime": {
     "end_time": "2024-05-06T16:30:03.340534300Z",
     "start_time": "2024-05-06T16:30:03.309067300Z"
    }
   },
   "outputs": [],
   "source": [
    "branch_customers_df[\"cuscity\"] = branch_customers_df[\"cuscity\"].str.replace(\"Pgh\", \"Pittsburgh\")\n",
    "new_customers_df[\"city\"] = new_customers_df[\"city\"].str.replace(\"Pgh\", \"Pittsburgh\")"
   ]
  },
  {
   "cell_type": "markdown",
   "id": "b8c162af-7175-44d6-a5ff-7739cd53d7b9",
   "metadata": {},
   "source": [
    "# Konkatenacja nazwy klienta i adresu"
   ]
  },
  {
   "cell_type": "code",
   "execution_count": 31,
   "id": "b944e600-f844-4f44-898a-5ab534cbe8aa",
   "metadata": {
    "ExecuteTime": {
     "end_time": "2024-05-06T16:30:03.344047100Z",
     "start_time": "2024-05-06T16:30:03.313310100Z"
    }
   },
   "outputs": [],
   "source": [
    "branch_customers_df[\"Name\"] = branch_customers_df[\"cusfname\"] + \" \" + branch_customers_df[\"cuslname\"]\n",
    "branch_customers_df.drop(['cusfname', 'cuslname'], axis=1, inplace=True)\n",
    "\n",
    "# nazwa klienta z wielkich liter\n",
    "branch_customers_df['Name'] = branch_customers_df['Name'].str.strip().str.upper()\n",
    "new_customers_df['Name'] = branch_customers_df['Name'].str.strip().str.upper()\n",
    "\n",
    "branch_customers_df[\"Address\"] = branch_customers_df[\"cusadd1\"] + \" \" + branch_customers_df[\"cusadd2\"]\n",
    "branch_customers_df.drop(['cusadd1', 'cusadd2'], axis=1, inplace=True)"
   ]
  },
  {
   "cell_type": "markdown",
   "id": "4ee6952c-719f-4fdf-9dd9-4eb8950e21ff",
   "metadata": {},
   "source": [
    "# Oczyszczenie kolumny nazwy miasta"
   ]
  },
  {
   "cell_type": "code",
   "execution_count": 32,
   "id": "344d6554-fce1-46b7-8a34-2df2177ca35e",
   "metadata": {
    "ExecuteTime": {
     "end_time": "2024-05-06T16:30:03.378913300Z",
     "start_time": "2024-05-06T16:30:03.320325200Z"
    }
   },
   "outputs": [],
   "source": [
    "branch_customers_df[\"cuscity\"] = branch_customers_df[\"cuscity\"].str.strip()"
   ]
  },
  {
   "cell_type": "markdown",
   "id": "1ce74b15-677f-41a2-ba9e-705e6c4d6e60",
   "metadata": {},
   "source": [
    "# Zmiana nazw kolumn"
   ]
  },
  {
   "cell_type": "code",
   "execution_count": 33,
   "id": "a772e4b9-0be8-4921-92df-dd33a0cd3bbf",
   "metadata": {
    "ExecuteTime": {
     "end_time": "2024-05-06T16:30:03.387544400Z",
     "start_time": "2024-05-06T16:30:03.320827100Z"
    }
   },
   "outputs": [],
   "source": [
    "branch_customers_df.rename(columns={\"cusrecentorder\": \"RecentOrder\"}, inplace=True)\n",
    "new_customers_df[\"RecentOrder\"] = \"3/1/2020\"\n",
    "\n",
    "new_customers_df.rename(columns={\"ID\": \"cusnum\"}, inplace=True)\n",
    "new_customers_df.rename(columns={\"city\": \"cuscity\"}, inplace=True)\n",
    "new_customers_df.rename(columns={\"state\": \"cusstate\"}, inplace=True)\n",
    "new_customers_df.rename(columns={\"zip\": \"cuszip\"}, inplace=True)"
   ]
  },
  {
   "cell_type": "markdown",
   "id": "4e759cd3-6ff7-4092-98b3-675078d471c1",
   "metadata": {},
   "source": [
    "# Połączenie tabel"
   ]
  },
  {
   "cell_type": "code",
   "execution_count": 34,
   "id": "32a4658d-8115-4d04-bee8-ea1ec0a114cc",
   "metadata": {
    "ExecuteTime": {
     "end_time": "2024-05-06T16:30:03.387544400Z",
     "start_time": "2024-05-06T16:30:03.327809500Z"
    }
   },
   "outputs": [],
   "source": [
    "all_customers_df = pd.concat([branch_customers_df, new_customers_df])"
   ]
  },
  {
   "cell_type": "markdown",
   "id": "17932dce-e5ae-4182-ade0-590f2e36494e",
   "metadata": {},
   "source": [
    "# Tabela wynikowa"
   ]
  },
  {
   "cell_type": "code",
   "execution_count": 35,
   "id": "38d260b2-aec1-4db2-8572-a636875d2499",
   "metadata": {
    "ExecuteTime": {
     "end_time": "2024-05-06T16:30:03.387544400Z",
     "start_time": "2024-05-06T16:30:03.329478200Z"
    }
   },
   "outputs": [
    {
     "data": {
      "text/plain": "    New_ID           Name                    Address     cuscity cusstate  \\\n0        0       JIM SEMP   123 Main Street Suite 23  Pittsburgh       PA   \n1        1     LAURA VAIL                        NaN  Morgantown       WV   \n2        2            NaN                        NaN  Pittsburgh       PA   \n3        3  JANET WENDELL  23212 Fern Circle Apt 100  Washington       DC   \n4        4  ALICIA ALBERT                        NaN  Pittsburgh       PA   \n5        5     HENRY KOBB     10 Dairy Way 2nd Floor  Pittsburgh       PA   \n6        6            NaN                        NaN        Ross       PA   \n7        7     PAUL TOLBY                        NaN        Ross       PA   \n8        8    OLIVE PLESS                        NaN     Oakland       PA   \n9        9   REMMY WALKER                        NaN     Oakland       PA   \n10      10            NaN                        NaN  Pittsburgh       PA   \n0        0       JIM SEMP                111 Lake Dr  Pittsburgh       PA   \n1        1     LAURA VAIL             57 College Way  Morgantown       WV   \n2        2            NaN              544 Fifth Ave  Pittsburgh       PA   \n3        3  JANET WENDELL          10332 West Street  McCandless       PA   \n4        4  ALICIA ALBERT          2333 N Bellefield  Pittsburgh       PA   \n5        5     HENRY KOBB  6767 W 54th Street, Apt B         NaN      NaN   \n6        6            NaN      500 West South Street  Pittsburgh       PA   \n\n   cuszip  cuszone         DOB             Contact                  cusemail  \\\n0   15217    North         NaN                 NaN            jsemp@mail.com   \n1   26501    North         NaN                 NaN    laura.vail@hotmail.com   \n2   15219  Central         NaN                 NaN          al@alsbakery.com   \n3   20001     West         NaN                 NaN            jwen@yahoo.com   \n4   15229    South         NaN                 NaN         aalbert@gmail.com   \n5   15229     East         NaN                 NaN          hank@kobbfam.net   \n6   15237  Central         NaN                 NaN  manager@cornermarket.com   \n7   15237     East         NaN                 NaN           pt23@school.edu   \n8   15213     West         NaN                 NaN         opless@pctech.com   \n9   15213    South         NaN                 NaN            walk.r@aol.com   \n10  15434     East         NaN                 NaN         71Csqhill@pgh.org   \n0   15212      NaN   8/15/1995   jf773@hotmail.com                       NaN   \n1   26501      NaN    6/4/1983        724-234-6542                       NaN   \n2   15219      NaN  10/15/1991      ratty@mail.com                       NaN   \n3   15234      NaN    3/8/1984        904-123-8337                       NaN   \n4   15213      NaN    3/3/1990       bmbm@pitt.edu                       NaN   \n5     nan      NaN  12/15/1964    opless@newpc.com                       NaN   \n6   15219      NaN   7/13/1995  klines2@klines.com                       NaN   \n\n        cusphone      ContactPref RecentOrder  cusannualsales  \n0   123-654-2344              NaN    5/1/2018         10000.0  \n1   756-345-6789              NaN    6/1/2016          5000.0  \n2   213-543-2342              NaN   8/12/2011         15000.0  \n3   434-786-3453              NaN  11/24/2014         12500.0  \n4   234-678-9234              NaN    6/3/2014           500.0  \n5   234-098-7464              NaN    3/5/2013          1300.0  \n6   222-837-6455              NaN    6/2/2018         13750.0  \n7   995-234-5656              NaN   7/13/2018          2500.0  \n8   234-765-2233              NaN   9/16/2017          7500.0  \n9   969-234-8367              NaN    8/1/2017         20000.0  \n10  412-098-8984              NaN  11/11/2018         22000.0  \n0            NaN            email    3/1/2020             NaN  \n1            NaN            phone    3/1/2020             NaN  \n2            NaN            email    3/1/2020             NaN  \n3            NaN  phone              3/1/2020             NaN  \n4            NaN            email    3/1/2020             NaN  \n5            NaN  email              3/1/2020             NaN  \n6            NaN            email    3/1/2020             NaN  ",
      "text/html": "<div>\n<style scoped>\n    .dataframe tbody tr th:only-of-type {\n        vertical-align: middle;\n    }\n\n    .dataframe tbody tr th {\n        vertical-align: top;\n    }\n\n    .dataframe thead th {\n        text-align: right;\n    }\n</style>\n<table border=\"1\" class=\"dataframe\">\n  <thead>\n    <tr style=\"text-align: right;\">\n      <th></th>\n      <th>New_ID</th>\n      <th>Name</th>\n      <th>Address</th>\n      <th>cuscity</th>\n      <th>cusstate</th>\n      <th>cuszip</th>\n      <th>cuszone</th>\n      <th>DOB</th>\n      <th>Contact</th>\n      <th>cusemail</th>\n      <th>cusphone</th>\n      <th>ContactPref</th>\n      <th>RecentOrder</th>\n      <th>cusannualsales</th>\n    </tr>\n  </thead>\n  <tbody>\n    <tr>\n      <th>0</th>\n      <td>0</td>\n      <td>JIM SEMP</td>\n      <td>123 Main Street Suite 23</td>\n      <td>Pittsburgh</td>\n      <td>PA</td>\n      <td>15217</td>\n      <td>North</td>\n      <td>NaN</td>\n      <td>NaN</td>\n      <td>jsemp@mail.com</td>\n      <td>123-654-2344</td>\n      <td>NaN</td>\n      <td>5/1/2018</td>\n      <td>10000.0</td>\n    </tr>\n    <tr>\n      <th>1</th>\n      <td>1</td>\n      <td>LAURA VAIL</td>\n      <td>NaN</td>\n      <td>Morgantown</td>\n      <td>WV</td>\n      <td>26501</td>\n      <td>North</td>\n      <td>NaN</td>\n      <td>NaN</td>\n      <td>laura.vail@hotmail.com</td>\n      <td>756-345-6789</td>\n      <td>NaN</td>\n      <td>6/1/2016</td>\n      <td>5000.0</td>\n    </tr>\n    <tr>\n      <th>2</th>\n      <td>2</td>\n      <td>NaN</td>\n      <td>NaN</td>\n      <td>Pittsburgh</td>\n      <td>PA</td>\n      <td>15219</td>\n      <td>Central</td>\n      <td>NaN</td>\n      <td>NaN</td>\n      <td>al@alsbakery.com</td>\n      <td>213-543-2342</td>\n      <td>NaN</td>\n      <td>8/12/2011</td>\n      <td>15000.0</td>\n    </tr>\n    <tr>\n      <th>3</th>\n      <td>3</td>\n      <td>JANET WENDELL</td>\n      <td>23212 Fern Circle Apt 100</td>\n      <td>Washington</td>\n      <td>DC</td>\n      <td>20001</td>\n      <td>West</td>\n      <td>NaN</td>\n      <td>NaN</td>\n      <td>jwen@yahoo.com</td>\n      <td>434-786-3453</td>\n      <td>NaN</td>\n      <td>11/24/2014</td>\n      <td>12500.0</td>\n    </tr>\n    <tr>\n      <th>4</th>\n      <td>4</td>\n      <td>ALICIA ALBERT</td>\n      <td>NaN</td>\n      <td>Pittsburgh</td>\n      <td>PA</td>\n      <td>15229</td>\n      <td>South</td>\n      <td>NaN</td>\n      <td>NaN</td>\n      <td>aalbert@gmail.com</td>\n      <td>234-678-9234</td>\n      <td>NaN</td>\n      <td>6/3/2014</td>\n      <td>500.0</td>\n    </tr>\n    <tr>\n      <th>5</th>\n      <td>5</td>\n      <td>HENRY KOBB</td>\n      <td>10 Dairy Way 2nd Floor</td>\n      <td>Pittsburgh</td>\n      <td>PA</td>\n      <td>15229</td>\n      <td>East</td>\n      <td>NaN</td>\n      <td>NaN</td>\n      <td>hank@kobbfam.net</td>\n      <td>234-098-7464</td>\n      <td>NaN</td>\n      <td>3/5/2013</td>\n      <td>1300.0</td>\n    </tr>\n    <tr>\n      <th>6</th>\n      <td>6</td>\n      <td>NaN</td>\n      <td>NaN</td>\n      <td>Ross</td>\n      <td>PA</td>\n      <td>15237</td>\n      <td>Central</td>\n      <td>NaN</td>\n      <td>NaN</td>\n      <td>manager@cornermarket.com</td>\n      <td>222-837-6455</td>\n      <td>NaN</td>\n      <td>6/2/2018</td>\n      <td>13750.0</td>\n    </tr>\n    <tr>\n      <th>7</th>\n      <td>7</td>\n      <td>PAUL TOLBY</td>\n      <td>NaN</td>\n      <td>Ross</td>\n      <td>PA</td>\n      <td>15237</td>\n      <td>East</td>\n      <td>NaN</td>\n      <td>NaN</td>\n      <td>pt23@school.edu</td>\n      <td>995-234-5656</td>\n      <td>NaN</td>\n      <td>7/13/2018</td>\n      <td>2500.0</td>\n    </tr>\n    <tr>\n      <th>8</th>\n      <td>8</td>\n      <td>OLIVE PLESS</td>\n      <td>NaN</td>\n      <td>Oakland</td>\n      <td>PA</td>\n      <td>15213</td>\n      <td>West</td>\n      <td>NaN</td>\n      <td>NaN</td>\n      <td>opless@pctech.com</td>\n      <td>234-765-2233</td>\n      <td>NaN</td>\n      <td>9/16/2017</td>\n      <td>7500.0</td>\n    </tr>\n    <tr>\n      <th>9</th>\n      <td>9</td>\n      <td>REMMY WALKER</td>\n      <td>NaN</td>\n      <td>Oakland</td>\n      <td>PA</td>\n      <td>15213</td>\n      <td>South</td>\n      <td>NaN</td>\n      <td>NaN</td>\n      <td>walk.r@aol.com</td>\n      <td>969-234-8367</td>\n      <td>NaN</td>\n      <td>8/1/2017</td>\n      <td>20000.0</td>\n    </tr>\n    <tr>\n      <th>10</th>\n      <td>10</td>\n      <td>NaN</td>\n      <td>NaN</td>\n      <td>Pittsburgh</td>\n      <td>PA</td>\n      <td>15434</td>\n      <td>East</td>\n      <td>NaN</td>\n      <td>NaN</td>\n      <td>71Csqhill@pgh.org</td>\n      <td>412-098-8984</td>\n      <td>NaN</td>\n      <td>11/11/2018</td>\n      <td>22000.0</td>\n    </tr>\n    <tr>\n      <th>0</th>\n      <td>0</td>\n      <td>JIM SEMP</td>\n      <td>111 Lake Dr</td>\n      <td>Pittsburgh</td>\n      <td>PA</td>\n      <td>15212</td>\n      <td>NaN</td>\n      <td>8/15/1995</td>\n      <td>jf773@hotmail.com</td>\n      <td>NaN</td>\n      <td>NaN</td>\n      <td>email</td>\n      <td>3/1/2020</td>\n      <td>NaN</td>\n    </tr>\n    <tr>\n      <th>1</th>\n      <td>1</td>\n      <td>LAURA VAIL</td>\n      <td>57 College Way</td>\n      <td>Morgantown</td>\n      <td>WV</td>\n      <td>26501</td>\n      <td>NaN</td>\n      <td>6/4/1983</td>\n      <td>724-234-6542</td>\n      <td>NaN</td>\n      <td>NaN</td>\n      <td>phone</td>\n      <td>3/1/2020</td>\n      <td>NaN</td>\n    </tr>\n    <tr>\n      <th>2</th>\n      <td>2</td>\n      <td>NaN</td>\n      <td>544 Fifth Ave</td>\n      <td>Pittsburgh</td>\n      <td>PA</td>\n      <td>15219</td>\n      <td>NaN</td>\n      <td>10/15/1991</td>\n      <td>ratty@mail.com</td>\n      <td>NaN</td>\n      <td>NaN</td>\n      <td>email</td>\n      <td>3/1/2020</td>\n      <td>NaN</td>\n    </tr>\n    <tr>\n      <th>3</th>\n      <td>3</td>\n      <td>JANET WENDELL</td>\n      <td>10332 West Street</td>\n      <td>McCandless</td>\n      <td>PA</td>\n      <td>15234</td>\n      <td>NaN</td>\n      <td>3/8/1984</td>\n      <td>904-123-8337</td>\n      <td>NaN</td>\n      <td>NaN</td>\n      <td>phone</td>\n      <td>3/1/2020</td>\n      <td>NaN</td>\n    </tr>\n    <tr>\n      <th>4</th>\n      <td>4</td>\n      <td>ALICIA ALBERT</td>\n      <td>2333 N Bellefield</td>\n      <td>Pittsburgh</td>\n      <td>PA</td>\n      <td>15213</td>\n      <td>NaN</td>\n      <td>3/3/1990</td>\n      <td>bmbm@pitt.edu</td>\n      <td>NaN</td>\n      <td>NaN</td>\n      <td>email</td>\n      <td>3/1/2020</td>\n      <td>NaN</td>\n    </tr>\n    <tr>\n      <th>5</th>\n      <td>5</td>\n      <td>HENRY KOBB</td>\n      <td>6767 W 54th Street, Apt B</td>\n      <td>NaN</td>\n      <td>NaN</td>\n      <td>nan</td>\n      <td>NaN</td>\n      <td>12/15/1964</td>\n      <td>opless@newpc.com</td>\n      <td>NaN</td>\n      <td>NaN</td>\n      <td>email</td>\n      <td>3/1/2020</td>\n      <td>NaN</td>\n    </tr>\n    <tr>\n      <th>6</th>\n      <td>6</td>\n      <td>NaN</td>\n      <td>500 West South Street</td>\n      <td>Pittsburgh</td>\n      <td>PA</td>\n      <td>15219</td>\n      <td>NaN</td>\n      <td>7/13/1995</td>\n      <td>klines2@klines.com</td>\n      <td>NaN</td>\n      <td>NaN</td>\n      <td>email</td>\n      <td>3/1/2020</td>\n      <td>NaN</td>\n    </tr>\n  </tbody>\n</table>\n</div>"
     },
     "execution_count": 35,
     "metadata": {},
     "output_type": "execute_result"
    }
   ],
   "source": [
    "#ujednolicenie id\n",
    "all_customers_df[\"New_ID\"] = all_customers_df.index\n",
    "all_customers_df.drop(['cusnum'], axis=1, inplace=True)\n",
    "\n",
    "all_customers_df = all_customers_df[['New_ID', 'Name', 'Address', 'cuscity', 'cusstate', 'cuszip', 'cuszone','DOB' ,'Contact', 'cusemail', 'cusphone', \n",
    "                                    'ContactPref', 'RecentOrder', 'cusannualsales']]\n",
    "\n",
    "all_customers_df"
   ]
  },
  {
   "cell_type": "code",
   "execution_count": 36,
   "id": "77a95efa-8e51-4b09-b0df-5382bd11717f",
   "metadata": {
    "ExecuteTime": {
     "end_time": "2024-05-06T16:30:03.387544400Z",
     "start_time": "2024-05-06T16:30:03.340534300Z"
    }
   },
   "outputs": [],
   "source": [
    "all_customers_df.to_csv(\"Output.csv\", index=False)"
   ]
  },
  {
   "cell_type": "code",
   "execution_count": 37,
   "id": "58e95a1a-257b-4ca4-a52d-50a5b00a5ec7",
   "metadata": {
    "ExecuteTime": {
     "end_time": "2024-05-06T16:30:03.387544400Z",
     "start_time": "2024-05-06T16:30:03.344047100Z"
    }
   },
   "outputs": [
    {
     "data": {
      "text/plain": "    New_ID           Name                    Address     cuscity cusstate  \\\n0        0       JIM SEMP   123 Main Street Suite 23  Pittsburgh       PA   \n1        1     LAURA VAIL                        NaN  Morgantown       WV   \n2        2            NaN                        NaN  Pittsburgh       PA   \n3        3  JANET WENDELL  23212 Fern Circle Apt 100  Washington       DC   \n4        4  ALICIA ALBERT                        NaN  Pittsburgh       PA   \n5        5     HENRY KOBB     10 Dairy Way 2nd Floor  Pittsburgh       PA   \n6        6            NaN                        NaN        Ross       PA   \n7        7     PAUL TOLBY                        NaN        Ross       PA   \n8        8    OLIVE PLESS                        NaN     Oakland       PA   \n9        9   REMMY WALKER                        NaN     Oakland       PA   \n10      10            NaN                        NaN  Pittsburgh       PA   \n11       0       JIM SEMP                111 Lake Dr  Pittsburgh       PA   \n12       1     LAURA VAIL             57 College Way  Morgantown       WV   \n13       2            NaN              544 Fifth Ave  Pittsburgh       PA   \n14       3  JANET WENDELL          10332 West Street  McCandless       PA   \n15       4  ALICIA ALBERT          2333 N Bellefield  Pittsburgh       PA   \n16       5     HENRY KOBB  6767 W 54th Street, Apt B         NaN      NaN   \n17       6            NaN      500 West South Street  Pittsburgh       PA   \n\n     cuszip  cuszone         DOB             Contact  \\\n0   15217.0    North         NaN                 NaN   \n1   26501.0    North         NaN                 NaN   \n2   15219.0  Central         NaN                 NaN   \n3   20001.0     West         NaN                 NaN   \n4   15229.0    South         NaN                 NaN   \n5   15229.0     East         NaN                 NaN   \n6   15237.0  Central         NaN                 NaN   \n7   15237.0     East         NaN                 NaN   \n8   15213.0     West         NaN                 NaN   \n9   15213.0    South         NaN                 NaN   \n10  15434.0     East         NaN                 NaN   \n11  15212.0      NaN   8/15/1995   jf773@hotmail.com   \n12  26501.0      NaN    6/4/1983        724-234-6542   \n13  15219.0      NaN  10/15/1991      ratty@mail.com   \n14  15234.0      NaN    3/8/1984        904-123-8337   \n15  15213.0      NaN    3/3/1990       bmbm@pitt.edu   \n16      NaN      NaN  12/15/1964    opless@newpc.com   \n17  15219.0      NaN   7/13/1995  klines2@klines.com   \n\n                    cusemail      cusphone      ContactPref RecentOrder  \\\n0             jsemp@mail.com  123-654-2344              NaN    5/1/2018   \n1     laura.vail@hotmail.com  756-345-6789              NaN    6/1/2016   \n2           al@alsbakery.com  213-543-2342              NaN   8/12/2011   \n3             jwen@yahoo.com  434-786-3453              NaN  11/24/2014   \n4          aalbert@gmail.com  234-678-9234              NaN    6/3/2014   \n5           hank@kobbfam.net  234-098-7464              NaN    3/5/2013   \n6   manager@cornermarket.com  222-837-6455              NaN    6/2/2018   \n7            pt23@school.edu  995-234-5656              NaN   7/13/2018   \n8          opless@pctech.com  234-765-2233              NaN   9/16/2017   \n9             walk.r@aol.com  969-234-8367              NaN    8/1/2017   \n10         71Csqhill@pgh.org  412-098-8984              NaN  11/11/2018   \n11                       NaN           NaN            email    3/1/2020   \n12                       NaN           NaN            phone    3/1/2020   \n13                       NaN           NaN            email    3/1/2020   \n14                       NaN           NaN  phone              3/1/2020   \n15                       NaN           NaN            email    3/1/2020   \n16                       NaN           NaN  email              3/1/2020   \n17                       NaN           NaN            email    3/1/2020   \n\n    cusannualsales  \n0          10000.0  \n1           5000.0  \n2          15000.0  \n3          12500.0  \n4            500.0  \n5           1300.0  \n6          13750.0  \n7           2500.0  \n8           7500.0  \n9          20000.0  \n10         22000.0  \n11             NaN  \n12             NaN  \n13             NaN  \n14             NaN  \n15             NaN  \n16             NaN  \n17             NaN  ",
      "text/html": "<div>\n<style scoped>\n    .dataframe tbody tr th:only-of-type {\n        vertical-align: middle;\n    }\n\n    .dataframe tbody tr th {\n        vertical-align: top;\n    }\n\n    .dataframe thead th {\n        text-align: right;\n    }\n</style>\n<table border=\"1\" class=\"dataframe\">\n  <thead>\n    <tr style=\"text-align: right;\">\n      <th></th>\n      <th>New_ID</th>\n      <th>Name</th>\n      <th>Address</th>\n      <th>cuscity</th>\n      <th>cusstate</th>\n      <th>cuszip</th>\n      <th>cuszone</th>\n      <th>DOB</th>\n      <th>Contact</th>\n      <th>cusemail</th>\n      <th>cusphone</th>\n      <th>ContactPref</th>\n      <th>RecentOrder</th>\n      <th>cusannualsales</th>\n    </tr>\n  </thead>\n  <tbody>\n    <tr>\n      <th>0</th>\n      <td>0</td>\n      <td>JIM SEMP</td>\n      <td>123 Main Street Suite 23</td>\n      <td>Pittsburgh</td>\n      <td>PA</td>\n      <td>15217.0</td>\n      <td>North</td>\n      <td>NaN</td>\n      <td>NaN</td>\n      <td>jsemp@mail.com</td>\n      <td>123-654-2344</td>\n      <td>NaN</td>\n      <td>5/1/2018</td>\n      <td>10000.0</td>\n    </tr>\n    <tr>\n      <th>1</th>\n      <td>1</td>\n      <td>LAURA VAIL</td>\n      <td>NaN</td>\n      <td>Morgantown</td>\n      <td>WV</td>\n      <td>26501.0</td>\n      <td>North</td>\n      <td>NaN</td>\n      <td>NaN</td>\n      <td>laura.vail@hotmail.com</td>\n      <td>756-345-6789</td>\n      <td>NaN</td>\n      <td>6/1/2016</td>\n      <td>5000.0</td>\n    </tr>\n    <tr>\n      <th>2</th>\n      <td>2</td>\n      <td>NaN</td>\n      <td>NaN</td>\n      <td>Pittsburgh</td>\n      <td>PA</td>\n      <td>15219.0</td>\n      <td>Central</td>\n      <td>NaN</td>\n      <td>NaN</td>\n      <td>al@alsbakery.com</td>\n      <td>213-543-2342</td>\n      <td>NaN</td>\n      <td>8/12/2011</td>\n      <td>15000.0</td>\n    </tr>\n    <tr>\n      <th>3</th>\n      <td>3</td>\n      <td>JANET WENDELL</td>\n      <td>23212 Fern Circle Apt 100</td>\n      <td>Washington</td>\n      <td>DC</td>\n      <td>20001.0</td>\n      <td>West</td>\n      <td>NaN</td>\n      <td>NaN</td>\n      <td>jwen@yahoo.com</td>\n      <td>434-786-3453</td>\n      <td>NaN</td>\n      <td>11/24/2014</td>\n      <td>12500.0</td>\n    </tr>\n    <tr>\n      <th>4</th>\n      <td>4</td>\n      <td>ALICIA ALBERT</td>\n      <td>NaN</td>\n      <td>Pittsburgh</td>\n      <td>PA</td>\n      <td>15229.0</td>\n      <td>South</td>\n      <td>NaN</td>\n      <td>NaN</td>\n      <td>aalbert@gmail.com</td>\n      <td>234-678-9234</td>\n      <td>NaN</td>\n      <td>6/3/2014</td>\n      <td>500.0</td>\n    </tr>\n    <tr>\n      <th>5</th>\n      <td>5</td>\n      <td>HENRY KOBB</td>\n      <td>10 Dairy Way 2nd Floor</td>\n      <td>Pittsburgh</td>\n      <td>PA</td>\n      <td>15229.0</td>\n      <td>East</td>\n      <td>NaN</td>\n      <td>NaN</td>\n      <td>hank@kobbfam.net</td>\n      <td>234-098-7464</td>\n      <td>NaN</td>\n      <td>3/5/2013</td>\n      <td>1300.0</td>\n    </tr>\n    <tr>\n      <th>6</th>\n      <td>6</td>\n      <td>NaN</td>\n      <td>NaN</td>\n      <td>Ross</td>\n      <td>PA</td>\n      <td>15237.0</td>\n      <td>Central</td>\n      <td>NaN</td>\n      <td>NaN</td>\n      <td>manager@cornermarket.com</td>\n      <td>222-837-6455</td>\n      <td>NaN</td>\n      <td>6/2/2018</td>\n      <td>13750.0</td>\n    </tr>\n    <tr>\n      <th>7</th>\n      <td>7</td>\n      <td>PAUL TOLBY</td>\n      <td>NaN</td>\n      <td>Ross</td>\n      <td>PA</td>\n      <td>15237.0</td>\n      <td>East</td>\n      <td>NaN</td>\n      <td>NaN</td>\n      <td>pt23@school.edu</td>\n      <td>995-234-5656</td>\n      <td>NaN</td>\n      <td>7/13/2018</td>\n      <td>2500.0</td>\n    </tr>\n    <tr>\n      <th>8</th>\n      <td>8</td>\n      <td>OLIVE PLESS</td>\n      <td>NaN</td>\n      <td>Oakland</td>\n      <td>PA</td>\n      <td>15213.0</td>\n      <td>West</td>\n      <td>NaN</td>\n      <td>NaN</td>\n      <td>opless@pctech.com</td>\n      <td>234-765-2233</td>\n      <td>NaN</td>\n      <td>9/16/2017</td>\n      <td>7500.0</td>\n    </tr>\n    <tr>\n      <th>9</th>\n      <td>9</td>\n      <td>REMMY WALKER</td>\n      <td>NaN</td>\n      <td>Oakland</td>\n      <td>PA</td>\n      <td>15213.0</td>\n      <td>South</td>\n      <td>NaN</td>\n      <td>NaN</td>\n      <td>walk.r@aol.com</td>\n      <td>969-234-8367</td>\n      <td>NaN</td>\n      <td>8/1/2017</td>\n      <td>20000.0</td>\n    </tr>\n    <tr>\n      <th>10</th>\n      <td>10</td>\n      <td>NaN</td>\n      <td>NaN</td>\n      <td>Pittsburgh</td>\n      <td>PA</td>\n      <td>15434.0</td>\n      <td>East</td>\n      <td>NaN</td>\n      <td>NaN</td>\n      <td>71Csqhill@pgh.org</td>\n      <td>412-098-8984</td>\n      <td>NaN</td>\n      <td>11/11/2018</td>\n      <td>22000.0</td>\n    </tr>\n    <tr>\n      <th>11</th>\n      <td>0</td>\n      <td>JIM SEMP</td>\n      <td>111 Lake Dr</td>\n      <td>Pittsburgh</td>\n      <td>PA</td>\n      <td>15212.0</td>\n      <td>NaN</td>\n      <td>8/15/1995</td>\n      <td>jf773@hotmail.com</td>\n      <td>NaN</td>\n      <td>NaN</td>\n      <td>email</td>\n      <td>3/1/2020</td>\n      <td>NaN</td>\n    </tr>\n    <tr>\n      <th>12</th>\n      <td>1</td>\n      <td>LAURA VAIL</td>\n      <td>57 College Way</td>\n      <td>Morgantown</td>\n      <td>WV</td>\n      <td>26501.0</td>\n      <td>NaN</td>\n      <td>6/4/1983</td>\n      <td>724-234-6542</td>\n      <td>NaN</td>\n      <td>NaN</td>\n      <td>phone</td>\n      <td>3/1/2020</td>\n      <td>NaN</td>\n    </tr>\n    <tr>\n      <th>13</th>\n      <td>2</td>\n      <td>NaN</td>\n      <td>544 Fifth Ave</td>\n      <td>Pittsburgh</td>\n      <td>PA</td>\n      <td>15219.0</td>\n      <td>NaN</td>\n      <td>10/15/1991</td>\n      <td>ratty@mail.com</td>\n      <td>NaN</td>\n      <td>NaN</td>\n      <td>email</td>\n      <td>3/1/2020</td>\n      <td>NaN</td>\n    </tr>\n    <tr>\n      <th>14</th>\n      <td>3</td>\n      <td>JANET WENDELL</td>\n      <td>10332 West Street</td>\n      <td>McCandless</td>\n      <td>PA</td>\n      <td>15234.0</td>\n      <td>NaN</td>\n      <td>3/8/1984</td>\n      <td>904-123-8337</td>\n      <td>NaN</td>\n      <td>NaN</td>\n      <td>phone</td>\n      <td>3/1/2020</td>\n      <td>NaN</td>\n    </tr>\n    <tr>\n      <th>15</th>\n      <td>4</td>\n      <td>ALICIA ALBERT</td>\n      <td>2333 N Bellefield</td>\n      <td>Pittsburgh</td>\n      <td>PA</td>\n      <td>15213.0</td>\n      <td>NaN</td>\n      <td>3/3/1990</td>\n      <td>bmbm@pitt.edu</td>\n      <td>NaN</td>\n      <td>NaN</td>\n      <td>email</td>\n      <td>3/1/2020</td>\n      <td>NaN</td>\n    </tr>\n    <tr>\n      <th>16</th>\n      <td>5</td>\n      <td>HENRY KOBB</td>\n      <td>6767 W 54th Street, Apt B</td>\n      <td>NaN</td>\n      <td>NaN</td>\n      <td>NaN</td>\n      <td>NaN</td>\n      <td>12/15/1964</td>\n      <td>opless@newpc.com</td>\n      <td>NaN</td>\n      <td>NaN</td>\n      <td>email</td>\n      <td>3/1/2020</td>\n      <td>NaN</td>\n    </tr>\n    <tr>\n      <th>17</th>\n      <td>6</td>\n      <td>NaN</td>\n      <td>500 West South Street</td>\n      <td>Pittsburgh</td>\n      <td>PA</td>\n      <td>15219.0</td>\n      <td>NaN</td>\n      <td>7/13/1995</td>\n      <td>klines2@klines.com</td>\n      <td>NaN</td>\n      <td>NaN</td>\n      <td>email</td>\n      <td>3/1/2020</td>\n      <td>NaN</td>\n    </tr>\n  </tbody>\n</table>\n</div>"
     },
     "execution_count": 37,
     "metadata": {},
     "output_type": "execute_result"
    }
   ],
   "source": [
    "tmp = pd.read_csv(\"Output.csv\")\n",
    "tmp"
   ]
  }
 ],
 "metadata": {
  "kernelspec": {
   "display_name": "Python 3 (ipykernel)",
   "language": "python",
   "name": "python3"
  },
  "language_info": {
   "codemirror_mode": {
    "name": "ipython",
    "version": 3
   },
   "file_extension": ".py",
   "mimetype": "text/x-python",
   "name": "python",
   "nbconvert_exporter": "python",
   "pygments_lexer": "ipython3",
   "version": "3.11.7"
  }
 },
 "nbformat": 4,
 "nbformat_minor": 5
}
