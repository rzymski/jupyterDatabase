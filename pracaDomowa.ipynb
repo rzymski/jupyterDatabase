{
 "cells": [
  {
   "cell_type": "code",
   "execution_count": 678,
   "metadata": {
    "collapsed": true,
    "ExecuteTime": {
     "end_time": "2024-05-06T16:42:06.883241700Z",
     "start_time": "2024-05-06T16:42:06.785081200Z"
    }
   },
   "outputs": [],
   "source": [
    "import pandas as pd"
   ]
  },
  {
   "cell_type": "markdown",
   "source": [
    "# Wczytanie plikow csv"
   ],
   "metadata": {
    "collapsed": false
   }
  },
  {
   "cell_type": "code",
   "execution_count": 679,
   "outputs": [
    {
     "data": {
      "text/plain": "                           ID          Name                    Address  \\\n0                   C1          jill franks                111 Lake Dr   \n1                 C2              sal yates             57 College Way   \n2                   C3         will ratliff              544 Fifth Ave   \n3                   C4          fran vicks           10332 West Street   \n4              C5              billy murray          2333 N Bellefield   \n5  C6                           olive pless  6767 W 54th Street, Apt B   \n6                     C7            kline's      500 West South Street   \n\n         city state      zip      ContactPref             Contact         DOB  \n0         Pgh    Pa  15212.0            email   jf773@hotmail.com   8/15/1995  \n1  Morgantown    WV  26501.0            phone        724-234-6542    6/4/1983  \n2         Pgh    Pa  15219.0            email      ratty@mail.com  10/15/1991  \n3  McCandless    PA  15234.0  phone                  904-123-8337    3/8/1984  \n4         Pgh    PA  15213.0            email       bmbm@pitt.edu    3/3/1990  \n5         NaN   NaN      NaN  email              opless@newpc.com  12/15/1964  \n6         Pgh    PA  15219.0            email  klines2@klines.com   7/13/1995  ",
      "text/html": "<div>\n<style scoped>\n    .dataframe tbody tr th:only-of-type {\n        vertical-align: middle;\n    }\n\n    .dataframe tbody tr th {\n        vertical-align: top;\n    }\n\n    .dataframe thead th {\n        text-align: right;\n    }\n</style>\n<table border=\"1\" class=\"dataframe\">\n  <thead>\n    <tr style=\"text-align: right;\">\n      <th></th>\n      <th>ID</th>\n      <th>Name</th>\n      <th>Address</th>\n      <th>city</th>\n      <th>state</th>\n      <th>zip</th>\n      <th>ContactPref</th>\n      <th>Contact</th>\n      <th>DOB</th>\n    </tr>\n  </thead>\n  <tbody>\n    <tr>\n      <th>0</th>\n      <td>C1</td>\n      <td>jill franks</td>\n      <td>111 Lake Dr</td>\n      <td>Pgh</td>\n      <td>Pa</td>\n      <td>15212.0</td>\n      <td>email</td>\n      <td>jf773@hotmail.com</td>\n      <td>8/15/1995</td>\n    </tr>\n    <tr>\n      <th>1</th>\n      <td>C2</td>\n      <td>sal yates</td>\n      <td>57 College Way</td>\n      <td>Morgantown</td>\n      <td>WV</td>\n      <td>26501.0</td>\n      <td>phone</td>\n      <td>724-234-6542</td>\n      <td>6/4/1983</td>\n    </tr>\n    <tr>\n      <th>2</th>\n      <td>C3</td>\n      <td>will ratliff</td>\n      <td>544 Fifth Ave</td>\n      <td>Pgh</td>\n      <td>Pa</td>\n      <td>15219.0</td>\n      <td>email</td>\n      <td>ratty@mail.com</td>\n      <td>10/15/1991</td>\n    </tr>\n    <tr>\n      <th>3</th>\n      <td>C4</td>\n      <td>fran vicks</td>\n      <td>10332 West Street</td>\n      <td>McCandless</td>\n      <td>PA</td>\n      <td>15234.0</td>\n      <td>phone</td>\n      <td>904-123-8337</td>\n      <td>3/8/1984</td>\n    </tr>\n    <tr>\n      <th>4</th>\n      <td>C5</td>\n      <td>billy murray</td>\n      <td>2333 N Bellefield</td>\n      <td>Pgh</td>\n      <td>PA</td>\n      <td>15213.0</td>\n      <td>email</td>\n      <td>bmbm@pitt.edu</td>\n      <td>3/3/1990</td>\n    </tr>\n    <tr>\n      <th>5</th>\n      <td>C6</td>\n      <td>olive pless</td>\n      <td>6767 W 54th Street, Apt B</td>\n      <td>NaN</td>\n      <td>NaN</td>\n      <td>NaN</td>\n      <td>email</td>\n      <td>opless@newpc.com</td>\n      <td>12/15/1964</td>\n    </tr>\n    <tr>\n      <th>6</th>\n      <td>C7</td>\n      <td>kline's</td>\n      <td>500 West South Street</td>\n      <td>Pgh</td>\n      <td>PA</td>\n      <td>15219.0</td>\n      <td>email</td>\n      <td>klines2@klines.com</td>\n      <td>7/13/1995</td>\n    </tr>\n  </tbody>\n</table>\n</div>"
     },
     "execution_count": 679,
     "metadata": {},
     "output_type": "execute_result"
    }
   ],
   "source": [
    "nc = pd.read_csv(\"NewCustomers.csv\")\n",
    "nc"
   ],
   "metadata": {
    "collapsed": false,
    "ExecuteTime": {
     "end_time": "2024-05-06T16:42:06.896424600Z",
     "start_time": "2024-05-06T16:42:06.793056500Z"
    }
   }
  },
  {
   "cell_type": "code",
   "execution_count": 680,
   "outputs": [
    {
     "data": {
      "text/plain": "   cusnum       cusfname cuslname cusmiddle                  cusemail  \\\n0     A01            Jim     Semp         A            jsemp@mail.com   \n1     A03          Laura     Vail       NaN    laura.vail@hotmail.com   \n2     A05    Al's Bakery      NaN       NaN          al@alsbakery.com   \n3     A07          Janet  Wendell         R            jwen@yahoo.com   \n4     A09         Alicia   Albert       NaN         aalbert@gmail.com   \n5     A11          Henry     Kobb       NaN          hank@kobbfam.net   \n6     A13  Corner Market      NaN       NaN  manager@cornermarket.com   \n7     A15           Paul    Tolby         E           pt23@school.edu   \n8     A17          Olive    Pless       NaN         opless@pctech.com   \n9     A19          Remmy   Walker         L            walk.r@aol.com   \n10    A21         71Cafe      NaN       NaN         71Csqhill@pgh.org   \n\n        cusphone            cusadd1    cusadd2      cuscity cusstate  \\\n0   123-654-2344    123 Main Street   Suite 23   Pittsburgh       PA   \n1   756-345-6789        23 Oak Lane        NaN   Morgantown       WV   \n2   213-543-2342      846 Fifth Ave        NaN   Pittsburgh       PA   \n3   434-786-3453  23212 Fern Circle    Apt 100   Washington       DC   \n4   234-678-9234     432 Forbes Ave        NaN   Pittsburgh       PA   \n5   234-098-7464       10 Dairy Way  2nd Floor   Pittsburgh       PA   \n6   222-837-6455   1500 Bruster Way        NaN        Ross        PA   \n7   995-234-5656       230 Route 12        NaN        Ross        PA   \n8   234-765-2233     15 Horse Alley        NaN     Oakland        PA   \n9   969-234-8367     100 Silver Hwy        NaN     Oakland        PA   \n10  412-098-8984    3322 Forbes Ave        NaN  Pittsburgh        PA   \n\n        cuszip cusfirstorder cusrecentorder  cuszone  cusannualsales  \\\n0   15217-2233      3/1/2009       5/1/2018    North           10000   \n1        26501     11/9/2008       6/1/2016    North            5000   \n2   15219-1222     1/15/2007      8/12/2011  Central           15000   \n3        20001      5/9/2010     11/24/2014     West           12500   \n4        15229      3/2/2006       6/3/2014    South             500   \n5   15229-8821     8/21/2004       3/5/2013     East            1300   \n6        15237     6/14/2010       6/2/2018  Central           13750   \n7        15237      4/3/2001      7/13/2018     East            2500   \n8   15213-8260    10/12/2000      9/16/2017     West            7500   \n9        15213      6/1/2012       8/1/2017    South           20000   \n10       15434     7/22/2012     11/11/2018     East           22000   \n\n    currentbalance  \n0              200  \n1              314  \n2                0  \n3              798  \n4              125  \n5               57  \n6              341  \n7               75  \n8              213  \n9                0  \n10             550  ",
      "text/html": "<div>\n<style scoped>\n    .dataframe tbody tr th:only-of-type {\n        vertical-align: middle;\n    }\n\n    .dataframe tbody tr th {\n        vertical-align: top;\n    }\n\n    .dataframe thead th {\n        text-align: right;\n    }\n</style>\n<table border=\"1\" class=\"dataframe\">\n  <thead>\n    <tr style=\"text-align: right;\">\n      <th></th>\n      <th>cusnum</th>\n      <th>cusfname</th>\n      <th>cuslname</th>\n      <th>cusmiddle</th>\n      <th>cusemail</th>\n      <th>cusphone</th>\n      <th>cusadd1</th>\n      <th>cusadd2</th>\n      <th>cuscity</th>\n      <th>cusstate</th>\n      <th>cuszip</th>\n      <th>cusfirstorder</th>\n      <th>cusrecentorder</th>\n      <th>cuszone</th>\n      <th>cusannualsales</th>\n      <th>currentbalance</th>\n    </tr>\n  </thead>\n  <tbody>\n    <tr>\n      <th>0</th>\n      <td>A01</td>\n      <td>Jim</td>\n      <td>Semp</td>\n      <td>A</td>\n      <td>jsemp@mail.com</td>\n      <td>123-654-2344</td>\n      <td>123 Main Street</td>\n      <td>Suite 23</td>\n      <td>Pittsburgh</td>\n      <td>PA</td>\n      <td>15217-2233</td>\n      <td>3/1/2009</td>\n      <td>5/1/2018</td>\n      <td>North</td>\n      <td>10000</td>\n      <td>200</td>\n    </tr>\n    <tr>\n      <th>1</th>\n      <td>A03</td>\n      <td>Laura</td>\n      <td>Vail</td>\n      <td>NaN</td>\n      <td>laura.vail@hotmail.com</td>\n      <td>756-345-6789</td>\n      <td>23 Oak Lane</td>\n      <td>NaN</td>\n      <td>Morgantown</td>\n      <td>WV</td>\n      <td>26501</td>\n      <td>11/9/2008</td>\n      <td>6/1/2016</td>\n      <td>North</td>\n      <td>5000</td>\n      <td>314</td>\n    </tr>\n    <tr>\n      <th>2</th>\n      <td>A05</td>\n      <td>Al's Bakery</td>\n      <td>NaN</td>\n      <td>NaN</td>\n      <td>al@alsbakery.com</td>\n      <td>213-543-2342</td>\n      <td>846 Fifth Ave</td>\n      <td>NaN</td>\n      <td>Pittsburgh</td>\n      <td>PA</td>\n      <td>15219-1222</td>\n      <td>1/15/2007</td>\n      <td>8/12/2011</td>\n      <td>Central</td>\n      <td>15000</td>\n      <td>0</td>\n    </tr>\n    <tr>\n      <th>3</th>\n      <td>A07</td>\n      <td>Janet</td>\n      <td>Wendell</td>\n      <td>R</td>\n      <td>jwen@yahoo.com</td>\n      <td>434-786-3453</td>\n      <td>23212 Fern Circle</td>\n      <td>Apt 100</td>\n      <td>Washington</td>\n      <td>DC</td>\n      <td>20001</td>\n      <td>5/9/2010</td>\n      <td>11/24/2014</td>\n      <td>West</td>\n      <td>12500</td>\n      <td>798</td>\n    </tr>\n    <tr>\n      <th>4</th>\n      <td>A09</td>\n      <td>Alicia</td>\n      <td>Albert</td>\n      <td>NaN</td>\n      <td>aalbert@gmail.com</td>\n      <td>234-678-9234</td>\n      <td>432 Forbes Ave</td>\n      <td>NaN</td>\n      <td>Pittsburgh</td>\n      <td>PA</td>\n      <td>15229</td>\n      <td>3/2/2006</td>\n      <td>6/3/2014</td>\n      <td>South</td>\n      <td>500</td>\n      <td>125</td>\n    </tr>\n    <tr>\n      <th>5</th>\n      <td>A11</td>\n      <td>Henry</td>\n      <td>Kobb</td>\n      <td>NaN</td>\n      <td>hank@kobbfam.net</td>\n      <td>234-098-7464</td>\n      <td>10 Dairy Way</td>\n      <td>2nd Floor</td>\n      <td>Pittsburgh</td>\n      <td>PA</td>\n      <td>15229-8821</td>\n      <td>8/21/2004</td>\n      <td>3/5/2013</td>\n      <td>East</td>\n      <td>1300</td>\n      <td>57</td>\n    </tr>\n    <tr>\n      <th>6</th>\n      <td>A13</td>\n      <td>Corner Market</td>\n      <td>NaN</td>\n      <td>NaN</td>\n      <td>manager@cornermarket.com</td>\n      <td>222-837-6455</td>\n      <td>1500 Bruster Way</td>\n      <td>NaN</td>\n      <td>Ross</td>\n      <td>PA</td>\n      <td>15237</td>\n      <td>6/14/2010</td>\n      <td>6/2/2018</td>\n      <td>Central</td>\n      <td>13750</td>\n      <td>341</td>\n    </tr>\n    <tr>\n      <th>7</th>\n      <td>A15</td>\n      <td>Paul</td>\n      <td>Tolby</td>\n      <td>E</td>\n      <td>pt23@school.edu</td>\n      <td>995-234-5656</td>\n      <td>230 Route 12</td>\n      <td>NaN</td>\n      <td>Ross</td>\n      <td>PA</td>\n      <td>15237</td>\n      <td>4/3/2001</td>\n      <td>7/13/2018</td>\n      <td>East</td>\n      <td>2500</td>\n      <td>75</td>\n    </tr>\n    <tr>\n      <th>8</th>\n      <td>A17</td>\n      <td>Olive</td>\n      <td>Pless</td>\n      <td>NaN</td>\n      <td>opless@pctech.com</td>\n      <td>234-765-2233</td>\n      <td>15 Horse Alley</td>\n      <td>NaN</td>\n      <td>Oakland</td>\n      <td>PA</td>\n      <td>15213-8260</td>\n      <td>10/12/2000</td>\n      <td>9/16/2017</td>\n      <td>West</td>\n      <td>7500</td>\n      <td>213</td>\n    </tr>\n    <tr>\n      <th>9</th>\n      <td>A19</td>\n      <td>Remmy</td>\n      <td>Walker</td>\n      <td>L</td>\n      <td>walk.r@aol.com</td>\n      <td>969-234-8367</td>\n      <td>100 Silver Hwy</td>\n      <td>NaN</td>\n      <td>Oakland</td>\n      <td>PA</td>\n      <td>15213</td>\n      <td>6/1/2012</td>\n      <td>8/1/2017</td>\n      <td>South</td>\n      <td>20000</td>\n      <td>0</td>\n    </tr>\n    <tr>\n      <th>10</th>\n      <td>A21</td>\n      <td>71Cafe</td>\n      <td>NaN</td>\n      <td>NaN</td>\n      <td>71Csqhill@pgh.org</td>\n      <td>412-098-8984</td>\n      <td>3322 Forbes Ave</td>\n      <td>NaN</td>\n      <td>Pittsburgh</td>\n      <td>PA</td>\n      <td>15434</td>\n      <td>7/22/2012</td>\n      <td>11/11/2018</td>\n      <td>East</td>\n      <td>22000</td>\n      <td>550</td>\n    </tr>\n  </tbody>\n</table>\n</div>"
     },
     "execution_count": 680,
     "metadata": {},
     "output_type": "execute_result"
    }
   ],
   "source": [
    "bc = pd.read_csv(\"BranchCustomers.csv\")\n",
    "bc"
   ],
   "metadata": {
    "collapsed": false,
    "ExecuteTime": {
     "end_time": "2024-05-06T16:42:06.948257100Z",
     "start_time": "2024-05-06T16:42:06.799885100Z"
    }
   }
  },
  {
   "cell_type": "markdown",
   "source": [
    "# Usuniecie niepotrzebnych kolumn"
   ],
   "metadata": {
    "collapsed": false
   }
  },
  {
   "cell_type": "code",
   "execution_count": 681,
   "outputs": [],
   "source": [
    "nc = nc.drop(columns=['DOB'])"
   ],
   "metadata": {
    "collapsed": false,
    "ExecuteTime": {
     "end_time": "2024-05-06T16:42:06.950250700Z",
     "start_time": "2024-05-06T16:42:06.808150400Z"
    }
   }
  },
  {
   "cell_type": "code",
   "execution_count": 682,
   "outputs": [],
   "source": [
    "bc = bc.drop(columns=['cusfirstorder', 'cuszone', 'cusannualsales', 'currentbalance'])"
   ],
   "metadata": {
    "collapsed": false,
    "ExecuteTime": {
     "end_time": "2024-05-06T16:42:06.950250700Z",
     "start_time": "2024-05-06T16:42:06.811395800Z"
    }
   }
  },
  {
   "cell_type": "markdown",
   "source": [
    "# ZAD 2 Kod pocztowy powinien być reprezentowany przez 5 cyfr"
   ],
   "metadata": {
    "collapsed": false
   }
  },
  {
   "cell_type": "code",
   "execution_count": 683,
   "outputs": [],
   "source": [
    "nc['zip'] = nc['zip'].astype(str).str.slice(0, 5)"
   ],
   "metadata": {
    "collapsed": false,
    "ExecuteTime": {
     "end_time": "2024-05-06T16:42:06.952748300Z",
     "start_time": "2024-05-06T16:42:06.815541300Z"
    }
   }
  },
  {
   "cell_type": "code",
   "execution_count": 684,
   "outputs": [],
   "source": [
    "bc = bc.rename(columns={'cuszip': 'zip'})\n",
    "bc['zip'] = bc['zip'].astype(str).str.slice(0,5)"
   ],
   "metadata": {
    "collapsed": false,
    "ExecuteTime": {
     "end_time": "2024-05-06T16:42:06.952748300Z",
     "start_time": "2024-05-06T16:42:06.818298Z"
    }
   }
  },
  {
   "cell_type": "markdown",
   "source": [
    "# ZAD 3 Stan powinien być zawsze reprezentowany przez dwie duże litery."
   ],
   "metadata": {
    "collapsed": false
   }
  },
  {
   "cell_type": "code",
   "execution_count": 685,
   "outputs": [],
   "source": [
    "nc['state'] = nc['state'].str.upper().str.slice(0, 2)"
   ],
   "metadata": {
    "collapsed": false,
    "ExecuteTime": {
     "end_time": "2024-05-06T16:42:06.959782500Z",
     "start_time": "2024-05-06T16:42:06.821694300Z"
    }
   }
  },
  {
   "cell_type": "code",
   "execution_count": 686,
   "outputs": [],
   "source": [
    "bc = bc.rename(columns={'cusstate': 'state'})\n",
    "bc['state'] = bc['state'].str.upper().str.slice(0, 2)"
   ],
   "metadata": {
    "collapsed": false,
    "ExecuteTime": {
     "end_time": "2024-05-06T16:42:06.959782500Z",
     "start_time": "2024-05-06T16:42:06.824870700Z"
    }
   }
  },
  {
   "cell_type": "markdown",
   "source": [
    "# ZAD 4 Należy zmienić każde wystąpienie skrótu Pgh na pełną nazwę miasta tj. Pittsburgh."
   ],
   "metadata": {
    "collapsed": false
   }
  },
  {
   "cell_type": "code",
   "execution_count": 687,
   "outputs": [],
   "source": [
    "nc['city'] = nc['city'].str.replace('Pgh', 'Pittsburgh')"
   ],
   "metadata": {
    "collapsed": false,
    "ExecuteTime": {
     "end_time": "2024-05-06T16:42:06.961776300Z",
     "start_time": "2024-05-06T16:42:06.829883200Z"
    }
   }
  },
  {
   "cell_type": "code",
   "execution_count": 688,
   "outputs": [],
   "source": [
    "bc = bc.rename(columns={'cuscity':'city'})\n",
    "bc['city'] = bc['city'].str.replace('Pgh', 'Pittsburgh')"
   ],
   "metadata": {
    "collapsed": false,
    "ExecuteTime": {
     "end_time": "2024-05-06T16:42:06.961776300Z",
     "start_time": "2024-05-06T16:42:06.830882Z"
    }
   }
  },
  {
   "cell_type": "markdown",
   "source": [
    "# ZAD 5 Nazwa klienta i adres powinny być reprezentowana przez pojedyńcze pola. Jeśli nazwa klienta jest reprezentowana przez dwa pola, wówczas należy dokonać konkatenacji (np. pola cusaddress1 oraz cusaddress2 w BranchCustomers powinny być reprezentowane przez jedną kolumnę)"
   ],
   "metadata": {
    "collapsed": false
   }
  },
  {
   "cell_type": "code",
   "execution_count": 689,
   "outputs": [],
   "source": [
    "bc = bc.rename(columns={'cusfname':'Name'})\n",
    "bc['Name'] = bc['Name'].fillna('') + ' ' + bc['cusmiddle'].fillna('') + ' ' + bc['cuslname'].fillna('')\n",
    "bc['Name'] = bc['Name'].str.strip().replace(r'\\s+', ' ', regex=True)\n",
    "bc = bc.drop(columns=['cusmiddle'])\n",
    "bc = bc.drop(columns=['cuslname'])"
   ],
   "metadata": {
    "collapsed": false,
    "ExecuteTime": {
     "end_time": "2024-05-06T16:42:06.963769100Z",
     "start_time": "2024-05-06T16:42:06.835220800Z"
    }
   }
  },
  {
   "cell_type": "code",
   "execution_count": 690,
   "outputs": [],
   "source": [
    "bc = bc.rename(columns={'cusadd1':'Address'})\n",
    "bc['Address'] = bc['Address'].fillna('') + ' ' + bc['cusadd2'].fillna('')\n",
    "bc = bc.drop(columns=['cusadd2'])"
   ],
   "metadata": {
    "collapsed": false,
    "ExecuteTime": {
     "end_time": "2024-05-06T16:42:06.963769100Z",
     "start_time": "2024-05-06T16:42:06.839959800Z"
    }
   }
  },
  {
   "cell_type": "markdown",
   "source": [
    "# ZAD 6 Należy zmienić nazwę klienta na wielkie litery i usunąć niepotrzebne początkowe i końcowe znaki białe (spacje)"
   ],
   "metadata": {
    "collapsed": false
   }
  },
  {
   "cell_type": "code",
   "execution_count": 691,
   "outputs": [],
   "source": [
    "nc['Name'] = nc['Name'].str.strip().str.upper()"
   ],
   "metadata": {
    "collapsed": false,
    "ExecuteTime": {
     "end_time": "2024-05-06T16:42:06.970025Z",
     "start_time": "2024-05-06T16:42:06.843832500Z"
    }
   }
  },
  {
   "cell_type": "code",
   "execution_count": 692,
   "outputs": [],
   "source": [
    "bc['Name'] = bc['Name'].str.strip().str.upper()"
   ],
   "metadata": {
    "collapsed": false,
    "ExecuteTime": {
     "end_time": "2024-05-06T16:42:06.970025Z",
     "start_time": "2024-05-06T16:42:06.847261800Z"
    }
   }
  },
  {
   "cell_type": "markdown",
   "source": [
    "# ZAD 7 Należy oczyścić z białych znaków też kolumnę nazwy miasta"
   ],
   "metadata": {
    "collapsed": false
   }
  },
  {
   "cell_type": "code",
   "execution_count": 693,
   "outputs": [],
   "source": [
    "nc['city'] = nc['city'].str.strip()"
   ],
   "metadata": {
    "collapsed": false,
    "ExecuteTime": {
     "end_time": "2024-05-06T16:42:06.971022800Z",
     "start_time": "2024-05-06T16:42:06.851374900Z"
    }
   }
  },
  {
   "cell_type": "code",
   "execution_count": 694,
   "outputs": [],
   "source": [
    "bc['city'] = bc['city'].str.strip()"
   ],
   "metadata": {
    "collapsed": false,
    "ExecuteTime": {
     "end_time": "2024-05-06T16:42:06.971022800Z",
     "start_time": "2024-05-06T16:42:06.854222100Z"
    }
   }
  },
  {
   "cell_type": "markdown",
   "source": [],
   "metadata": {
    "collapsed": false
   }
  },
  {
   "cell_type": "markdown",
   "source": [
    "# ZAD 8 Należy zmienić nazwę kolumny cusrecentorder na RecentOrder, dla danych z NewCustomer w tej kolumnie proszę wstawić datę 1 marca 2020 w odpowiednim formacie"
   ],
   "metadata": {
    "collapsed": false
   }
  },
  {
   "cell_type": "code",
   "execution_count": 695,
   "outputs": [],
   "source": [
    "bc = bc.rename(columns={'cusrecentorder':'RecentOrder'})"
   ],
   "metadata": {
    "collapsed": false,
    "ExecuteTime": {
     "end_time": "2024-05-06T16:42:06.972022500Z",
     "start_time": "2024-05-06T16:42:06.857932400Z"
    }
   }
  },
  {
   "cell_type": "code",
   "execution_count": 696,
   "outputs": [],
   "source": [
    "nc['RecentOrder'] = '3/1/2020'"
   ],
   "metadata": {
    "collapsed": false,
    "ExecuteTime": {
     "end_time": "2024-05-06T16:42:06.972022500Z",
     "start_time": "2024-05-06T16:42:06.860430100Z"
    }
   }
  },
  {
   "cell_type": "markdown",
   "source": [
    "# ZAD 1 i ZAD 9"
   ],
   "metadata": {
    "collapsed": false
   }
  },
  {
   "cell_type": "code",
   "execution_count": 697,
   "outputs": [],
   "source": [
    "bc = bc.rename(columns={'cusnum':'ID'})"
   ],
   "metadata": {
    "collapsed": false,
    "ExecuteTime": {
     "end_time": "2024-05-06T16:42:06.973015200Z",
     "start_time": "2024-05-06T16:42:06.863581300Z"
    }
   }
  },
  {
   "cell_type": "markdown",
   "source": [
    "# Połączenie tabel"
   ],
   "metadata": {
    "collapsed": false
   }
  },
  {
   "cell_type": "code",
   "execution_count": 698,
   "outputs": [
    {
     "data": {
      "text/plain": "                ID             Name                     email         phone  \\\n0              A01       JIM A SEMP            jsemp@mail.com  123-654-2344   \n1              A03       LAURA VAIL    laura.vail@hotmail.com  756-345-6789   \n2              A05      AL'S BAKERY          al@alsbakery.com  213-543-2342   \n3              A07  JANET R WENDELL            jwen@yahoo.com  434-786-3453   \n4              A09    ALICIA ALBERT         aalbert@gmail.com  234-678-9234   \n5              A11       HENRY KOBB          hank@kobbfam.net  234-098-7464   \n6              A13    CORNER MARKET  manager@cornermarket.com  222-837-6455   \n7              A15     PAUL E TOLBY           pt23@school.edu  995-234-5656   \n8              A17      OLIVE PLESS         opless@pctech.com  234-765-2233   \n9              A19   REMMY L WALKER            walk.r@aol.com  969-234-8367   \n10             A21           71CAFE         71Csqhill@pgh.org  412-098-8984   \n11       C1             JILL FRANKS                       NaN           NaN   \n12     C2                 SAL YATES                       NaN           NaN   \n13       C3            WILL RATLIFF                       NaN           NaN   \n14       C4              FRAN VICKS                       NaN           NaN   \n15  C5                 BILLY MURRAY                       NaN           NaN   \n16         C7               KLINE'S                       NaN           NaN   \n\n                      Address        city state    zip RecentOrder  \\\n0    123 Main Street Suite 23  Pittsburgh    PA  15217    5/1/2018   \n1                23 Oak Lane   Morgantown    WV  26501    6/1/2016   \n2              846 Fifth Ave   Pittsburgh    PA  15219   8/12/2011   \n3   23212 Fern Circle Apt 100  Washington    DC  20001  11/24/2014   \n4             432 Forbes Ave   Pittsburgh    PA  15229    6/3/2014   \n5      10 Dairy Way 2nd Floor  Pittsburgh    PA  15229    3/5/2013   \n6           1500 Bruster Way         Ross    PA  15237    6/2/2018   \n7               230 Route 12         Ross    PA  15237   7/13/2018   \n8             15 Horse Alley      Oakland    PA  15213   9/16/2017   \n9             100 Silver Hwy      Oakland    PA  15213    8/1/2017   \n10           3322 Forbes Ave   Pittsburgh    PA  15434  11/11/2018   \n11                111 Lake Dr  Pittsburgh    PA  15212    3/1/2020   \n12             57 College Way  Morgantown    WV  26501    3/1/2020   \n13              544 Fifth Ave  Pittsburgh    PA  15219    3/1/2020   \n14          10332 West Street  McCandless    PA  15234    3/1/2020   \n15          2333 N Bellefield  Pittsburgh    PA  15213    3/1/2020   \n16      500 West South Street  Pittsburgh    PA  15219    3/1/2020   \n\n        ContactPref             Contact  \n0               NaN                 NaN  \n1               NaN                 NaN  \n2               NaN                 NaN  \n3               NaN                 NaN  \n4               NaN                 NaN  \n5               NaN                 NaN  \n6               NaN                 NaN  \n7               NaN                 NaN  \n8               NaN                 NaN  \n9               NaN                 NaN  \n10              NaN                 NaN  \n11            email   jf773@hotmail.com  \n12            phone        724-234-6542  \n13            email      ratty@mail.com  \n14  phone                  904-123-8337  \n15            email       bmbm@pitt.edu  \n16            email  klines2@klines.com  ",
      "text/html": "<div>\n<style scoped>\n    .dataframe tbody tr th:only-of-type {\n        vertical-align: middle;\n    }\n\n    .dataframe tbody tr th {\n        vertical-align: top;\n    }\n\n    .dataframe thead th {\n        text-align: right;\n    }\n</style>\n<table border=\"1\" class=\"dataframe\">\n  <thead>\n    <tr style=\"text-align: right;\">\n      <th></th>\n      <th>ID</th>\n      <th>Name</th>\n      <th>email</th>\n      <th>phone</th>\n      <th>Address</th>\n      <th>city</th>\n      <th>state</th>\n      <th>zip</th>\n      <th>RecentOrder</th>\n      <th>ContactPref</th>\n      <th>Contact</th>\n    </tr>\n  </thead>\n  <tbody>\n    <tr>\n      <th>0</th>\n      <td>A01</td>\n      <td>JIM A SEMP</td>\n      <td>jsemp@mail.com</td>\n      <td>123-654-2344</td>\n      <td>123 Main Street Suite 23</td>\n      <td>Pittsburgh</td>\n      <td>PA</td>\n      <td>15217</td>\n      <td>5/1/2018</td>\n      <td>NaN</td>\n      <td>NaN</td>\n    </tr>\n    <tr>\n      <th>1</th>\n      <td>A03</td>\n      <td>LAURA VAIL</td>\n      <td>laura.vail@hotmail.com</td>\n      <td>756-345-6789</td>\n      <td>23 Oak Lane</td>\n      <td>Morgantown</td>\n      <td>WV</td>\n      <td>26501</td>\n      <td>6/1/2016</td>\n      <td>NaN</td>\n      <td>NaN</td>\n    </tr>\n    <tr>\n      <th>2</th>\n      <td>A05</td>\n      <td>AL'S BAKERY</td>\n      <td>al@alsbakery.com</td>\n      <td>213-543-2342</td>\n      <td>846 Fifth Ave</td>\n      <td>Pittsburgh</td>\n      <td>PA</td>\n      <td>15219</td>\n      <td>8/12/2011</td>\n      <td>NaN</td>\n      <td>NaN</td>\n    </tr>\n    <tr>\n      <th>3</th>\n      <td>A07</td>\n      <td>JANET R WENDELL</td>\n      <td>jwen@yahoo.com</td>\n      <td>434-786-3453</td>\n      <td>23212 Fern Circle Apt 100</td>\n      <td>Washington</td>\n      <td>DC</td>\n      <td>20001</td>\n      <td>11/24/2014</td>\n      <td>NaN</td>\n      <td>NaN</td>\n    </tr>\n    <tr>\n      <th>4</th>\n      <td>A09</td>\n      <td>ALICIA ALBERT</td>\n      <td>aalbert@gmail.com</td>\n      <td>234-678-9234</td>\n      <td>432 Forbes Ave</td>\n      <td>Pittsburgh</td>\n      <td>PA</td>\n      <td>15229</td>\n      <td>6/3/2014</td>\n      <td>NaN</td>\n      <td>NaN</td>\n    </tr>\n    <tr>\n      <th>5</th>\n      <td>A11</td>\n      <td>HENRY KOBB</td>\n      <td>hank@kobbfam.net</td>\n      <td>234-098-7464</td>\n      <td>10 Dairy Way 2nd Floor</td>\n      <td>Pittsburgh</td>\n      <td>PA</td>\n      <td>15229</td>\n      <td>3/5/2013</td>\n      <td>NaN</td>\n      <td>NaN</td>\n    </tr>\n    <tr>\n      <th>6</th>\n      <td>A13</td>\n      <td>CORNER MARKET</td>\n      <td>manager@cornermarket.com</td>\n      <td>222-837-6455</td>\n      <td>1500 Bruster Way</td>\n      <td>Ross</td>\n      <td>PA</td>\n      <td>15237</td>\n      <td>6/2/2018</td>\n      <td>NaN</td>\n      <td>NaN</td>\n    </tr>\n    <tr>\n      <th>7</th>\n      <td>A15</td>\n      <td>PAUL E TOLBY</td>\n      <td>pt23@school.edu</td>\n      <td>995-234-5656</td>\n      <td>230 Route 12</td>\n      <td>Ross</td>\n      <td>PA</td>\n      <td>15237</td>\n      <td>7/13/2018</td>\n      <td>NaN</td>\n      <td>NaN</td>\n    </tr>\n    <tr>\n      <th>8</th>\n      <td>A17</td>\n      <td>OLIVE PLESS</td>\n      <td>opless@pctech.com</td>\n      <td>234-765-2233</td>\n      <td>15 Horse Alley</td>\n      <td>Oakland</td>\n      <td>PA</td>\n      <td>15213</td>\n      <td>9/16/2017</td>\n      <td>NaN</td>\n      <td>NaN</td>\n    </tr>\n    <tr>\n      <th>9</th>\n      <td>A19</td>\n      <td>REMMY L WALKER</td>\n      <td>walk.r@aol.com</td>\n      <td>969-234-8367</td>\n      <td>100 Silver Hwy</td>\n      <td>Oakland</td>\n      <td>PA</td>\n      <td>15213</td>\n      <td>8/1/2017</td>\n      <td>NaN</td>\n      <td>NaN</td>\n    </tr>\n    <tr>\n      <th>10</th>\n      <td>A21</td>\n      <td>71CAFE</td>\n      <td>71Csqhill@pgh.org</td>\n      <td>412-098-8984</td>\n      <td>3322 Forbes Ave</td>\n      <td>Pittsburgh</td>\n      <td>PA</td>\n      <td>15434</td>\n      <td>11/11/2018</td>\n      <td>NaN</td>\n      <td>NaN</td>\n    </tr>\n    <tr>\n      <th>11</th>\n      <td>C1</td>\n      <td>JILL FRANKS</td>\n      <td>NaN</td>\n      <td>NaN</td>\n      <td>111 Lake Dr</td>\n      <td>Pittsburgh</td>\n      <td>PA</td>\n      <td>15212</td>\n      <td>3/1/2020</td>\n      <td>email</td>\n      <td>jf773@hotmail.com</td>\n    </tr>\n    <tr>\n      <th>12</th>\n      <td>C2</td>\n      <td>SAL YATES</td>\n      <td>NaN</td>\n      <td>NaN</td>\n      <td>57 College Way</td>\n      <td>Morgantown</td>\n      <td>WV</td>\n      <td>26501</td>\n      <td>3/1/2020</td>\n      <td>phone</td>\n      <td>724-234-6542</td>\n    </tr>\n    <tr>\n      <th>13</th>\n      <td>C3</td>\n      <td>WILL RATLIFF</td>\n      <td>NaN</td>\n      <td>NaN</td>\n      <td>544 Fifth Ave</td>\n      <td>Pittsburgh</td>\n      <td>PA</td>\n      <td>15219</td>\n      <td>3/1/2020</td>\n      <td>email</td>\n      <td>ratty@mail.com</td>\n    </tr>\n    <tr>\n      <th>14</th>\n      <td>C4</td>\n      <td>FRAN VICKS</td>\n      <td>NaN</td>\n      <td>NaN</td>\n      <td>10332 West Street</td>\n      <td>McCandless</td>\n      <td>PA</td>\n      <td>15234</td>\n      <td>3/1/2020</td>\n      <td>phone</td>\n      <td>904-123-8337</td>\n    </tr>\n    <tr>\n      <th>15</th>\n      <td>C5</td>\n      <td>BILLY MURRAY</td>\n      <td>NaN</td>\n      <td>NaN</td>\n      <td>2333 N Bellefield</td>\n      <td>Pittsburgh</td>\n      <td>PA</td>\n      <td>15213</td>\n      <td>3/1/2020</td>\n      <td>email</td>\n      <td>bmbm@pitt.edu</td>\n    </tr>\n    <tr>\n      <th>16</th>\n      <td>C7</td>\n      <td>KLINE'S</td>\n      <td>NaN</td>\n      <td>NaN</td>\n      <td>500 West South Street</td>\n      <td>Pittsburgh</td>\n      <td>PA</td>\n      <td>15219</td>\n      <td>3/1/2020</td>\n      <td>email</td>\n      <td>klines2@klines.com</td>\n    </tr>\n  </tbody>\n</table>\n</div>"
     },
     "execution_count": 698,
     "metadata": {},
     "output_type": "execute_result"
    }
   ],
   "source": [
    "c = pd.concat([bc, nc], axis=0, ignore_index=True)\n",
    "c = c.drop_duplicates(subset='Name', keep='first')\n",
    "c = c.reset_index(drop=True)\n",
    "c = c.rename(columns={'cusemail':'email', 'cusphone':'phone'})\n",
    "c"
   ],
   "metadata": {
    "collapsed": false,
    "ExecuteTime": {
     "end_time": "2024-05-06T16:42:06.976006Z",
     "start_time": "2024-05-06T16:42:06.866080800Z"
    }
   }
  },
  {
   "cell_type": "markdown",
   "source": [
    "# Przeniesienie danych z Contact do email i phone"
   ],
   "metadata": {
    "collapsed": false
   }
  },
  {
   "cell_type": "code",
   "execution_count": 699,
   "outputs": [
    {
     "data": {
      "text/plain": "                ID             Name                     email         phone  \\\n0              A01       JIM A SEMP            jsemp@mail.com  123-654-2344   \n1              A03       LAURA VAIL    laura.vail@hotmail.com  756-345-6789   \n2              A05      AL'S BAKERY          al@alsbakery.com  213-543-2342   \n3              A07  JANET R WENDELL            jwen@yahoo.com  434-786-3453   \n4              A09    ALICIA ALBERT         aalbert@gmail.com  234-678-9234   \n5              A11       HENRY KOBB          hank@kobbfam.net  234-098-7464   \n6              A13    CORNER MARKET  manager@cornermarket.com  222-837-6455   \n7              A15     PAUL E TOLBY           pt23@school.edu  995-234-5656   \n8              A17      OLIVE PLESS         opless@pctech.com  234-765-2233   \n9              A19   REMMY L WALKER            walk.r@aol.com  969-234-8367   \n10             A21           71CAFE         71Csqhill@pgh.org  412-098-8984   \n11       C1             JILL FRANKS         jf773@hotmail.com           NaN   \n12     C2                 SAL YATES                       NaN  724-234-6542   \n13       C3            WILL RATLIFF            ratty@mail.com           NaN   \n14       C4              FRAN VICKS                       NaN  904-123-8337   \n15  C5                 BILLY MURRAY             bmbm@pitt.edu           NaN   \n16         C7               KLINE'S        klines2@klines.com           NaN   \n\n                      Address        city state    zip RecentOrder  \n0    123 Main Street Suite 23  Pittsburgh    PA  15217    5/1/2018  \n1                23 Oak Lane   Morgantown    WV  26501    6/1/2016  \n2              846 Fifth Ave   Pittsburgh    PA  15219   8/12/2011  \n3   23212 Fern Circle Apt 100  Washington    DC  20001  11/24/2014  \n4             432 Forbes Ave   Pittsburgh    PA  15229    6/3/2014  \n5      10 Dairy Way 2nd Floor  Pittsburgh    PA  15229    3/5/2013  \n6           1500 Bruster Way         Ross    PA  15237    6/2/2018  \n7               230 Route 12         Ross    PA  15237   7/13/2018  \n8             15 Horse Alley      Oakland    PA  15213   9/16/2017  \n9             100 Silver Hwy      Oakland    PA  15213    8/1/2017  \n10           3322 Forbes Ave   Pittsburgh    PA  15434  11/11/2018  \n11                111 Lake Dr  Pittsburgh    PA  15212    3/1/2020  \n12             57 College Way  Morgantown    WV  26501    3/1/2020  \n13              544 Fifth Ave  Pittsburgh    PA  15219    3/1/2020  \n14          10332 West Street  McCandless    PA  15234    3/1/2020  \n15          2333 N Bellefield  Pittsburgh    PA  15213    3/1/2020  \n16      500 West South Street  Pittsburgh    PA  15219    3/1/2020  ",
      "text/html": "<div>\n<style scoped>\n    .dataframe tbody tr th:only-of-type {\n        vertical-align: middle;\n    }\n\n    .dataframe tbody tr th {\n        vertical-align: top;\n    }\n\n    .dataframe thead th {\n        text-align: right;\n    }\n</style>\n<table border=\"1\" class=\"dataframe\">\n  <thead>\n    <tr style=\"text-align: right;\">\n      <th></th>\n      <th>ID</th>\n      <th>Name</th>\n      <th>email</th>\n      <th>phone</th>\n      <th>Address</th>\n      <th>city</th>\n      <th>state</th>\n      <th>zip</th>\n      <th>RecentOrder</th>\n    </tr>\n  </thead>\n  <tbody>\n    <tr>\n      <th>0</th>\n      <td>A01</td>\n      <td>JIM A SEMP</td>\n      <td>jsemp@mail.com</td>\n      <td>123-654-2344</td>\n      <td>123 Main Street Suite 23</td>\n      <td>Pittsburgh</td>\n      <td>PA</td>\n      <td>15217</td>\n      <td>5/1/2018</td>\n    </tr>\n    <tr>\n      <th>1</th>\n      <td>A03</td>\n      <td>LAURA VAIL</td>\n      <td>laura.vail@hotmail.com</td>\n      <td>756-345-6789</td>\n      <td>23 Oak Lane</td>\n      <td>Morgantown</td>\n      <td>WV</td>\n      <td>26501</td>\n      <td>6/1/2016</td>\n    </tr>\n    <tr>\n      <th>2</th>\n      <td>A05</td>\n      <td>AL'S BAKERY</td>\n      <td>al@alsbakery.com</td>\n      <td>213-543-2342</td>\n      <td>846 Fifth Ave</td>\n      <td>Pittsburgh</td>\n      <td>PA</td>\n      <td>15219</td>\n      <td>8/12/2011</td>\n    </tr>\n    <tr>\n      <th>3</th>\n      <td>A07</td>\n      <td>JANET R WENDELL</td>\n      <td>jwen@yahoo.com</td>\n      <td>434-786-3453</td>\n      <td>23212 Fern Circle Apt 100</td>\n      <td>Washington</td>\n      <td>DC</td>\n      <td>20001</td>\n      <td>11/24/2014</td>\n    </tr>\n    <tr>\n      <th>4</th>\n      <td>A09</td>\n      <td>ALICIA ALBERT</td>\n      <td>aalbert@gmail.com</td>\n      <td>234-678-9234</td>\n      <td>432 Forbes Ave</td>\n      <td>Pittsburgh</td>\n      <td>PA</td>\n      <td>15229</td>\n      <td>6/3/2014</td>\n    </tr>\n    <tr>\n      <th>5</th>\n      <td>A11</td>\n      <td>HENRY KOBB</td>\n      <td>hank@kobbfam.net</td>\n      <td>234-098-7464</td>\n      <td>10 Dairy Way 2nd Floor</td>\n      <td>Pittsburgh</td>\n      <td>PA</td>\n      <td>15229</td>\n      <td>3/5/2013</td>\n    </tr>\n    <tr>\n      <th>6</th>\n      <td>A13</td>\n      <td>CORNER MARKET</td>\n      <td>manager@cornermarket.com</td>\n      <td>222-837-6455</td>\n      <td>1500 Bruster Way</td>\n      <td>Ross</td>\n      <td>PA</td>\n      <td>15237</td>\n      <td>6/2/2018</td>\n    </tr>\n    <tr>\n      <th>7</th>\n      <td>A15</td>\n      <td>PAUL E TOLBY</td>\n      <td>pt23@school.edu</td>\n      <td>995-234-5656</td>\n      <td>230 Route 12</td>\n      <td>Ross</td>\n      <td>PA</td>\n      <td>15237</td>\n      <td>7/13/2018</td>\n    </tr>\n    <tr>\n      <th>8</th>\n      <td>A17</td>\n      <td>OLIVE PLESS</td>\n      <td>opless@pctech.com</td>\n      <td>234-765-2233</td>\n      <td>15 Horse Alley</td>\n      <td>Oakland</td>\n      <td>PA</td>\n      <td>15213</td>\n      <td>9/16/2017</td>\n    </tr>\n    <tr>\n      <th>9</th>\n      <td>A19</td>\n      <td>REMMY L WALKER</td>\n      <td>walk.r@aol.com</td>\n      <td>969-234-8367</td>\n      <td>100 Silver Hwy</td>\n      <td>Oakland</td>\n      <td>PA</td>\n      <td>15213</td>\n      <td>8/1/2017</td>\n    </tr>\n    <tr>\n      <th>10</th>\n      <td>A21</td>\n      <td>71CAFE</td>\n      <td>71Csqhill@pgh.org</td>\n      <td>412-098-8984</td>\n      <td>3322 Forbes Ave</td>\n      <td>Pittsburgh</td>\n      <td>PA</td>\n      <td>15434</td>\n      <td>11/11/2018</td>\n    </tr>\n    <tr>\n      <th>11</th>\n      <td>C1</td>\n      <td>JILL FRANKS</td>\n      <td>jf773@hotmail.com</td>\n      <td>NaN</td>\n      <td>111 Lake Dr</td>\n      <td>Pittsburgh</td>\n      <td>PA</td>\n      <td>15212</td>\n      <td>3/1/2020</td>\n    </tr>\n    <tr>\n      <th>12</th>\n      <td>C2</td>\n      <td>SAL YATES</td>\n      <td>NaN</td>\n      <td>724-234-6542</td>\n      <td>57 College Way</td>\n      <td>Morgantown</td>\n      <td>WV</td>\n      <td>26501</td>\n      <td>3/1/2020</td>\n    </tr>\n    <tr>\n      <th>13</th>\n      <td>C3</td>\n      <td>WILL RATLIFF</td>\n      <td>ratty@mail.com</td>\n      <td>NaN</td>\n      <td>544 Fifth Ave</td>\n      <td>Pittsburgh</td>\n      <td>PA</td>\n      <td>15219</td>\n      <td>3/1/2020</td>\n    </tr>\n    <tr>\n      <th>14</th>\n      <td>C4</td>\n      <td>FRAN VICKS</td>\n      <td>NaN</td>\n      <td>904-123-8337</td>\n      <td>10332 West Street</td>\n      <td>McCandless</td>\n      <td>PA</td>\n      <td>15234</td>\n      <td>3/1/2020</td>\n    </tr>\n    <tr>\n      <th>15</th>\n      <td>C5</td>\n      <td>BILLY MURRAY</td>\n      <td>bmbm@pitt.edu</td>\n      <td>NaN</td>\n      <td>2333 N Bellefield</td>\n      <td>Pittsburgh</td>\n      <td>PA</td>\n      <td>15213</td>\n      <td>3/1/2020</td>\n    </tr>\n    <tr>\n      <th>16</th>\n      <td>C7</td>\n      <td>KLINE'S</td>\n      <td>klines2@klines.com</td>\n      <td>NaN</td>\n      <td>500 West South Street</td>\n      <td>Pittsburgh</td>\n      <td>PA</td>\n      <td>15219</td>\n      <td>3/1/2020</td>\n    </tr>\n  </tbody>\n</table>\n</div>"
     },
     "execution_count": 699,
     "metadata": {},
     "output_type": "execute_result"
    }
   ],
   "source": [
    "c['ContactPref'] = c['ContactPref'].str.strip()\n",
    "c['email'] = c['email'].mask(c['ContactPref'] == 'email', c['Contact'])\n",
    "c['phone'] = c['phone'].mask(c['ContactPref'] == 'phone', c['Contact'])\n",
    "# c['email'] = c['email'].where(c['ContactPref'] != 'email', c['Contact'])\n",
    "# c['phone'] = c['phone'].where(c['ContactPref'] != 'phone', c['Contact'])\n",
    "c = c.drop(columns=['ContactPref', 'Contact'])\n",
    "c"
   ],
   "metadata": {
    "collapsed": false,
    "ExecuteTime": {
     "end_time": "2024-05-06T16:42:06.976006Z",
     "start_time": "2024-05-06T16:42:06.874833300Z"
    }
   }
  },
  {
   "cell_type": "markdown",
   "source": [
    "# Zapisanie i odczytanie"
   ],
   "metadata": {
    "collapsed": false
   }
  },
  {
   "cell_type": "code",
   "execution_count": 700,
   "outputs": [],
   "source": [
    "c.to_csv(\"Customer.csv\", index=False)"
   ],
   "metadata": {
    "collapsed": false,
    "ExecuteTime": {
     "end_time": "2024-05-06T16:42:06.977002400Z",
     "start_time": "2024-05-06T16:42:06.886233800Z"
    }
   }
  },
  {
   "cell_type": "code",
   "execution_count": 701,
   "outputs": [
    {
     "data": {
      "text/plain": "                ID             Name                     email         phone  \\\n0              A01       JIM A SEMP            jsemp@mail.com  123-654-2344   \n1              A03       LAURA VAIL    laura.vail@hotmail.com  756-345-6789   \n2              A05      AL'S BAKERY          al@alsbakery.com  213-543-2342   \n3              A07  JANET R WENDELL            jwen@yahoo.com  434-786-3453   \n4              A09    ALICIA ALBERT         aalbert@gmail.com  234-678-9234   \n5              A11       HENRY KOBB          hank@kobbfam.net  234-098-7464   \n6              A13    CORNER MARKET  manager@cornermarket.com  222-837-6455   \n7              A15     PAUL E TOLBY           pt23@school.edu  995-234-5656   \n8              A17      OLIVE PLESS         opless@pctech.com  234-765-2233   \n9              A19   REMMY L WALKER            walk.r@aol.com  969-234-8367   \n10             A21           71CAFE         71Csqhill@pgh.org  412-098-8984   \n11       C1             JILL FRANKS         jf773@hotmail.com           NaN   \n12     C2                 SAL YATES                       NaN  724-234-6542   \n13       C3            WILL RATLIFF            ratty@mail.com           NaN   \n14       C4              FRAN VICKS                       NaN  904-123-8337   \n15  C5                 BILLY MURRAY             bmbm@pitt.edu           NaN   \n16         C7               KLINE'S        klines2@klines.com           NaN   \n\n                      Address        city state    zip RecentOrder  \n0    123 Main Street Suite 23  Pittsburgh    PA  15217    5/1/2018  \n1                23 Oak Lane   Morgantown    WV  26501    6/1/2016  \n2              846 Fifth Ave   Pittsburgh    PA  15219   8/12/2011  \n3   23212 Fern Circle Apt 100  Washington    DC  20001  11/24/2014  \n4             432 Forbes Ave   Pittsburgh    PA  15229    6/3/2014  \n5      10 Dairy Way 2nd Floor  Pittsburgh    PA  15229    3/5/2013  \n6           1500 Bruster Way         Ross    PA  15237    6/2/2018  \n7               230 Route 12         Ross    PA  15237   7/13/2018  \n8             15 Horse Alley      Oakland    PA  15213   9/16/2017  \n9             100 Silver Hwy      Oakland    PA  15213    8/1/2017  \n10           3322 Forbes Ave   Pittsburgh    PA  15434  11/11/2018  \n11                111 Lake Dr  Pittsburgh    PA  15212    3/1/2020  \n12             57 College Way  Morgantown    WV  26501    3/1/2020  \n13              544 Fifth Ave  Pittsburgh    PA  15219    3/1/2020  \n14          10332 West Street  McCandless    PA  15234    3/1/2020  \n15          2333 N Bellefield  Pittsburgh    PA  15213    3/1/2020  \n16      500 West South Street  Pittsburgh    PA  15219    3/1/2020  ",
      "text/html": "<div>\n<style scoped>\n    .dataframe tbody tr th:only-of-type {\n        vertical-align: middle;\n    }\n\n    .dataframe tbody tr th {\n        vertical-align: top;\n    }\n\n    .dataframe thead th {\n        text-align: right;\n    }\n</style>\n<table border=\"1\" class=\"dataframe\">\n  <thead>\n    <tr style=\"text-align: right;\">\n      <th></th>\n      <th>ID</th>\n      <th>Name</th>\n      <th>email</th>\n      <th>phone</th>\n      <th>Address</th>\n      <th>city</th>\n      <th>state</th>\n      <th>zip</th>\n      <th>RecentOrder</th>\n    </tr>\n  </thead>\n  <tbody>\n    <tr>\n      <th>0</th>\n      <td>A01</td>\n      <td>JIM A SEMP</td>\n      <td>jsemp@mail.com</td>\n      <td>123-654-2344</td>\n      <td>123 Main Street Suite 23</td>\n      <td>Pittsburgh</td>\n      <td>PA</td>\n      <td>15217</td>\n      <td>5/1/2018</td>\n    </tr>\n    <tr>\n      <th>1</th>\n      <td>A03</td>\n      <td>LAURA VAIL</td>\n      <td>laura.vail@hotmail.com</td>\n      <td>756-345-6789</td>\n      <td>23 Oak Lane</td>\n      <td>Morgantown</td>\n      <td>WV</td>\n      <td>26501</td>\n      <td>6/1/2016</td>\n    </tr>\n    <tr>\n      <th>2</th>\n      <td>A05</td>\n      <td>AL'S BAKERY</td>\n      <td>al@alsbakery.com</td>\n      <td>213-543-2342</td>\n      <td>846 Fifth Ave</td>\n      <td>Pittsburgh</td>\n      <td>PA</td>\n      <td>15219</td>\n      <td>8/12/2011</td>\n    </tr>\n    <tr>\n      <th>3</th>\n      <td>A07</td>\n      <td>JANET R WENDELL</td>\n      <td>jwen@yahoo.com</td>\n      <td>434-786-3453</td>\n      <td>23212 Fern Circle Apt 100</td>\n      <td>Washington</td>\n      <td>DC</td>\n      <td>20001</td>\n      <td>11/24/2014</td>\n    </tr>\n    <tr>\n      <th>4</th>\n      <td>A09</td>\n      <td>ALICIA ALBERT</td>\n      <td>aalbert@gmail.com</td>\n      <td>234-678-9234</td>\n      <td>432 Forbes Ave</td>\n      <td>Pittsburgh</td>\n      <td>PA</td>\n      <td>15229</td>\n      <td>6/3/2014</td>\n    </tr>\n    <tr>\n      <th>5</th>\n      <td>A11</td>\n      <td>HENRY KOBB</td>\n      <td>hank@kobbfam.net</td>\n      <td>234-098-7464</td>\n      <td>10 Dairy Way 2nd Floor</td>\n      <td>Pittsburgh</td>\n      <td>PA</td>\n      <td>15229</td>\n      <td>3/5/2013</td>\n    </tr>\n    <tr>\n      <th>6</th>\n      <td>A13</td>\n      <td>CORNER MARKET</td>\n      <td>manager@cornermarket.com</td>\n      <td>222-837-6455</td>\n      <td>1500 Bruster Way</td>\n      <td>Ross</td>\n      <td>PA</td>\n      <td>15237</td>\n      <td>6/2/2018</td>\n    </tr>\n    <tr>\n      <th>7</th>\n      <td>A15</td>\n      <td>PAUL E TOLBY</td>\n      <td>pt23@school.edu</td>\n      <td>995-234-5656</td>\n      <td>230 Route 12</td>\n      <td>Ross</td>\n      <td>PA</td>\n      <td>15237</td>\n      <td>7/13/2018</td>\n    </tr>\n    <tr>\n      <th>8</th>\n      <td>A17</td>\n      <td>OLIVE PLESS</td>\n      <td>opless@pctech.com</td>\n      <td>234-765-2233</td>\n      <td>15 Horse Alley</td>\n      <td>Oakland</td>\n      <td>PA</td>\n      <td>15213</td>\n      <td>9/16/2017</td>\n    </tr>\n    <tr>\n      <th>9</th>\n      <td>A19</td>\n      <td>REMMY L WALKER</td>\n      <td>walk.r@aol.com</td>\n      <td>969-234-8367</td>\n      <td>100 Silver Hwy</td>\n      <td>Oakland</td>\n      <td>PA</td>\n      <td>15213</td>\n      <td>8/1/2017</td>\n    </tr>\n    <tr>\n      <th>10</th>\n      <td>A21</td>\n      <td>71CAFE</td>\n      <td>71Csqhill@pgh.org</td>\n      <td>412-098-8984</td>\n      <td>3322 Forbes Ave</td>\n      <td>Pittsburgh</td>\n      <td>PA</td>\n      <td>15434</td>\n      <td>11/11/2018</td>\n    </tr>\n    <tr>\n      <th>11</th>\n      <td>C1</td>\n      <td>JILL FRANKS</td>\n      <td>jf773@hotmail.com</td>\n      <td>NaN</td>\n      <td>111 Lake Dr</td>\n      <td>Pittsburgh</td>\n      <td>PA</td>\n      <td>15212</td>\n      <td>3/1/2020</td>\n    </tr>\n    <tr>\n      <th>12</th>\n      <td>C2</td>\n      <td>SAL YATES</td>\n      <td>NaN</td>\n      <td>724-234-6542</td>\n      <td>57 College Way</td>\n      <td>Morgantown</td>\n      <td>WV</td>\n      <td>26501</td>\n      <td>3/1/2020</td>\n    </tr>\n    <tr>\n      <th>13</th>\n      <td>C3</td>\n      <td>WILL RATLIFF</td>\n      <td>ratty@mail.com</td>\n      <td>NaN</td>\n      <td>544 Fifth Ave</td>\n      <td>Pittsburgh</td>\n      <td>PA</td>\n      <td>15219</td>\n      <td>3/1/2020</td>\n    </tr>\n    <tr>\n      <th>14</th>\n      <td>C4</td>\n      <td>FRAN VICKS</td>\n      <td>NaN</td>\n      <td>904-123-8337</td>\n      <td>10332 West Street</td>\n      <td>McCandless</td>\n      <td>PA</td>\n      <td>15234</td>\n      <td>3/1/2020</td>\n    </tr>\n    <tr>\n      <th>15</th>\n      <td>C5</td>\n      <td>BILLY MURRAY</td>\n      <td>bmbm@pitt.edu</td>\n      <td>NaN</td>\n      <td>2333 N Bellefield</td>\n      <td>Pittsburgh</td>\n      <td>PA</td>\n      <td>15213</td>\n      <td>3/1/2020</td>\n    </tr>\n    <tr>\n      <th>16</th>\n      <td>C7</td>\n      <td>KLINE'S</td>\n      <td>klines2@klines.com</td>\n      <td>NaN</td>\n      <td>500 West South Street</td>\n      <td>Pittsburgh</td>\n      <td>PA</td>\n      <td>15219</td>\n      <td>3/1/2020</td>\n    </tr>\n  </tbody>\n</table>\n</div>"
     },
     "execution_count": 701,
     "metadata": {},
     "output_type": "execute_result"
    }
   ],
   "source": [
    "read = pd.read_csv(\"Customer.csv\")\n",
    "read"
   ],
   "metadata": {
    "collapsed": false,
    "ExecuteTime": {
     "end_time": "2024-05-06T16:42:06.977002400Z",
     "start_time": "2024-05-06T16:42:06.889100900Z"
    }
   }
  },
  {
   "cell_type": "markdown",
   "source": [],
   "metadata": {
    "collapsed": false
   }
  }
 ],
 "metadata": {
  "kernelspec": {
   "display_name": "Python 3",
   "language": "python",
   "name": "python3"
  },
  "language_info": {
   "codemirror_mode": {
    "name": "ipython",
    "version": 2
   },
   "file_extension": ".py",
   "mimetype": "text/x-python",
   "name": "python",
   "nbconvert_exporter": "python",
   "pygments_lexer": "ipython2",
   "version": "2.7.6"
  }
 },
 "nbformat": 4,
 "nbformat_minor": 0
}
